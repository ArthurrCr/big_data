{
 "cells": [
  {
   "cell_type": "code",
   "execution_count": 1,
   "metadata": {},
   "outputs": [],
   "source": [
    "import psycopg2\n",
    "from psycopg2 import OperationalError"
   ]
  },
  {
   "cell_type": "code",
   "execution_count": 61,
   "metadata": {},
   "outputs": [],
   "source": [
    "def create_connection():\n",
    "    \"\"\"Estabelece uma conexão com o banco de dados PostgreSQL.\"\"\"\n",
    "    try:\n",
    "        connection = psycopg2.connect(\n",
    "            user=\"postgres\",\n",
    "            password=\"admin\",\n",
    "            host=\"localhost\",\n",
    "            port=\"5432\",\n",
    "            database=\"big_data\"\n",
    "        )\n",
    "        print(\"Conexão com o banco de dados estabelecida com sucesso!\")\n",
    "        return connection\n",
    "\n",
    "    except OperationalError as e:\n",
    "        print(f\"Erro ao conectar ao banco de dados: {e}\")\n",
    "        return None\n",
    "\n",
    "def close_connection(connection):\n",
    "    \"\"\"Fecha a conexão com o banco de dados.\"\"\"\n",
    "    if connection:\n",
    "        connection.close()\n",
    "        print(\"Conexão com o banco de dados fechada.\")"
   ]
  },
  {
   "cell_type": "code",
   "execution_count": 62,
   "metadata": {},
   "outputs": [
    {
     "name": "stdout",
     "output_type": "stream",
     "text": [
      "Conexão com o banco de dados estabelecida com sucesso!\n"
     ]
    }
   ],
   "source": [
    "# Criar uma conexão\n",
    "conn = create_connection()\n",
    "\n",
    "# Criar um cursor\n",
    "cursor = conn.cursor()"
   ]
  },
  {
   "cell_type": "code",
   "execution_count": 58,
   "metadata": {},
   "outputs": [
    {
     "name": "stdout",
     "output_type": "stream",
     "text": [
      "Conexão com o banco de dados fechada.\n"
     ]
    }
   ],
   "source": [
    "# encerrar conexão\n",
    "close_connection(conn)"
   ]
  },
  {
   "cell_type": "code",
   "execution_count": 63,
   "metadata": {},
   "outputs": [],
   "source": [
    "cursor.execute('''CREATE TABLE EMPREGADO (\n",
    "  ssn char(9) NOT NULL,\n",
    "  pnome varchar(30) NOT NULL,\n",
    "  inicialm char(1) default NULL,\n",
    "  unome varchar(30) NOT NULL,\n",
    "  sexo char(1) NOT NULL,\n",
    "  endereco varchar(50) default NULL,\n",
    "  datanasc date default NULL,\n",
    "  superssn char(9) default NULL,\n",
    "  dno char(1) NOT NULL,\n",
    "  salario float default NULL,\n",
    "  PRIMARY KEY  (ssn)\n",
    ") ;\n",
    "''')"
   ]
  },
  {
   "cell_type": "code",
   "execution_count": 64,
   "metadata": {},
   "outputs": [],
   "source": [
    "cursor.execute(\"INSERT INTO EMPREGADO VALUES ('123456789', 'Joao', 'B', 'Souza', 'M', 'R. 24 de maio, 1500 - Curitiba - PR', '1965-01-09', '333445555', '5', '30000.00');\")\n",
    "cursor.execute(\"INSERT INTO EMPREGADO VALUES ('333445555', 'Fabio', 'T', 'Will', 'M', 'R. Alagoas, 325 - Curitiba - PR', '1955-12-08', '888665555', '5', '40000.00');\")\n",
    "cursor.execute(\"INSERT INTO EMPREGADO VALUES ('999887777', 'Alice', 'J', 'Zebra', 'F', 'R. Ribeira, 98 - Pinhais - PR', '1968-01-19', '987654321', '4', '25000.00');\")\n",
    "cursor.execute(\"INSERT INTO EMPREGADO VALUES ('987654321', 'Jennifer', 'S', 'Wallace', 'F', 'R. Berry, 291 - Colombo - PR', '1941-06-20', '888665555', '4', '43000.00');\")\n",
    "cursor.execute(\"INSERT INTO EMPREGADO VALUES ('666884444', 'Ricardo', 'K', 'Nantes', 'M', 'Av. Figueira, 55 - Almirante Tamandare - PR', '1962-09-15', '333445555', '5', '38000.00');\")\n",
    "cursor.execute(\"INSERT INTO EMPREGADO VALUES ('453453453', 'Jussara', 'A', 'Pereira', 'F', 'Trav. da Lapa, 23 - Curitiba - PR', '1972-07-31', '333445555', '5', '25000.00');\")\n",
    "cursor.execute(\"INSERT INTO EMPREGADO VALUES ('987987987', 'Alberto', 'V', 'Medeiros', 'M', 'R. Ceará, 1245 - Curitiba - PR', '1969-03-29', '987654321', '4', '25000.00');\")\n",
    "cursor.execute(\"INSERT INTO EMPREGADO VALUES ('888665555', 'Joaquim', 'E', 'Brito', 'M', 'R. Stone, 450 - Curitiba - PR', '1937-11-10', null, '1', '55000.00');\")"
   ]
  },
  {
   "cell_type": "code",
   "execution_count": 65,
   "metadata": {},
   "outputs": [],
   "source": [
    "cursor.execute('''CREATE TABLE DEPARTAMENTO (\n",
    "  dnumero char(1) NOT NULL,\n",
    "  dnome varchar(30) NOT NULL,\n",
    "  gerssn char(9) NOT NULL,\n",
    "  gerdatainicio date NOT NULL,\n",
    "  PRIMARY KEY  (dnumero)\n",
    ") ;\n",
    "''')"
   ]
  },
  {
   "cell_type": "code",
   "execution_count": 66,
   "metadata": {},
   "outputs": [],
   "source": [
    "cursor.execute(\"INSERT INTO DEPARTAMENTO VALUES ('5', 'Pesquisa', '333445555', '1988-05-22');\")\n",
    "cursor.execute(\"INSERT INTO DEPARTAMENTO VALUES ('4', 'Administracao', '987654321', '1995-01-01');\")\n",
    "cursor.execute(\"INSERT INTO DEPARTAMENTO VALUES ('1', 'Sede Administrativa', '888665555', '1981-06-19');\")"
   ]
  },
  {
   "cell_type": "code",
   "execution_count": 67,
   "metadata": {},
   "outputs": [],
   "source": [
    "cursor.execute('''\n",
    "CREATE TABLE DEPENDENTE (\n",
    "  essn char(9) NOT NULL,\n",
    "  nomedep varchar(30) NOT NULL default '',\n",
    "  sexodep char(1) NOT NULL,\n",
    "  datanascdep date NOT NULL,\n",
    "  parentesco varchar(30) NOT NULL,\n",
    "  PRIMARY KEY  (essn,nomedep)\n",
    ") ;\n",
    "''')"
   ]
  },
  {
   "cell_type": "code",
   "execution_count": 68,
   "metadata": {},
   "outputs": [],
   "source": [
    "cursor.execute(\"INSERT INTO DEPENDENTE VALUES ('333445555', 'Alice', 'F', '1986-04-05', 'FILHA');\")\n",
    "cursor.execute(\"INSERT INTO DEPENDENTE VALUES ('333445555', 'Teodoro', 'M', '1983-10-25', 'FILHO');\")\n",
    "cursor.execute(\"INSERT INTO DEPENDENTE VALUES ('333445555', 'Joana', 'F', '1958-05-03', 'CONJUGE');\")\n",
    "cursor.execute(\"INSERT INTO DEPENDENTE VALUES ('987654321', 'Abdala', 'M', '1942-02-28', 'CONJUGE');\")\n",
    "cursor.execute(\"INSERT INTO DEPENDENTE VALUES ('123456789', 'Michel', 'M', '1988-01-04', 'FILHO');\")\n",
    "cursor.execute(\"INSERT INTO DEPENDENTE VALUES ('123456789', 'Alice', 'F', '1988-12-30', 'FILHA');\")\n",
    "cursor.execute(\"INSERT INTO DEPENDENTE VALUES ('123456789', 'Elizabete', 'F', '1967-05-05', 'CONJUGE');\")"
   ]
  },
  {
   "cell_type": "code",
   "execution_count": 69,
   "metadata": {},
   "outputs": [],
   "source": [
    "cursor.execute('''\n",
    "CREATE TABLE LOCALIZACAO (\n",
    "  dnum char(1) NOT NULL,\n",
    "  dlocalizacao varchar(30) NOT NULL,\n",
    "  PRIMARY KEY  (dnum,dlocalizacao)\n",
    ") ;\n",
    "''')"
   ]
  },
  {
   "cell_type": "code",
   "execution_count": 70,
   "metadata": {},
   "outputs": [],
   "source": [
    "cursor.execute(\"INSERT INTO LOCALIZACAO VALUES ('1', 'Curitiba');\")\n",
    "cursor.execute(\"INSERT INTO LOCALIZACAO VALUES ('4', 'Colombo');\")\n",
    "cursor.execute(\"INSERT INTO LOCALIZACAO VALUES ('5', 'Araucaria');\")\n",
    "cursor.execute(\"INSERT INTO LOCALIZACAO VALUES ('5', 'Curitiba');\")\n",
    "cursor.execute(\"INSERT INTO LOCALIZACAO VALUES ('5', 'Pinhais');\")"
   ]
  },
  {
   "cell_type": "code",
   "execution_count": 71,
   "metadata": {},
   "outputs": [],
   "source": [
    "cursor.execute('''\n",
    "CREATE TABLE PROJETO (\n",
    "  pnumero char(2) NOT NULL,\n",
    "  pjnome varchar(30) NOT NULL,\n",
    "  plocal varchar(30) NOT NULL,\n",
    "  dnum char(1) NOT NULL,\n",
    "  PRIMARY KEY  (pnumero)\n",
    ") ;\n",
    "''')"
   ]
  },
  {
   "cell_type": "code",
   "execution_count": 72,
   "metadata": {},
   "outputs": [],
   "source": [
    "cursor.execute(\"INSERT INTO PROJETO VALUES ('1', 'ProdutoX', 'Pinhais', '5');\")\n",
    "cursor.execute(\"INSERT INTO PROJETO VALUES ('2', 'ProdutoY', 'Araucaria', '5');\")\n",
    "cursor.execute(\"INSERT INTO PROJETO VALUES ('3', 'ProdutoZ', 'Curitiba', '5');\")\n",
    "cursor.execute(\"INSERT INTO PROJETO VALUES ('10', 'Automatizacao', 'Pinhais', '4');\")\n",
    "cursor.execute(\"INSERT INTO PROJETO VALUES ('20', 'Reorganizacao', 'Curitiba', '1');\")\n",
    "cursor.execute(\"INSERT INTO PROJETO VALUES ('30', 'Novos Beneficios', 'Pinhais', '4');\")"
   ]
  },
  {
   "cell_type": "code",
   "execution_count": 73,
   "metadata": {},
   "outputs": [],
   "source": [
    "cursor.execute('''\n",
    "CREATE TABLE TRABALHA (\n",
    "  essn char(9) NOT NULL,\n",
    "  pno char(2) NOT NULL,\n",
    "  horas float default NULL,\n",
    "  PRIMARY KEY  (essn,pno)\n",
    ") ;\n",
    "''')"
   ]
  },
  {
   "cell_type": "code",
   "execution_count": 74,
   "metadata": {},
   "outputs": [],
   "source": [
    "cursor.execute(\"INSERT INTO TRABALHA VALUES ('123456789', '1', '32.5');\")\n",
    "cursor.execute(\"INSERT INTO TRABALHA VALUES ('123456789', '2', '7.5');\")\n",
    "cursor.execute(\"INSERT INTO TRABALHA VALUES ('666884444', '3', '40');\")\n",
    "cursor.execute(\"INSERT INTO TRABALHA VALUES ('453453453', '1', '20');\")\n",
    "cursor.execute(\"INSERT INTO TRABALHA VALUES ('453453453', '2', '20');\")\n",
    "cursor.execute(\"INSERT INTO TRABALHA VALUES ('333445555', '2', '10');\")\n",
    "cursor.execute(\"INSERT INTO TRABALHA VALUES ('333445555', '3', '10');\")\n",
    "cursor.execute(\"INSERT INTO TRABALHA VALUES ('333445555', '10', '10');\")\n",
    "cursor.execute(\"INSERT INTO TRABALHA VALUES ('333445555', '20', '10');\")\n",
    "cursor.execute(\"INSERT INTO TRABALHA VALUES ('999887777', '30', '30');\")\n",
    "cursor.execute(\"INSERT INTO TRABALHA VALUES ('999887777', '10', '10');\")\n",
    "cursor.execute(\"INSERT INTO TRABALHA VALUES ('987987987', '10', '35');\")\n",
    "cursor.execute(\"INSERT INTO TRABALHA VALUES ('987987987', '30', '5');\")\n",
    "cursor.execute(\"INSERT INTO TRABALHA VALUES ('987654321', '30', '20');\")\n",
    "cursor.execute(\"INSERT INTO TRABALHA VALUES ('987654321', '20', '15');\")\n",
    "cursor.execute(\"INSERT INTO TRABALHA VALUES ('888665555', '20', null);\")"
   ]
  },
  {
   "cell_type": "code",
   "execution_count": 75,
   "metadata": {},
   "outputs": [],
   "source": [
    "cursor.execute(\"ALTER TABLE EMPREGADO ADD CONSTRAINT fk_empregado_empregado  FOREIGN KEY (superssn) REFERENCES  EMPREGADO (ssn);\")\n",
    "cursor.execute(\"ALTER TABLE EMPREGADO ADD CONSTRAINT fk_empregado_departamento FOREIGN KEY  (dno) REFERENCES  DEPARTAMENTO (dnumero) ;\")\n",
    "cursor.execute(\"ALTER TABLE DEPARTAMENTO ADD CONSTRAINT fk_departamento_empregado FOREIGN KEY (gerssn) REFERENCES  EMPREGADO (ssn) ;\")\n",
    "cursor.execute(\"ALTER TABLE DEPENDENTE ADD CONSTRAINT fk_dependente_empregado FOREIGN KEY (essn) REFERENCES EMPREGADO (ssn) ;\")\n",
    "cursor.execute(\"ALTER TABLE LOCALIZACAO ADD CONSTRAINT fk_localizacao_departamento FOREIGN KEY (dnum) REFERENCES  DEPARTAMENTO (dnumero) ;\")\n",
    "cursor.execute(\"ALTER TABLE PROJETO ADD CONSTRAINT fk_projeto_departamento FOREIGN KEY (dnum) REFERENCES  DEPARTAMENTO (dnumero) ;\")\n",
    "cursor.execute(\"ALTER TABLE TRABALHA ADD CONSTRAINT fk_trabalha_empregado FOREIGN KEY (essn) REFERENCES  EMPREGADO (ssn) ;\")\n",
    "cursor.execute(\"ALTER TABLE TRABALHA ADD CONSTRAINT fk_trabalha_projeto FOREIGN KEY (pno) REFERENCES  PROJETO (pnumero) ;\")\n",
    "               \n",
    "# Commitar as transações\n",
    "conn.commit()"
   ]
  },
  {
   "cell_type": "markdown",
   "metadata": {},
   "source": [
    "a) Insira >‘943775543’, ‘Roberto’, ‘F’, ‘Silva’, ‘M’, ‘Rua X, 22 – Araucária – PR’, ‘1952-06-21’,\n",
    "‘888665555’, ‘1’, 58000< em EMPREGADO."
   ]
  },
  {
   "cell_type": "code",
   "execution_count": 76,
   "metadata": {},
   "outputs": [],
   "source": [
    "cursor.execute(\"INSERT INTO EMPREGADO VALUES ('943775543', 'Roberto', 'F', 'Silva', 'M', 'Rua X, 22 – Araucária – PR', '1952-06-21', '888665555', '1', '58000');\")\n",
    "# Confirmar a transação\n",
    "conn.commit()"
   ]
  },
  {
   "cell_type": "code",
   "execution_count": 77,
   "metadata": {},
   "outputs": [
    {
     "name": "stdout",
     "output_type": "stream",
     "text": [
      "('123456789', 'Joao', 'B', 'Souza', 'M', 'R. 24 de maio, 1500 - Curitiba - PR', datetime.date(1965, 1, 9), '333445555', '5', 30000.0)\n",
      "('333445555', 'Fabio', 'T', 'Will', 'M', 'R. Alagoas, 325 - Curitiba - PR', datetime.date(1955, 12, 8), '888665555', '5', 40000.0)\n",
      "('999887777', 'Alice', 'J', 'Zebra', 'F', 'R. Ribeira, 98 - Pinhais - PR', datetime.date(1968, 1, 19), '987654321', '4', 25000.0)\n",
      "('987654321', 'Jennifer', 'S', 'Wallace', 'F', 'R. Berry, 291 - Colombo - PR', datetime.date(1941, 6, 20), '888665555', '4', 43000.0)\n",
      "('666884444', 'Ricardo', 'K', 'Nantes', 'M', 'Av. Figueira, 55 - Almirante Tamandare - PR', datetime.date(1962, 9, 15), '333445555', '5', 38000.0)\n",
      "('453453453', 'Jussara', 'A', 'Pereira', 'F', 'Trav. da Lapa, 23 - Curitiba - PR', datetime.date(1972, 7, 31), '333445555', '5', 25000.0)\n",
      "('987987987', 'Alberto', 'V', 'Medeiros', 'M', 'R. Ceará, 1245 - Curitiba - PR', datetime.date(1969, 3, 29), '987654321', '4', 25000.0)\n",
      "('888665555', 'Joaquim', 'E', 'Brito', 'M', 'R. Stone, 450 - Curitiba - PR', datetime.date(1937, 11, 10), None, '1', 55000.0)\n",
      "('943775543', 'Roberto', 'F', 'Silva', 'M', 'Rua X, 22 – Araucária – PR', datetime.date(1952, 6, 21), '888665555', '1', 58000.0)\n"
     ]
    }
   ],
   "source": [
    "cursor.execute(\"SELECT * FROM EMPREGADO;\")\n",
    "rows = cursor.fetchall()\n",
    "\n",
    "# Iterar sobre os resultados e imprimir\n",
    "for row in rows:\n",
    "    print(row)"
   ]
  },
  {
   "cell_type": "markdown",
   "metadata": {},
   "source": [
    "b) Insira >‘4’, ProdutoA’, ‘Araucaria’, ‘2’< em PROJETO"
   ]
  },
  {
   "cell_type": "code",
   "execution_count": 41,
   "metadata": {},
   "outputs": [
    {
     "ename": "ForeignKeyViolation",
     "evalue": "ERRO:  inserção ou atualização em tabela \"projeto\" viola restrição de chave estrangeira \"fk_projeto_departamento\"\nDETAIL:  Chave (dnum)=(2) não está presente na tabela \"departamento\".\n",
     "output_type": "error",
     "traceback": [
      "\u001b[1;31m---------------------------------------------------------------------------\u001b[0m",
      "\u001b[1;31mForeignKeyViolation\u001b[0m                       Traceback (most recent call last)",
      "Cell \u001b[1;32mIn [41], line 1\u001b[0m\n\u001b[1;32m----> 1\u001b[0m \u001b[43mcursor\u001b[49m\u001b[38;5;241;43m.\u001b[39;49m\u001b[43mexecute\u001b[49m\u001b[43m(\u001b[49m\u001b[38;5;124;43m\"\u001b[39;49m\u001b[38;5;124;43mINSERT INTO PROJETO VALUES (\u001b[39;49m\u001b[38;5;124;43m'\u001b[39;49m\u001b[38;5;124;43m4\u001b[39;49m\u001b[38;5;124;43m'\u001b[39;49m\u001b[38;5;124;43m, \u001b[39;49m\u001b[38;5;124;43m'\u001b[39;49m\u001b[38;5;124;43mProdutoA\u001b[39;49m\u001b[38;5;124;43m'\u001b[39;49m\u001b[38;5;124;43m, \u001b[39;49m\u001b[38;5;124;43m'\u001b[39;49m\u001b[38;5;124;43mAraucaria\u001b[39;49m\u001b[38;5;124;43m'\u001b[39;49m\u001b[38;5;124;43m, \u001b[39;49m\u001b[38;5;124;43m'\u001b[39;49m\u001b[38;5;124;43m2\u001b[39;49m\u001b[38;5;124;43m'\u001b[39;49m\u001b[38;5;124;43m);\u001b[39;49m\u001b[38;5;124;43m\"\u001b[39;49m\u001b[43m)\u001b[49m\n",
      "\u001b[1;31mForeignKeyViolation\u001b[0m: ERRO:  inserção ou atualização em tabela \"projeto\" viola restrição de chave estrangeira \"fk_projeto_departamento\"\nDETAIL:  Chave (dnum)=(2) não está presente na tabela \"departamento\".\n"
     ]
    }
   ],
   "source": [
    "cursor.execute(\"INSERT INTO PROJETO VALUES ('4', 'ProdutoA', 'Araucaria', '2');\")"
   ]
  },
  {
   "cell_type": "code",
   "execution_count": 78,
   "metadata": {},
   "outputs": [
    {
     "name": "stdout",
     "output_type": "stream",
     "text": [
      "('5', 'Pesquisa', '333445555', datetime.date(1988, 5, 22))\n",
      "('4', 'Administracao', '987654321', datetime.date(1995, 1, 1))\n",
      "('1', 'Sede Administrativa', '888665555', datetime.date(1981, 6, 19))\n"
     ]
    }
   ],
   "source": [
    "cursor.execute(\"SELECT * FROM DEPARTAMENTO;\")\n",
    "rows = cursor.fetchall()\n",
    "\n",
    "# Iterar sobre os resultados e imprimir\n",
    "for row in rows:\n",
    "    print(row)"
   ]
  },
  {
   "cell_type": "markdown",
   "metadata": {},
   "source": [
    "A tabela departamento não possui nenhum registro dnumero igual a 2, e esse atributo é chave primária, portanto ao tentar inserir um novo registro em projeto, com dnumero igual a 2, o banco de dados irá retorna um erro de chave estrangeira, pois não existe um departamento com dnumero igual a 2."
   ]
  },
  {
   "cell_type": "markdown",
   "metadata": {},
   "source": [
    "c) Insira >‘4’, ‘Produção’, ‘943775543’, ‘1998-10-01’< em DEPARTAMENTO."
   ]
  },
  {
   "cell_type": "code",
   "execution_count": 50,
   "metadata": {},
   "outputs": [
    {
     "ename": "UniqueViolation",
     "evalue": "ERRO:  duplicar valor da chave viola a restrição de unicidade \"departamento_pkey\"\nDETAIL:  Chave (dnumero)=(4) já existe.\n",
     "output_type": "error",
     "traceback": [
      "\u001b[1;31m---------------------------------------------------------------------------\u001b[0m",
      "\u001b[1;31mUniqueViolation\u001b[0m                           Traceback (most recent call last)",
      "Cell \u001b[1;32mIn [50], line 1\u001b[0m\n\u001b[1;32m----> 1\u001b[0m \u001b[43mcursor\u001b[49m\u001b[38;5;241;43m.\u001b[39;49m\u001b[43mexecute\u001b[49m\u001b[43m(\u001b[49m\u001b[38;5;124;43m\"\u001b[39;49m\u001b[38;5;124;43mINSERT INTO DEPARTAMENTO VALUES (\u001b[39;49m\u001b[38;5;124;43m'\u001b[39;49m\u001b[38;5;124;43m4\u001b[39;49m\u001b[38;5;124;43m'\u001b[39;49m\u001b[38;5;124;43m, \u001b[39;49m\u001b[38;5;124;43m'\u001b[39;49m\u001b[38;5;124;43mProdução\u001b[39;49m\u001b[38;5;124;43m'\u001b[39;49m\u001b[38;5;124;43m, \u001b[39;49m\u001b[38;5;124;43m'\u001b[39;49m\u001b[38;5;124;43m943775543\u001b[39;49m\u001b[38;5;124;43m'\u001b[39;49m\u001b[38;5;124;43m, \u001b[39;49m\u001b[38;5;124;43m'\u001b[39;49m\u001b[38;5;124;43m1998-10-01\u001b[39;49m\u001b[38;5;124;43m'\u001b[39;49m\u001b[38;5;124;43m);\u001b[39;49m\u001b[38;5;124;43m\"\u001b[39;49m\u001b[43m)\u001b[49m\n\u001b[0;32m      2\u001b[0m \u001b[38;5;66;03m# Confirmar a transação\u001b[39;00m\n\u001b[0;32m      3\u001b[0m conn\u001b[38;5;241m.\u001b[39mcommit()\n",
      "\u001b[1;31mUniqueViolation\u001b[0m: ERRO:  duplicar valor da chave viola a restrição de unicidade \"departamento_pkey\"\nDETAIL:  Chave (dnumero)=(4) já existe.\n"
     ]
    }
   ],
   "source": [
    "cursor.execute(\"INSERT INTO DEPARTAMENTO VALUES ('4', 'Produção', '943775543', '1998-10-01');\")\n",
    "# Confirmar a transação\n",
    "conn.commit()"
   ]
  },
  {
   "cell_type": "markdown",
   "metadata": {},
   "source": [
    "dnumero é chave primária na tabela departamento, e o valor 4 já existe, portanto ao tentar inserir um novo registro em departamento, com dnumero igual a 4, o banco de dados irá retorna um erro de chave primária, pois já existe um departamento com dnumero igual a 4."
   ]
  },
  {
   "cell_type": "markdown",
   "metadata": {},
   "source": [
    "d) Insira >‘677678989’, null, 40.0< em TRABALHA"
   ]
  },
  {
   "cell_type": "code",
   "execution_count": 54,
   "metadata": {},
   "outputs": [
    {
     "ename": "StringDataRightTruncation",
     "evalue": "ERRO:  valor é muito longo para tipo character(2)\n",
     "output_type": "error",
     "traceback": [
      "\u001b[1;31m---------------------------------------------------------------------------\u001b[0m",
      "\u001b[1;31mStringDataRightTruncation\u001b[0m                 Traceback (most recent call last)",
      "Cell \u001b[1;32mIn [54], line 1\u001b[0m\n\u001b[1;32m----> 1\u001b[0m \u001b[43mcursor\u001b[49m\u001b[38;5;241;43m.\u001b[39;49m\u001b[43mexecute\u001b[49m\u001b[43m(\u001b[49m\u001b[38;5;124;43m\"\u001b[39;49m\u001b[38;5;124;43mINSERT INTO TRABALHA VALUES (\u001b[39;49m\u001b[38;5;124;43m'\u001b[39;49m\u001b[38;5;124;43m677678989\u001b[39;49m\u001b[38;5;124;43m'\u001b[39;49m\u001b[38;5;124;43m, \u001b[39;49m\u001b[38;5;124;43m'\u001b[39;49m\u001b[38;5;124;43mnull\u001b[39;49m\u001b[38;5;124;43m'\u001b[39;49m\u001b[38;5;124;43m, \u001b[39;49m\u001b[38;5;124;43m'\u001b[39;49m\u001b[38;5;124;43m40.0\u001b[39;49m\u001b[38;5;124;43m'\u001b[39;49m\u001b[38;5;124;43m);\u001b[39;49m\u001b[38;5;124;43m\"\u001b[39;49m\u001b[43m)\u001b[49m\n\u001b[0;32m      2\u001b[0m \u001b[38;5;66;03m# Confirmar a transação\u001b[39;00m\n\u001b[0;32m      3\u001b[0m conn\u001b[38;5;241m.\u001b[39mcommit()\n",
      "\u001b[1;31mStringDataRightTruncation\u001b[0m: ERRO:  valor é muito longo para tipo character(2)\n"
     ]
    }
   ],
   "source": [
    "cursor.execute(\"INSERT INTO TRABALHA VALUES ('677678989', 'null', '40.0');\")\n",
    "# Confirmar a transação\n",
    "conn.commit()"
   ]
  },
  {
   "cell_type": "markdown",
   "metadata": {},
   "source": [
    "O campo pno aceita apenas char com 2 caracteres, e o valor inserido 'null' possui 4 caracteres, portanto o banco de dados irá retornar um erro de tipo de dados."
   ]
  },
  {
   "cell_type": "markdown",
   "metadata": {},
   "source": [
    "e) Insira >‘453453453’, ‘Joao’, ‘M’, ‘1970-12-12’, ‘CONJUGE’< em DEPENDENTE."
   ]
  },
  {
   "cell_type": "code",
   "execution_count": 79,
   "metadata": {},
   "outputs": [],
   "source": [
    "cursor.execute(\"INSERT INTO DEPENDENTE VALUES ('453453453', 'Joao', 'M', '1970-12-12', 'CONJUGE');\")\n",
    "# Confirmar a transação\n",
    "conn.commit()"
   ]
  },
  {
   "cell_type": "code",
   "execution_count": 80,
   "metadata": {},
   "outputs": [
    {
     "name": "stdout",
     "output_type": "stream",
     "text": [
      "('333445555', 'Alice', 'F', datetime.date(1986, 4, 5), 'FILHA')\n",
      "('333445555', 'Teodoro', 'M', datetime.date(1983, 10, 25), 'FILHO')\n",
      "('333445555', 'Joana', 'F', datetime.date(1958, 5, 3), 'CONJUGE')\n",
      "('987654321', 'Abdala', 'M', datetime.date(1942, 2, 28), 'CONJUGE')\n",
      "('123456789', 'Michel', 'M', datetime.date(1988, 1, 4), 'FILHO')\n",
      "('123456789', 'Alice', 'F', datetime.date(1988, 12, 30), 'FILHA')\n",
      "('123456789', 'Elizabete', 'F', datetime.date(1967, 5, 5), 'CONJUGE')\n",
      "('453453453', 'Joao', 'M', datetime.date(1970, 12, 12), 'CONJUGE')\n"
     ]
    }
   ],
   "source": [
    "cursor.execute(\"SELECT * FROM DEPENDENTE;\")\n",
    "rows = cursor.fetchall()\n",
    "\n",
    "# Iterar sobre os resultados e imprimir\n",
    "for row in rows:\n",
    "    print(row)"
   ]
  },
  {
   "cell_type": "markdown",
   "metadata": {},
   "source": [
    "f) Remova as tuplas de TRABALHA com ESSN = ‘333445555’"
   ]
  },
  {
   "cell_type": "code",
   "execution_count": 81,
   "metadata": {},
   "outputs": [],
   "source": [
    "cursor.execute(\"DELETE FROM TRABALHA WHERE essn = '333445555';\")\n",
    "# Confirmar a transação\n",
    "conn.commit()"
   ]
  },
  {
   "cell_type": "code",
   "execution_count": 82,
   "metadata": {},
   "outputs": [
    {
     "name": "stdout",
     "output_type": "stream",
     "text": [
      "('123456789', '1 ', 32.5)\n",
      "('123456789', '2 ', 7.5)\n",
      "('666884444', '3 ', 40.0)\n",
      "('453453453', '1 ', 20.0)\n",
      "('453453453', '2 ', 20.0)\n",
      "('999887777', '30', 30.0)\n",
      "('999887777', '10', 10.0)\n",
      "('987987987', '10', 35.0)\n",
      "('987987987', '30', 5.0)\n",
      "('987654321', '30', 20.0)\n",
      "('987654321', '20', 15.0)\n",
      "('888665555', '20', None)\n"
     ]
    }
   ],
   "source": [
    "cursor.execute(\"SELECT * FROM TRABALHA;\")\n",
    "rows = cursor.fetchall()\n",
    "\n",
    "# Iterar sobre os resultados e imprimir\n",
    "for row in rows:\n",
    "    print(row)"
   ]
  },
  {
   "cell_type": "markdown",
   "metadata": {},
   "source": [
    "g) Remova a tupla de EMPREGADO com SSN = ‘987654321’."
   ]
  },
  {
   "cell_type": "code",
   "execution_count": 61,
   "metadata": {},
   "outputs": [
    {
     "ename": "ForeignKeyViolation",
     "evalue": "ERRO:  atualização ou exclusão em tabela \"empregado\" viola restrição de chave estrangeira \"fk_empregado_empregado\" em \"empregado\"\nDETAIL:  Chave (ssn)=(987654321) ainda é referenciada pela tabela \"empregado\".\n",
     "output_type": "error",
     "traceback": [
      "\u001b[1;31m---------------------------------------------------------------------------\u001b[0m",
      "\u001b[1;31mForeignKeyViolation\u001b[0m                       Traceback (most recent call last)",
      "Cell \u001b[1;32mIn [61], line 1\u001b[0m\n\u001b[1;32m----> 1\u001b[0m \u001b[43mcursor\u001b[49m\u001b[38;5;241;43m.\u001b[39;49m\u001b[43mexecute\u001b[49m\u001b[43m(\u001b[49m\u001b[38;5;124;43m\"\u001b[39;49m\u001b[38;5;124;43mDELETE FROM EMPREGADO WHERE ssn = \u001b[39;49m\u001b[38;5;124;43m'\u001b[39;49m\u001b[38;5;124;43m987654321\u001b[39;49m\u001b[38;5;124;43m'\u001b[39;49m\u001b[38;5;124;43m;\u001b[39;49m\u001b[38;5;124;43m\"\u001b[39;49m\u001b[43m)\u001b[49m\n\u001b[0;32m      2\u001b[0m \u001b[38;5;66;03m# Confirmar a transação\u001b[39;00m\n\u001b[0;32m      3\u001b[0m conn\u001b[38;5;241m.\u001b[39mcommit()\n",
      "\u001b[1;31mForeignKeyViolation\u001b[0m: ERRO:  atualização ou exclusão em tabela \"empregado\" viola restrição de chave estrangeira \"fk_empregado_empregado\" em \"empregado\"\nDETAIL:  Chave (ssn)=(987654321) ainda é referenciada pela tabela \"empregado\".\n"
     ]
    }
   ],
   "source": [
    "cursor.execute(\"DELETE FROM EMPREGADO WHERE ssn = '987654321';\")\n",
    "# Confirmar a transação\n",
    "conn.commit()"
   ]
  },
  {
   "cell_type": "code",
   "execution_count": 83,
   "metadata": {},
   "outputs": [
    {
     "name": "stdout",
     "output_type": "stream",
     "text": [
      "('123456789', 'Joao', 'B', 'Souza', 'M', 'R. 24 de maio, 1500 - Curitiba - PR', datetime.date(1965, 1, 9), '333445555', '5', 30000.0)\n",
      "('333445555', 'Fabio', 'T', 'Will', 'M', 'R. Alagoas, 325 - Curitiba - PR', datetime.date(1955, 12, 8), '888665555', '5', 40000.0)\n",
      "('999887777', 'Alice', 'J', 'Zebra', 'F', 'R. Ribeira, 98 - Pinhais - PR', datetime.date(1968, 1, 19), '987654321', '4', 25000.0)\n",
      "('987654321', 'Jennifer', 'S', 'Wallace', 'F', 'R. Berry, 291 - Colombo - PR', datetime.date(1941, 6, 20), '888665555', '4', 43000.0)\n",
      "('666884444', 'Ricardo', 'K', 'Nantes', 'M', 'Av. Figueira, 55 - Almirante Tamandare - PR', datetime.date(1962, 9, 15), '333445555', '5', 38000.0)\n",
      "('453453453', 'Jussara', 'A', 'Pereira', 'F', 'Trav. da Lapa, 23 - Curitiba - PR', datetime.date(1972, 7, 31), '333445555', '5', 25000.0)\n",
      "('987987987', 'Alberto', 'V', 'Medeiros', 'M', 'R. Ceará, 1245 - Curitiba - PR', datetime.date(1969, 3, 29), '987654321', '4', 25000.0)\n",
      "('888665555', 'Joaquim', 'E', 'Brito', 'M', 'R. Stone, 450 - Curitiba - PR', datetime.date(1937, 11, 10), None, '1', 55000.0)\n",
      "('943775543', 'Roberto', 'F', 'Silva', 'M', 'Rua X, 22 – Araucária – PR', datetime.date(1952, 6, 21), '888665555', '1', 58000.0)\n"
     ]
    }
   ],
   "source": [
    "cursor.execute(\"SELECT * FROM EMPREGADO;\")\n",
    "rows = cursor.fetchall()\n",
    "\n",
    "# Iterar sobre os resultados e imprimir\n",
    "for row in rows:\n",
    "    print(row)"
   ]
  },
  {
   "cell_type": "markdown",
   "metadata": {},
   "source": [
    "O atributo ssn da tabela empregado, é chave primária e estrangeira, sendo referenciada por superssn na mesma tabela, e por essn na tabela trabalha, portanto ao tentar remover a tupla de empregado com ssn igual a 987654321, o banco de dados irá retornar um erro de chave estrangeira, pois existem registros na mesma tabela e em outras tabelas que referenciam essa tupla."
   ]
  },
  {
   "cell_type": "markdown",
   "metadata": {},
   "source": [
    "h) Remova a tupla de PROJETO com PJNOME = ‘ProdutoX’"
   ]
  },
  {
   "cell_type": "code",
   "execution_count": 67,
   "metadata": {},
   "outputs": [
    {
     "ename": "ForeignKeyViolation",
     "evalue": "ERRO:  atualização ou exclusão em tabela \"projeto\" viola restrição de chave estrangeira \"fk_trabalha_projeto\" em \"trabalha\"\nDETAIL:  Chave (pnumero)=(1 ) ainda é referenciada pela tabela \"trabalha\".\n",
     "output_type": "error",
     "traceback": [
      "\u001b[1;31m---------------------------------------------------------------------------\u001b[0m",
      "\u001b[1;31mForeignKeyViolation\u001b[0m                       Traceback (most recent call last)",
      "Cell \u001b[1;32mIn [67], line 1\u001b[0m\n\u001b[1;32m----> 1\u001b[0m \u001b[43mcursor\u001b[49m\u001b[38;5;241;43m.\u001b[39;49m\u001b[43mexecute\u001b[49m\u001b[43m(\u001b[49m\u001b[38;5;124;43m\"\u001b[39;49m\u001b[38;5;124;43mDELETE FROM PROJETO WHERE PJNOME = \u001b[39;49m\u001b[38;5;124;43m'\u001b[39;49m\u001b[38;5;124;43mProdutoX\u001b[39;49m\u001b[38;5;124;43m'\u001b[39;49m\u001b[38;5;124;43m;\u001b[39;49m\u001b[38;5;124;43m\"\u001b[39;49m\u001b[43m)\u001b[49m\n\u001b[0;32m      2\u001b[0m \u001b[38;5;66;03m# Confirmar a transação\u001b[39;00m\n\u001b[0;32m      3\u001b[0m conn\u001b[38;5;241m.\u001b[39mcommit()\n",
      "\u001b[1;31mForeignKeyViolation\u001b[0m: ERRO:  atualização ou exclusão em tabela \"projeto\" viola restrição de chave estrangeira \"fk_trabalha_projeto\" em \"trabalha\"\nDETAIL:  Chave (pnumero)=(1 ) ainda é referenciada pela tabela \"trabalha\".\n"
     ]
    }
   ],
   "source": [
    "cursor.execute(\"DELETE FROM PROJETO WHERE PJNOME = 'ProdutoX';\")\n",
    "# Confirmar a transação\n",
    "conn.commit()"
   ]
  },
  {
   "cell_type": "code",
   "execution_count": 84,
   "metadata": {},
   "outputs": [
    {
     "name": "stdout",
     "output_type": "stream",
     "text": [
      "('1 ', 'ProdutoX', 'Pinhais', '5')\n",
      "('2 ', 'ProdutoY', 'Araucaria', '5')\n",
      "('3 ', 'ProdutoZ', 'Curitiba', '5')\n",
      "('10', 'Automatizacao', 'Pinhais', '4')\n",
      "('20', 'Reorganizacao', 'Curitiba', '1')\n",
      "('30', 'Novos Beneficios', 'Pinhais', '4')\n"
     ]
    }
   ],
   "source": [
    "cursor.execute(\"SELECT * FROM PROJETO;\")\n",
    "rows = cursor.fetchall()\n",
    "\n",
    "# Iterar sobre os resultados e imprimir\n",
    "for row in rows:\n",
    "    print(row)"
   ]
  },
  {
   "cell_type": "code",
   "execution_count": 85,
   "metadata": {},
   "outputs": [
    {
     "name": "stdout",
     "output_type": "stream",
     "text": [
      "('123456789', '1 ', 32.5)\n",
      "('123456789', '2 ', 7.5)\n",
      "('666884444', '3 ', 40.0)\n",
      "('453453453', '1 ', 20.0)\n",
      "('453453453', '2 ', 20.0)\n",
      "('999887777', '30', 30.0)\n",
      "('999887777', '10', 10.0)\n",
      "('987987987', '10', 35.0)\n",
      "('987987987', '30', 5.0)\n",
      "('987654321', '30', 20.0)\n",
      "('987654321', '20', 15.0)\n",
      "('888665555', '20', None)\n"
     ]
    }
   ],
   "source": [
    "cursor.execute(\"SELECT * FROM TRABALHA;\")\n",
    "rows = cursor.fetchall()\n",
    "\n",
    "# Iterar sobre os resultados e imprimir\n",
    "for row in rows:\n",
    "    print(row)"
   ]
  },
  {
   "cell_type": "markdown",
   "metadata": {},
   "source": [
    "Pnumero é chave primária em projeto, e chave estrangeira em trabalha, portanto ao tentar remover a tupla de projeto com pjnome igual a ProdutoX, o banco de dados irá retornar um erro de chave estrangeira, pois existem registros na tabela trabalha que referenciam essa tupla."
   ]
  },
  {
   "cell_type": "markdown",
   "metadata": {},
   "source": [
    "i) Modifique o GERSSN e GERDATAINICIO da tupla de DEPARTAMENTO com DNUMERO = 5\n",
    "para ‘123456789’ e ‘1999-01-10’, respectivamente."
   ]
  },
  {
   "cell_type": "code",
   "execution_count": 72,
   "metadata": {},
   "outputs": [],
   "source": [
    "cursor.execute(\"UPDATE DEPARTAMENTO SET GERSSN = '123456789' , GERDATAINICIO ='1999-01-10'  WHERE DNUMERO = '5';\")\n",
    "# Confirmar a transação\n",
    "conn.commit()"
   ]
  },
  {
   "cell_type": "code",
   "execution_count": 73,
   "metadata": {},
   "outputs": [
    {
     "name": "stdout",
     "output_type": "stream",
     "text": [
      "('4', 'Administracao', '987654321', datetime.date(1995, 1, 1))\n",
      "('1', 'Sede Administrativa', '888665555', datetime.date(1981, 6, 19))\n",
      "('5', 'Pesquisa', '123456789', datetime.date(1999, 1, 10))\n"
     ]
    }
   ],
   "source": [
    "cursor.execute(\"SELECT * FROM DEPARTAMENTO;\")\n",
    "rows = cursor.fetchall()\n",
    "\n",
    "# Iterar sobre os resultados e imprimir\n",
    "for row in rows:\n",
    "    print(row)"
   ]
  },
  {
   "cell_type": "markdown",
   "metadata": {},
   "source": [
    "j) Modifique o atributo SUPERSSN da tupla EMPREGADO com SSN = ‘999887777’ para\n",
    "‘943775543’."
   ]
  },
  {
   "cell_type": "code",
   "execution_count": 74,
   "metadata": {},
   "outputs": [],
   "source": [
    "cursor.execute(\"UPDATE EMPREGADO SET SUPERSSN = '943775543' WHERE SSN = '999887777';\")\n",
    "# Confirmar a transação\n",
    "conn.commit()"
   ]
  },
  {
   "cell_type": "code",
   "execution_count": 75,
   "metadata": {},
   "outputs": [
    {
     "name": "stdout",
     "output_type": "stream",
     "text": [
      "('123456789', 'Joao', 'B', 'Souza', 'M', 'R. 24 de maio, 1500 - Curitiba - PR', datetime.date(1965, 1, 9), '333445555', '5', 30000.0)\n",
      "('333445555', 'Fabio', 'T', 'Will', 'M', 'R. Alagoas, 325 - Curitiba - PR', datetime.date(1955, 12, 8), '888665555', '5', 40000.0)\n",
      "('987654321', 'Jennifer', 'S', 'Wallace', 'F', 'R. Berry, 291 - Colombo - PR', datetime.date(1941, 6, 20), '888665555', '4', 43000.0)\n",
      "('666884444', 'Ricardo', 'K', 'Nantes', 'M', 'Av. Figueira, 55 - Almirante Tamandare - PR', datetime.date(1962, 9, 15), '333445555', '5', 38000.0)\n",
      "('453453453', 'Jussara', 'A', 'Pereira', 'F', 'Trav. da Lapa, 23 - Curitiba - PR', datetime.date(1972, 7, 31), '333445555', '5', 25000.0)\n",
      "('987987987', 'Alberto', 'V', 'Medeiros', 'M', 'R. Ceará, 1245 - Curitiba - PR', datetime.date(1969, 3, 29), '987654321', '4', 25000.0)\n",
      "('888665555', 'Joaquim', 'E', 'Brito', 'M', 'R. Stone, 450 - Curitiba - PR', datetime.date(1937, 11, 10), None, '1', 55000.0)\n",
      "('943775543', 'Roberto', 'F', 'Silva', 'M', 'Rua X, 22 – Araucária – PR', datetime.date(1952, 6, 21), '888665555', '1', 58000.0)\n",
      "('999887777', 'Alice', 'J', 'Zebra', 'F', 'R. Ribeira, 98 - Pinhais - PR', datetime.date(1968, 1, 19), '943775543', '4', 25000.0)\n"
     ]
    }
   ],
   "source": [
    "cursor.execute(\"SELECT * FROM EMPREGADO;\")\n",
    "rows = cursor.fetchall()\n",
    "\n",
    "# Iterar sobre os resultados e imprimir\n",
    "for row in rows:\n",
    "    print(row)"
   ]
  },
  {
   "cell_type": "markdown",
   "metadata": {},
   "source": [
    "l) Modifique o atributo HORAS da tupla de TRABALHA com ESSN = ‘999887777’ e PNO = ‘10’\n",
    "para 5,0."
   ]
  },
  {
   "cell_type": "code",
   "execution_count": 76,
   "metadata": {},
   "outputs": [],
   "source": [
    "cursor.execute(\"UPDATE TRABALHA SET HORAS = '5' WHERE ESSN = '999887777' AND PNO = '10';\")\n",
    "# Confirmar a transação\n",
    "conn.commit()"
   ]
  },
  {
   "cell_type": "code",
   "execution_count": 14,
   "metadata": {},
   "outputs": [
    {
     "name": "stdout",
     "output_type": "stream",
     "text": [
      "('123456789', '1 ', 32.5)\n",
      "('123456789', '2 ', 7.5)\n",
      "('666884444', '3 ', 40.0)\n",
      "('453453453', '1 ', 20.0)\n",
      "('453453453', '2 ', 20.0)\n",
      "('999887777', '30', 30.0)\n",
      "('987987987', '10', 35.0)\n",
      "('987987987', '30', 5.0)\n",
      "('987654321', '30', 20.0)\n",
      "('987654321', '20', 15.0)\n",
      "('888665555', '20', None)\n",
      "('999887777', '10', 5.0)\n"
     ]
    }
   ],
   "source": [
    "cursor.execute(\"SELECT * FROM TRABALHA;\")\n",
    "rows = cursor.fetchall()\n",
    "\n",
    "# Iterar sobre os resultados e imprimir\n",
    "for row in rows:\n",
    "    print(row)"
   ]
  },
  {
   "cell_type": "markdown",
   "metadata": {},
   "source": [
    "## Atividade 2) Comandos DML: \n",
    "Considerando o banco de dados \"empresa” apresentado na Atividade 1, escreva o comando DML adequado que:"
   ]
  },
  {
   "cell_type": "markdown",
   "metadata": {},
   "source": [
    "a) Mostre o número de segurança social do empregado, o nome do dependente e o\n",
    "parentesco, ordenado por ssn ascendente e parentesco descendente."
   ]
  },
  {
   "cell_type": "code",
   "execution_count": 15,
   "metadata": {},
   "outputs": [
    {
     "name": "stdout",
     "output_type": "stream",
     "text": [
      "('123456789', 'Michel', 'FILHO')\n",
      "('123456789', 'Alice', 'FILHA')\n",
      "('123456789', 'Elizabete', 'CONJUGE')\n",
      "('333445555', 'Teodoro', 'FILHO')\n",
      "('333445555', 'Alice', 'FILHA')\n",
      "('333445555', 'Joana', 'CONJUGE')\n",
      "('453453453', 'Joao', 'CONJUGE')\n",
      "('987654321', 'Abdala', 'CONJUGE')\n"
     ]
    }
   ],
   "source": [
    "cursor.execute(\"SELECT e.ssn, d.nomedep, d.parentesco FROM EMPREGADO e JOIN DEPENDENTE d ON e.ssn = d.essn ORDER BY e.ssn ASC, d.parentesco DESC;\")\n",
    "\n",
    "# Obter resultados\n",
    "results = cursor.fetchall()\n",
    "if results:\n",
    "    for result in results:\n",
    "        print(result)"
   ]
  },
  {
   "cell_type": "markdown",
   "metadata": {},
   "source": [
    "### **SELECT Clause**\n",
    "```sql\n",
    "SELECT e.ssn, d.nomedep, d.parentesco\n",
    "```\n",
    "- **SELECT** é usado para especificar as colunas que serão retornadas pelo query. Neste caso:\n",
    "  - `e.ssn`: refere-se à coluna `ssn` da tabela `EMPREGADO`, que foi renomeada para `e` para facilitar as referências dentro da consulta.\n",
    "  - `d.nomedep`: refere-se à coluna `nomedep` da tabela `DEPENDENTE`, que foi renomeada para `d`.\n",
    "  - `d.parentesco`: refere-se à coluna `parentesco` da tabela `DEPENDENTE`.\n",
    "\n",
    "### **FROM Clause**\n",
    "```sql\n",
    "FROM EMPREGADO e\n",
    "```\n",
    "- **FROM** indica a tabela principal de onde os dados serão selecionados. Aqui, a tabela `EMPREGADO` é renomeada como `e`. Essa renomeação é conhecida como aliasing e é muito útil para simplificar as referências à tabela em consultas mais complexas ou quando o mesmo nome de tabela é usado em múltiplas junções.\n",
    "\n",
    "### **JOIN Clause**\n",
    "```sql\n",
    "JOIN DEPENDENTE d\n",
    "```\n",
    "- **JOIN** é utilizado para combinar linhas de duas ou mais tabelas baseadas em uma coluna relacionada entre elas. Aqui, a tabela `DEPENDENTE` é renomeada como `d`. Não é especificado o tipo de JOIN, o que implica que é um **INNER JOIN** por padrão. O INNER JOIN só retorna linhas que têm correspondência em ambas as tabelas.\n",
    "\n",
    "### **ON Clause**\n",
    "```sql\n",
    "ON e.ssn = d.essn\n",
    "```\n",
    "- **ON** especifica a condição de junção. Neste caso, a consulta junta as tabelas `EMPREGADO` e `DEPENDENTE` onde o `ssn` da tabela `EMPREGADO` (referido como `e.ssn`) é igual ao `essn` da tabela `DEPENDENTE` (referido como `d.essn`). Essa condição é crucial para determinar como as tabelas são unidas. `ssn` e `essn` são assumidos como chaves que ligam empregados aos seus dependentes.\n",
    "\n",
    "### **ORDER BY Clause**\n",
    "```sql\n",
    "ORDER BY e.ssn ASC, d.parentesco DESC;\n",
    "```\n",
    "- **ORDER BY** é usado para ordenar os resultados da consulta com base em uma ou mais colunas. Aqui, os resultados são primeiro ordenados pelo `ssn` do empregado em ordem ascendente (`ASC`), e então pelo `parentesco` em ordem descendente (`DESC`).\n",
    "  - `ASC`: Ascendente, do menor para o maior ou de A a Z.\n",
    "  - `DESC`: Descendente, do maior para o menor ou de Z a A."
   ]
  },
  {
   "cell_type": "markdown",
   "metadata": {},
   "source": [
    "b) Mostre o nome e endereço de todos os empregados que trabalham para o departamento\n",
    "Pesquisa."
   ]
  },
  {
   "cell_type": "code",
   "execution_count": 20,
   "metadata": {},
   "outputs": [
    {
     "name": "stdout",
     "output_type": "stream",
     "text": [
      "('Joao', 'R. 24 de maio, 1500 - Curitiba - PR')\n",
      "('Fabio', 'R. Alagoas, 325 - Curitiba - PR')\n",
      "('Ricardo', 'Av. Figueira, 55 - Almirante Tamandare - PR')\n",
      "('Jussara', 'Trav. da Lapa, 23 - Curitiba - PR')\n"
     ]
    }
   ],
   "source": [
    "cursor.execute(\"SELECT e.pnome, e.endereco FROM EMPREGADO e JOIN DEPARTAMENTO d ON e.dno = d.dnumero WHERE d.dnome = 'Pesquisa';\")\n",
    "# Obter resultados\n",
    "results = cursor.fetchall()\n",
    "if results:\n",
    "    for result in results:\n",
    "        print(result)\n"
   ]
  },
  {
   "cell_type": "markdown",
   "metadata": {},
   "source": [
    "### **SELECT Clause**\n",
    "```sql\n",
    "SELECT e.pnome, e.endereco\n",
    "```\n",
    "- **SELECT**: Esta cláusula é usada para especificar quais colunas serão retornadas pelo resultado da consulta. \n",
    "  - `e.pnome`: O `pnome` da tabela `EMPREGADO`, onde `e` é o alias dado à tabela `EMPREGADO`. `pnome` representa o primeiro nome do empregado.\n",
    "  - `e.endereco`: O `endereco` da tabela `EMPREGADO`. Este campo armazena o endereço do empregado.\n",
    "\n",
    "### **FROM Clause**\n",
    "```sql\n",
    "FROM EMPREGADO e\n",
    "```\n",
    "- **FROM**: Indica de qual tabela os dados serão selecionados. A tabela `EMPREGADO` é aqui referida pelo alias `e`. Usar um alias simplifica referências subsequentes à tabela, especialmente útil em consultas com múltiplas tabelas ou junções.\n",
    "\n",
    "### **JOIN Clause**\n",
    "```sql\n",
    "JOIN DEPARTAMENTO d ON e.dno = d.dnumero\n",
    "```\n",
    "- **JOIN**: Esta cláusula é utilizada para combinar registros de duas tabelas baseadas em uma condição relacionada. Neste caso, a tabela `DEPARTAMENTO` é trazida para a consulta e é dada o alias `d`.\n",
    "  - **ON e.dno = d.dnumero**: Esta é a condição de junção que especifica como as tabelas `EMPREGADO` e `DEPARTAMENTO` são relacionadas. O `dno` (número do departamento) na tabela `EMPREGADO` deve corresponder ao `dnumero` (número do departamento) na tabela `DEPARTAMENTO`. Essencialmente, isso liga cada empregado ao departamento ao qual pertence.\n",
    "\n",
    "### **WHERE Clause**\n",
    "```sql\n",
    "WHERE d.dnome = 'Pesquisa';\n",
    "```\n",
    "- **WHERE**: Esta cláusula é usada para filtrar registros e limitar quais linhas serão incluídas no resultado final da consulta. Neste caso, apenas os registros em que o `dnome` (nome do departamento) da tabela `DEPARTAMENTO` é igual a 'Pesquisa' serão retornados. Isso restringe a saída para incluir apenas empregados que trabalham no departamento chamado \"Pesquisa\"."
   ]
  },
  {
   "cell_type": "markdown",
   "metadata": {},
   "source": [
    "c) Para todo projeto localizado em Araucaria, liste o nome do projeto, o nome do departamento\n",
    "de controle e o último nome, endereço e data de nascimento do gerente do departamento."
   ]
  },
  {
   "cell_type": "code",
   "execution_count": 24,
   "metadata": {},
   "outputs": [
    {
     "name": "stdout",
     "output_type": "stream",
     "text": [
      "('ProdutoY', 'Pesquisa', 'Souza', 'R. 24 de maio, 1500 - Curitiba - PR', datetime.date(1965, 1, 9))\n"
     ]
    }
   ],
   "source": [
    "cursor.execute(\"\"\"SELECT p.pjnome AS \"Nome do Projeto\", d.dnome AS \"Nome do Departamento\", e.unome AS \"Sobrenome\", e.endereco AS \"Endereço\", e.datanasc AS \"Data de Nascimento\"\n",
    "FROM PROJETO p\n",
    "JOIN DEPARTAMENTO d ON p.dnum = d.dnumero\n",
    "JOIN EMPREGADO e ON d.gerssn = e.ssn\n",
    "WHERE p.plocal = 'Araucaria';\"\"\")\n",
    "# Obter resultados\n",
    "results = cursor.fetchall()\n",
    "if results:\n",
    "    for result in results:\n",
    "        print(result)"
   ]
  },
  {
   "cell_type": "markdown",
   "metadata": {},
   "source": [
    "**SELECT Clause**\n",
    "   - `p.pjnome AS \"Nome do Projeto\"`: Seleciona o nome do projeto da tabela `PROJETO` e renomeia a coluna no resultado como \"Nome do Projeto\".\n",
    "   - `d.dnome AS \"Nome do Departamento\"`: Seleciona o nome do departamento da tabela `DEPARTAMENTO` e renomeia a coluna no resultado como \"Nome do Departamento\".\n",
    "   - `e.unome AS \"Sobrenome\"`: Seleciona o sobrenome do empregado da tabela `EMPREGADO` e renomeia a coluna no resultado como \"Sobrenome\".\n",
    "   - `e.endereco AS \"Endereço\"`: Seleciona o endereço do empregado da tabela `EMPREGADO` e renomeia a coluna no resultado como \"Endereço\".\n",
    "   - `e.datanasc AS \"Data de Nascimento\"`: Seleciona a data de nascimento do empregado da tabela `EMPREGADO` e renomeia a coluna no resultado como \"Data de Nascimento\".\n",
    "\n",
    "**FROM Clause**\n",
    "   - `FROM PROJETO p`: Especifica que os dados iniciais são retirados da tabela `PROJETO`, que é referenciada com o alias `p` para simplificar as referências subsequentes na consulta.\n",
    "\n",
    "**JOIN Clauses**\n",
    "   - `JOIN DEPARTAMENTO d ON p.dnum = d.dnumero`: Realiza um `INNER JOIN` com a tabela `DEPARTAMENTO`, que é referenciada com o alias `d`. A junção é feita com base na condição de que o número do departamento no projeto (`p.dnum`) corresponda ao número do departamento (`d.dnumero`), conectando assim cada projeto ao seu respectivo departamento.\n",
    "   - `JOIN EMPREGADO e ON d.gerssn = e.ssn`: Realiza outro `INNER JOIN`, desta vez com a tabela `EMPREGADO`, referenciada como `e`. Esta junção é baseada na condição de que o SSN do gerente do departamento (`d.gerssn`) corresponda ao SSN do empregado (`e.ssn`), conectando o departamento ao seu gerente.\n",
    "\n",
    "**WHERE Clause**\n",
    "   - `WHERE p.plocal = 'Araucaria'`: Filtra os resultados para incluir apenas aqueles projetos que estão localizados em 'Araucaria'. Esta condição é aplicada após as junções serem feitas, restringindo ainda mais os dados que serão exibidos no resultado final."
   ]
  },
  {
   "cell_type": "markdown",
   "metadata": {},
   "source": [
    "d) Recupere os nomes de todos os empregados que trabalhem mais de 10 horas por semana\n",
    "no projeto Automatizacao."
   ]
  },
  {
   "cell_type": "code",
   "execution_count": 28,
   "metadata": {},
   "outputs": [
    {
     "name": "stdout",
     "output_type": "stream",
     "text": [
      "('Alberto',)\n"
     ]
    }
   ],
   "source": [
    "cursor.execute(\"\"\"SELECT e.pnome AS \"Nome do Empregado\"\n",
    "FROM EMPREGADO e\n",
    "JOIN TRABALHA t ON e.ssn = t.essn\n",
    "JOIN PROJETO p ON t.pno = p.pnumero\n",
    "WHERE p.pjnome = 'Automatizacao' AND t.horas > 10;\n",
    "\"\"\")\n",
    "# Obter resultados\n",
    "results = cursor.fetchall()\n",
    "if results:\n",
    "    for result in results:\n",
    "        print(result)"
   ]
  },
  {
   "cell_type": "markdown",
   "metadata": {},
   "source": [
    "**SELECT Clause**\n",
    "   - `e.pnome AS \"Nome do Empregado\"`: Esta parte da consulta especifica que o primeiro nome dos empregados (`pnome`) será selecionado da tabela `EMPREGADO`. O resultado exibirá esta coluna com o cabeçalho \"Nome do Empregado\". O uso do alias `e` para a tabela `EMPREGADO` facilita a referência à coluna dentro da consulta.\n",
    "\n",
    "**FROM Clause**\n",
    "   - `FROM EMPREGADO e`: Define que a tabela `EMPREGADO` é a tabela principal de onde os dados serão inicialmente retirados. O alias `e` é dado à tabela `EMPREGADO`, o que ajuda a simplificar as referências a essa tabela nas cláusulas subsequentes.\n",
    "\n",
    "**JOIN Clauses**\n",
    "   - `JOIN TRABALHA t ON e.ssn = t.essn`: Esta cláusula realiza uma junção entre a tabela `EMPREGADO` e a tabela `TRABALHA` usando o alias `t` para `TRABALHA`. A junção é feita baseada na correspondência entre `ssn` (Número do Seguro Social do empregado) em `EMPREGADO` e `essn` (Número do Seguro Social do empregado registrado em `TRABALHA`). Isso vincula cada registro de empregado ao seu registro correspondente na tabela `TRABALHA`.\n",
    "   - `JOIN PROJETO p ON t.pno = p.pnumero`: Realiza outro `INNER JOIN`, desta vez com a tabela `PROJETO`, usando o alias `p`. Esta junção baseia-se na correspondência entre `pno` (número do projeto em `TRABALHA`) e `pnumero` (número do projeto em `PROJETO`), conectando as entradas de trabalho aos projetos específicos.\n",
    "\n",
    "**WHERE Clause**\n",
    "   - `WHERE p.pjnome = 'Automatizacao' AND t.horas > 10`: Esta cláusula filtra os registros para incluir apenas aqueles em que o nome do projeto é \"Automatização\" (`pjnome` em `PROJETO`) e o número de horas trabalhadas por semana é maior que 10 (`horas` em `TRABALHA`). Isso assegura que apenas empregados que atendem a ambos os critérios sejam incluídos nos resultados."
   ]
  },
  {
   "cell_type": "markdown",
   "metadata": {},
   "source": [
    "e) Mostre o nome dos empregados que têm os três maiores salários"
   ]
  },
  {
   "cell_type": "code",
   "execution_count": 33,
   "metadata": {},
   "outputs": [
    {
     "name": "stdout",
     "output_type": "stream",
     "text": [
      "('Roberto',)\n",
      "('Joaquim',)\n",
      "('Jennifer',)\n"
     ]
    }
   ],
   "source": [
    "cursor.execute(\"\"\"SELECT pnome AS \"Nome do Empregado\"\n",
    "FROM EMPREGADO\n",
    "ORDER BY salario DESC\n",
    "LIMIT 3;\n",
    "\n",
    "\"\"\")\n",
    "# Obter resultados\n",
    "results = cursor.fetchall()\n",
    "if results:\n",
    "    for result in results:\n",
    "        print(result)"
   ]
  },
  {
   "cell_type": "markdown",
   "metadata": {},
   "source": [
    "**SELECT Clause**\n",
    "   - `pnome AS \"Nome do Empregado\"`: Esta parte da consulta especifica que o primeiro nome dos empregados (`pnome`) será selecionado da tabela `EMPREGADO`. O resultado exibirá esta coluna com o cabeçalho \"Nome do Empregado\". Isso facilita a leitura e interpretação dos dados no resultado, proporcionando clareza sobre qual informação está sendo apresentada.\n",
    "\n",
    "**FROM Clause**\n",
    "   - `FROM EMPREGADO`: Esta cláusula especifica a tabela de onde os dados serão extraídos. Neste caso, a tabela é `EMPREGADO`. Não há alias usado aqui, pois a consulta é direta e envolve apenas uma tabela.\n",
    "\n",
    "**ORDER BY Clause**\n",
    "   - `ORDER BY salario DESC`: Esta cláusula é usada para ordenar os dados retornados pela consulta com base na coluna `salario`. A palavra-chave `DESC` indica que a ordenação deve ser descendente, ou seja, do maior para o menor. Isso garante que os empregados com os maiores salários apareçam primeiro nos resultados da consulta.\n",
    "\n",
    "**LIMIT Clause**\n",
    "   - `LIMIT 3`: Esta cláusula limita o número de registros retornados pela consulta a apenas três. Isso é útil quando você está interessado apenas em uma pequena quantidade de registros de topo baseados em algum critério, como os maiores salários neste caso. O uso do `LIMIT` é uma maneira eficiente de restringir a quantidade de dados processados e apresentados, especialmente em tabelas grandes."
   ]
  },
  {
   "cell_type": "markdown",
   "metadata": {},
   "source": [
    "f) Mostre o nome e o salário dos supervisores com aumento de 20%."
   ]
  },
  {
   "cell_type": "code",
   "execution_count": 34,
   "metadata": {},
   "outputs": [
    {
     "name": "stdout",
     "output_type": "stream",
     "text": [
      "('Fabio', 48000.0)\n",
      "('Jennifer', 51600.0)\n",
      "('Joaquim', 66000.0)\n",
      "('Roberto', 69600.0)\n"
     ]
    }
   ],
   "source": [
    "cursor.execute(\"\"\"SELECT pnome AS \"Nome do Empregado\", salario * 1.20 AS \"Salario Aumentado\"\n",
    "FROM EMPREGADO\n",
    "WHERE ssn IN (SELECT superssn FROM EMPREGADO WHERE superssn IS NOT NULL);\n",
    "\"\"\")\n",
    "# Obter resultados\n",
    "results = cursor.fetchall()\n",
    "if results:\n",
    "    for result in results:\n",
    "        print(result)"
   ]
  },
  {
   "cell_type": "markdown",
   "metadata": {},
   "source": [
    "**SELECT Clause**\n",
    "   - `pnome AS \"Nome do Empregado\"`: Esta parte da consulta seleciona o campo `pnome` da tabela `EMPREGADO`, que contém o primeiro nome dos empregados. O nome da coluna no resultado é renomeado para \"Nome do Empregado\" usando a cláusula `AS`. Isso torna os resultados mais compreensíveis, especialmente em contextos onde o relatório final é apresentado a stakeholders.\n",
    "   - `salario * 1.20 AS \"Salario Aumentado\"`: Aqui, o salário registrado na tabela para cada empregado é aumentado em 20% através de uma operação aritmética simples (`salario * 1.20`). O resultado dessa operação é apresentado sob o rótulo \"Salario Aumentado\". Esta coluna no resultado mostra o novo salário que um empregado receberia se um aumento de 20% fosse aplicado, útil para análises de ajustes salariais ou simulações de aumento de custos.\n",
    "\n",
    "**FROM Clause**\n",
    "   - `FROM EMPREGADO`: Esta cláusula especifica que os dados são retirados da tabela `EMPREGADO`. Esta é a tabela principal onde os dados sobre os empregados, incluindo seus salários e números de seguro social (SSN), são armazenados.\n",
    "\n",
    "**WHERE Clause**\n",
    "   - `WHERE ssn IN (SELECT superssn FROM EMPREGADO WHERE superssn IS NOT NULL)`: Esta parte da consulta é crucial para filtrar apenas os empregados que são supervisores. \n",
    "     - `SELECT superssn FROM EMPREGADO WHERE superssn IS NOT NULL`: Esta subconsulta seleciona todos os `superssn` (número de seguro social do supervisor) da tabela `EMPREGADO` que não são nulos. O `superssn` é o campo que identifica um empregado como supervisor de outros empregados.\n",
    "     - `WHERE ssn IN (...)`: A cláusula principal `WHERE` usa o resultado da subconsulta para filtrar empregados cujos `ssn` estão na lista de `superssn` obtida. Isso garante que apenas os registros de empregados que são supervisores sejam incluídos nos resultados finais."
   ]
  },
  {
   "cell_type": "markdown",
   "metadata": {},
   "source": [
    "g) Mostre os departamentos e suas localidades."
   ]
  },
  {
   "cell_type": "code",
   "execution_count": 38,
   "metadata": {},
   "outputs": [
    {
     "name": "stdout",
     "output_type": "stream",
     "text": [
      "('Sede Administrativa', 'Curitiba')\n",
      "('Administracao', 'Colombo')\n",
      "('Pesquisa', 'Araucaria')\n",
      "('Pesquisa', 'Curitiba')\n",
      "('Pesquisa', 'Pinhais')\n"
     ]
    }
   ],
   "source": [
    "cursor.execute(\"\"\"SELECT d.dnome AS \"Nome do Departamento\", l.dlocalizacao AS \"Localização do Departamento\"\n",
    "FROM DEPARTAMENTO d\n",
    "JOIN LOCALIZACAO l ON d.dnumero = l.dnum;\n",
    "\"\"\")\n",
    "# Obter resultados\n",
    "results = cursor.fetchall()\n",
    "if results:\n",
    "    for result in results:\n",
    "        print(result)"
   ]
  },
  {
   "cell_type": "markdown",
   "metadata": {},
   "source": [
    "**SELECT Clause**\n",
    "   - `d.dnome AS \"Nome do Departamento\"`: Esta parte da consulta seleciona o campo `dnome` da tabela `DEPARTAMENTO`, que contém os nomes dos departamentos. O resultado dessa seleção é apresentado no conjunto de resultados com o cabeçalho \"Nome do Departamento\". A utilização do alias `d` para a tabela `DEPARTAMENTO` facilita a leitura e referência ao campo dentro da consulta.\n",
    "   - `l.dlocalizacao AS \"Localização do Departamento\"`: Similarmente, esta parte seleciona a coluna `dlocalizacao` da tabela `LOCALIZACAO`, que contém as localizações geográficas ou físicas dos departamentos. A coluna é renomeada para \"Localização do Departamento\" no resultado, proporcionando clareza e tornando os dados mais acessíveis para quem visualiza o resultado.\n",
    "\n",
    "**FROM Clause**\n",
    "   - `FROM DEPARTAMENTO d`: Esta cláusula especifica a tabela de onde os dados principais são retirados, no caso, a tabela `DEPARTAMENTO`. O alias `d` é atribuído a esta tabela, simplificando as referências subsequentes na consulta.\n",
    "\n",
    "**JOIN Clause**\n",
    "   - `JOIN LOCALIZACAO l ON d.dnumero = l.dnum`: Aqui, a tabela `LOCALIZACAO` é juntada à consulta usando um `INNER JOIN`. O `INNER JOIN` é realizado com base na condição especificada pelo `ON d.dnumero = l.dnum`. Isso significa que a junção é feita onde o número do departamento na tabela `DEPARTAMENTO` (`d.dnumero`) corresponde ao número do departamento na tabela `LOCALIZACAO` (`l.dnum`). Isso garante que cada nome de departamento será associado corretamente à sua localização específica."
   ]
  },
  {
   "cell_type": "markdown",
   "metadata": {},
   "source": [
    "h) Mostre os departamentos e seus projetos."
   ]
  },
  {
   "cell_type": "code",
   "execution_count": 39,
   "metadata": {},
   "outputs": [
    {
     "name": "stdout",
     "output_type": "stream",
     "text": [
      "('Pesquisa', 'ProdutoX')\n",
      "('Pesquisa', 'ProdutoY')\n",
      "('Pesquisa', 'ProdutoZ')\n",
      "('Administracao', 'Automatizacao')\n",
      "('Sede Administrativa', 'Reorganizacao')\n",
      "('Administracao', 'Novos Beneficios')\n"
     ]
    }
   ],
   "source": [
    "cursor.execute(\"\"\"SELECT d.dnome AS \"Nome do Departamento\", p.pjnome AS \"Nome do Projeto\"\n",
    "FROM DEPARTAMENTO d\n",
    "JOIN PROJETO p ON d.dnumero = p.dnum;\n",
    "\"\"\")\n",
    "# Obter resultados\n",
    "results = cursor.fetchall()\n",
    "if results:\n",
    "    for result in results:\n",
    "        print(result)"
   ]
  },
  {
   "cell_type": "markdown",
   "metadata": {},
   "source": [
    "**SELECT Clause**\n",
    "   - `d.dnome AS \"Nome do Departamento\"`: Esta parte da consulta seleciona a coluna `dnome` da tabela `DEPARTAMENTO`, que contém os nomes dos departamentos. A coluna é renomeada como \"Nome do Departamento\" no resultado final usando a cláusula `AS`. Isso ajuda a tornar os dados mais compreensíveis ao serem visualizados, especialmente em relatórios ou interfaces de usuário onde a clareza é crucial.\n",
    "   - `p.pjnome AS \"Nome do Projeto\"`: Similarmente, esta parte seleciona a coluna `pjnome` da tabela `PROJETO`, que contém os nomes dos projetos. A coluna é renomeada como \"Nome do Projeto\" no resultado final. Isso fornece um mapeamento direto e claro do nome de cada projeto ao departamento correspondente.\n",
    "\n",
    "**FROM Clause**\n",
    "   - `FROM DEPARTAMENTO d`: Especifica a tabela `DEPARTAMENTO` como a fonte dos dados, com `d` servindo como um alias para `DEPARTAMENTO`. Usar aliases é uma prática comum para simplificar a escrita e interpretação das consultas, especialmente quando múltiplas tabelas estão envolvidas.\n",
    "\n",
    "**JOIN Clause**\n",
    "   - `JOIN PROJETO p ON d.dnumero = p.dnum`: Esta cláusula executa um `INNER JOIN` entre as tabelas `DEPARTAMENTO` e `PROJETO`. O `INNER JOIN` é feito com base na condição que o número do departamento (`d.dnumero` na tabela `DEPARTAMENTO`) coincide com o número do departamento referenciado na tabela `PROJETO` (`p.dnum`). Este método de junção garante que apenas os pares de departamentos e projetos que têm uma correspondência direta entre esses campos específicos serão incluídos nos resultados finais."
   ]
  },
  {
   "cell_type": "markdown",
   "metadata": {},
   "source": [
    "i) Mostre os empregados do sexo feminino e a data de nascimento cujo salário é maior que\n",
    "30.000."
   ]
  },
  {
   "cell_type": "code",
   "execution_count": 40,
   "metadata": {},
   "outputs": [
    {
     "name": "stdout",
     "output_type": "stream",
     "text": [
      "('Jennifer', datetime.date(1941, 6, 20))\n"
     ]
    }
   ],
   "source": [
    "cursor.execute(\"\"\"SELECT pnome AS \"Nome do Empregado\", datanasc AS \"Data de Nascimento\"\n",
    "FROM EMPREGADO\n",
    "WHERE sexo = 'F' AND salario > 30000;\n",
    "\"\"\")\n",
    "# Obter resultados\n",
    "results = cursor.fetchall()\n",
    "if results:\n",
    "    for result in results:\n",
    "        print(result)"
   ]
  },
  {
   "cell_type": "markdown",
   "metadata": {},
   "source": [
    "**SELECT Clause**\n",
    "   - `pnome AS \"Nome do Empregado\"`: Esta parte da consulta seleciona a coluna `pnome` da tabela `EMPREGADO`. `pnome` representa o primeiro nome dos empregados. A coluna é renomeada para \"Nome do Empregado\" no resultado final usando a cláusula `AS`, o que ajuda a tornar os resultados mais claros e fáceis de entender para quem está visualizando os dados.\n",
    "   - `datanasc AS \"Data de Nascimento\"`: Da mesma forma, esta cláusula seleciona a coluna `datanasc`, que contém as datas de nascimento dos empregados. Ela é renomeada para \"Data de Nascimento\" no resultado final, proporcionando uma visualização clara da informação.\n",
    "\n",
    "**FROM Clause**\n",
    "   - `FROM EMPREGADO`: Esta cláusula especifica que os dados serão retirados da tabela `EMPREGADO`. Esta tabela contém informações detalhadas sobre os empregados de uma organização, incluindo nomes, datas de nascimento, gênero, salários, entre outros dados pessoais e profissionais.\n",
    "\n",
    "**WHERE Clause**\n",
    "   - `WHERE sexo = 'F' AND salario > 30000`: Esta parte da consulta é usada para filtrar os registros com base em duas condições:\n",
    "     - `sexo = 'F'`: Filtra os empregados pelo gênero, incluindo apenas aqueles do sexo feminino (`F`).\n",
    "     - `salario > 30000`: Adicionalmente, a consulta filtra para incluir somente os empregados cujos salários são superiores a 30.000. Este é um critério numérico que seleciona empregados com remuneração acima de um certo limiar."
   ]
  },
  {
   "cell_type": "markdown",
   "metadata": {},
   "source": [
    "j) Mostre os projetos em que o empregado 'Fábio' trabalha."
   ]
  },
  {
   "cell_type": "code",
   "execution_count": 46,
   "metadata": {},
   "outputs": [],
   "source": [
    "cursor.execute(\"\"\"SELECT p.pjnome AS \"Nome do Projeto\"\n",
    "FROM PROJETO p\n",
    "JOIN TRABALHA t ON p.pnumero = t.pno\n",
    "JOIN EMPREGADO e ON t.essn = e.ssn\n",
    "WHERE e.pnome = 'Fabio';\n",
    "\"\"\")\n",
    "\n",
    "# Obter resultados\n",
    "results = cursor.fetchall()\n",
    "if results:\n",
    "    for result in results:\n",
    "        print(result)"
   ]
  },
  {
   "cell_type": "markdown",
   "metadata": {},
   "source": [
    "### Análise dos Dados\n",
    "- Da tabela `EMPREGADO`, confirmamos que 'Fabio' está listado com um `SSN` de `'333445555'` e trabalha no departamento número `'5'`, com um salário de `40000.0`.\n",
    "- Da tabela `TRABALHA`, não vemos nenhum registro diretamente listado para 'Fabio' (`333445555`), o que sugere por que a consulta original não retornou resultados.\n",
    "\n",
    "### Verificação do Relacionamento entre Fabio e Projetos\n",
    "- Observamos que, apesar de Fabio estar listado na tabela `EMPREGADO`, não há entradas correspondentes para ele na tabela `TRABALHA` baseadas nos dados mostrados. Isso indica que, ou 'Fabio' não está atualmente alocado a nenhum projeto, já que removemos as ocorrências na atividade 1 f)."
   ]
  },
  {
   "cell_type": "markdown",
   "metadata": {},
   "source": [
    "**SELECT Clause**\n",
    "   - `p.pjnome AS \"Nome do Projeto\"`: Esta cláusula seleciona o nome do projeto (`pjnome`) da tabela `PROJETO`, onde `p` é o alias utilizado para a tabela `PROJETO`. O resultado dessa seleção é renomeado para \"Nome do Projeto\" para apresentação nos resultados finais. Isso torna claro o que cada valor na coluna representa, facilitando a interpretação dos dados.\n",
    "\n",
    "**FROM Clause**\n",
    "   - `FROM PROJETO p`: Esta cláusula especifica que os dados principais estão sendo extraídos da tabela `PROJETO`, com `p` servindo como um alias para simplificar referências na consulta.\n",
    "\n",
    "**JOIN Clauses**\n",
    "   - `JOIN TRABALHA t ON p.pnumero = t.pno`: Esta primeira junção conecta a tabela `PROJETO` com a tabela `TRABALHA`. O `ON p.pnumero = t.pno` especifica que a junção deve ser feita onde o número do projeto na tabela `PROJETO` (`p.pnumero`) corresponde ao número do projeto na tabela `TRABALHA` (`t.pno`). Esta junção permite relacionar projetos específicos com as entradas correspondentes na tabela `TRABALHA`, que registra os detalhes sobre o trabalho dos empregados nesses projetos.\n",
    "   - `JOIN EMPREGADO e ON t.essn = e.ssn`: A segunda junção conecta a tabela `TRABALHA` à tabela `EMPREGADO`. Aqui, a condição `ON t.essn = e.ssn` especifica que a junção deve ocorrer onde o número de seguro social do empregado registrado em `TRABALHA` (`t.essn`) corresponde ao número de seguro social (`ssn`) na tabela `EMPREGADO`. Isso liga as informações de trabalho à tabela de empregados, associando cada entrada de trabalho ao empregado correspondente.\n",
    "\n",
    "**WHERE Clause**\n",
    "   - `WHERE e.pnome = 'Fabio';`: Esta cláusula filtra os resultados para incluir apenas aqueles registros onde o primeiro nome do empregado é 'Fabio'. O filtro é aplicado após as junções terem sido realizadas, restringindo a saída final aos projetos em que 'Fabio' está envolvido. Esta cláusula é essencial para garantir que apenas os dados relevantes para o empregado especificado sejam retornados.\n"
   ]
  }
 ],
 "metadata": {
  "kernelspec": {
   "display_name": "Python 3",
   "language": "python",
   "name": "python3"
  },
  "language_info": {
   "codemirror_mode": {
    "name": "ipython",
    "version": 3
   },
   "file_extension": ".py",
   "mimetype": "text/x-python",
   "name": "python",
   "nbconvert_exporter": "python",
   "pygments_lexer": "ipython3",
   "version": "3.10.5"
  }
 },
 "nbformat": 4,
 "nbformat_minor": 2
}
