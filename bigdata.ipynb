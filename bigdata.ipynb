{
 "cells": [
  {
   "cell_type": "code",
   "execution_count": 1,
   "metadata": {},
   "outputs": [],
   "source": [
    "import psycopg2\n",
    "from psycopg2 import OperationalError"
   ]
  },
  {
   "cell_type": "code",
   "execution_count": 43,
   "metadata": {},
   "outputs": [],
   "source": [
    "def create_connection():\n",
    "    \"\"\"Estabelece uma conexão com o banco de dados PostgreSQL.\"\"\"\n",
    "    try:\n",
    "        connection = psycopg2.connect(\n",
    "            user=\"postgres\",\n",
    "            password=\"admin\",\n",
    "            host=\"localhost\",\n",
    "            port=\"5432\",\n",
    "            database=\"postgres\"\n",
    "        )\n",
    "        print(\"Conexão com o banco de dados estabelecida com sucesso!\")\n",
    "        return connection\n",
    "\n",
    "    except OperationalError as e:\n",
    "        print(f\"Erro ao conectar ao banco de dados: {e}\")\n",
    "        return None\n",
    "\n",
    "def close_connection(connection):\n",
    "    \"\"\"Fecha a conexão com o banco de dados.\"\"\"\n",
    "    if connection:\n",
    "        connection.close()\n",
    "        print(\"Conexão com o banco de dados fechada.\")"
   ]
  },
  {
   "cell_type": "code",
   "execution_count": 68,
   "metadata": {},
   "outputs": [
    {
     "name": "stdout",
     "output_type": "stream",
     "text": [
      "Conexão com o banco de dados fechada.\n"
     ]
    }
   ],
   "source": [
    "# Fechar a conexão\n",
    "close_connection(conn)"
   ]
  },
  {
   "cell_type": "code",
   "execution_count": 69,
   "metadata": {},
   "outputs": [
    {
     "name": "stdout",
     "output_type": "stream",
     "text": [
      "Conexão com o banco de dados estabelecida com sucesso!\n"
     ]
    }
   ],
   "source": [
    "# Criar uma conexão\n",
    "conn = create_connection()\n",
    "\n",
    "# Criar um cursor\n",
    "cursor = conn.cursor()"
   ]
  },
  {
   "cell_type": "code",
   "execution_count": null,
   "metadata": {},
   "outputs": [],
   "source": [
    "cursor.execute('''CREATE TABLE EMPREGADO (\n",
    "  ssn char(9) NOT NULL,\n",
    "  pnome varchar(30) NOT NULL,\n",
    "  inicialm char(1) default NULL,\n",
    "  unome varchar(30) NOT NULL,\n",
    "  sexo char(1) NOT NULL,\n",
    "  endereco varchar(50) default NULL,\n",
    "  datanasc date default NULL,\n",
    "  superssn char(9) default NULL,\n",
    "  dno char(1) NOT NULL,\n",
    "  salario float default NULL,\n",
    "  PRIMARY KEY  (ssn)\n",
    ") ;\n",
    "''')"
   ]
  },
  {
   "cell_type": "code",
   "execution_count": null,
   "metadata": {},
   "outputs": [],
   "source": [
    "cursor.execute(\"INSERT INTO EMPREGADO VALUES ('123456789', 'Joao', 'B', 'Souza', 'M', 'R. 24 de maio, 1500 - Curitiba - PR', '1965-01-09', '333445555', '5', '30000.00');\")\n",
    "cursor.execute(\"INSERT INTO EMPREGADO VALUES ('333445555', 'Fabio', 'T', 'Will', 'M', 'R. Alagoas, 325 - Curitiba - PR', '1955-12-08', '888665555', '5', '40000.00');\")\n",
    "cursor.execute(\"INSERT INTO EMPREGADO VALUES ('999887777', 'Alice', 'J', 'Zebra', 'F', 'R. Ribeira, 98 - Pinhais - PR', '1968-01-19', '987654321', '4', '25000.00');\")\n",
    "cursor.execute(\"INSERT INTO EMPREGADO VALUES ('987654321', 'Jennifer', 'S', 'Wallace', 'F', 'R. Berry, 291 - Colombo - PR', '1941-06-20', '888665555', '4', '43000.00');\")\n",
    "cursor.execute(\"INSERT INTO EMPREGADO VALUES ('666884444', 'Ricardo', 'K', 'Nantes', 'M', 'Av. Figueira, 55 - Almirante Tamandare - PR', '1962-09-15', '333445555', '5', '38000.00');\")\n",
    "cursor.execute(\"INSERT INTO EMPREGADO VALUES ('453453453', 'Jussara', 'A', 'Pereira', 'F', 'Trav. da Lapa, 23 - Curitiba - PR', '1972-07-31', '333445555', '5', '25000.00');\")\n",
    "cursor.execute(\"INSERT INTO EMPREGADO VALUES ('987987987', 'Alberto', 'V', 'Medeiros', 'M', 'R. Ceará, 1245 - Curitiba - PR', '1969-03-29', '987654321', '4', '25000.00');\")\n",
    "cursor.execute(\"INSERT INTO EMPREGADO VALUES ('888665555', 'Joaquim', 'E', 'Brito', 'M', 'R. Stone, 450 - Curitiba - PR', '1937-11-10', null, '1', '55000.00');\")"
   ]
  },
  {
   "cell_type": "code",
   "execution_count": null,
   "metadata": {},
   "outputs": [],
   "source": [
    "cursor.execute('''CREATE TABLE DEPARTAMENTO (\n",
    "  dnumero char(1) NOT NULL,\n",
    "  dnome varchar(30) NOT NULL,\n",
    "  gerssn char(9) NOT NULL,\n",
    "  gerdatainicio date NOT NULL,\n",
    "  PRIMARY KEY  (dnumero)\n",
    ") ;\n",
    "''')"
   ]
  },
  {
   "cell_type": "code",
   "execution_count": null,
   "metadata": {},
   "outputs": [],
   "source": [
    "cursor.execute(\"INSERT INTO DEPARTAMENTO VALUES ('5', 'Pesquisa', '333445555', '1988-05-22');\")\n",
    "cursor.execute(\"INSERT INTO DEPARTAMENTO VALUES ('4', 'Administracao', '987654321', '1995-01-01');\")\n",
    "cursor.execute(\"INSERT INTO DEPARTAMENTO VALUES ('1', 'Sede Administrativa', '888665555', '1981-06-19');\")"
   ]
  },
  {
   "cell_type": "code",
   "execution_count": null,
   "metadata": {},
   "outputs": [],
   "source": [
    "cursor.execute('''\n",
    "CREATE TABLE DEPENDENTE (\n",
    "  essn char(9) NOT NULL,\n",
    "  nomedep varchar(30) NOT NULL default '',\n",
    "  sexodep char(1) NOT NULL,\n",
    "  datanascdep date NOT NULL,\n",
    "  parentesco varchar(30) NOT NULL,\n",
    "  PRIMARY KEY  (essn,nomedep)\n",
    ") ;\n",
    "''')"
   ]
  },
  {
   "cell_type": "code",
   "execution_count": null,
   "metadata": {},
   "outputs": [],
   "source": [
    "cursor.execute(\"INSERT INTO DEPENDENTE VALUES ('333445555', 'Alice', 'F', '1986-04-05', 'FILHA');\")\n",
    "cursor.execute(\"INSERT INTO DEPENDENTE VALUES ('333445555', 'Teodoro', 'M', '1983-10-25', 'FILHO');\")\n",
    "cursor.execute(\"INSERT INTO DEPENDENTE VALUES ('333445555', 'Joana', 'F', '1958-05-03', 'CONJUGE');\")\n",
    "cursor.execute(\"INSERT INTO DEPENDENTE VALUES ('987654321', 'Abdala', 'M', '1942-02-28', 'CONJUGE');\")\n",
    "cursor.execute(\"INSERT INTO DEPENDENTE VALUES ('123456789', 'Michel', 'M', '1988-01-04', 'FILHO');\")\n",
    "cursor.execute(\"INSERT INTO DEPENDENTE VALUES ('123456789', 'Alice', 'F', '1988-12-30', 'FILHA');\")\n",
    "cursor.execute(\"INSERT INTO DEPENDENTE VALUES ('123456789', 'Elizabete', 'F', '1967-05-05', 'CONJUGE');\")"
   ]
  },
  {
   "cell_type": "code",
   "execution_count": null,
   "metadata": {},
   "outputs": [],
   "source": [
    "cursor.execute('''\n",
    "CREATE TABLE LOCALIZACAO (\n",
    "  dnum char(1) NOT NULL,\n",
    "  dlocalizacao varchar(30) NOT NULL,\n",
    "  PRIMARY KEY  (dnum,dlocalizacao)\n",
    ") ;\n",
    "''')"
   ]
  },
  {
   "cell_type": "code",
   "execution_count": null,
   "metadata": {},
   "outputs": [],
   "source": [
    "cursor.execute(\"INSERT INTO LOCALIZACAO VALUES ('1', 'Curitiba');\")\n",
    "cursor.execute(\"INSERT INTO LOCALIZACAO VALUES ('4', 'Colombo');\")\n",
    "cursor.execute(\"INSERT INTO LOCALIZACAO VALUES ('5', 'Araucaria');\")\n",
    "cursor.execute(\"INSERT INTO LOCALIZACAO VALUES ('5', 'Curitiba');\")\n",
    "cursor.execute(\"INSERT INTO LOCALIZACAO VALUES ('5', 'Pinhais');\")"
   ]
  },
  {
   "cell_type": "code",
   "execution_count": null,
   "metadata": {},
   "outputs": [],
   "source": [
    "cursor.execute('''\n",
    "CREATE TABLE PROJETO (\n",
    "  pnumero char(2) NOT NULL,\n",
    "  pjnome varchar(30) NOT NULL,\n",
    "  plocal varchar(30) NOT NULL,\n",
    "  dnum char(1) NOT NULL,\n",
    "  PRIMARY KEY  (pnumero)\n",
    ") ;\n",
    "''')"
   ]
  },
  {
   "cell_type": "code",
   "execution_count": null,
   "metadata": {},
   "outputs": [],
   "source": [
    "cursor.execute(\"INSERT INTO PROJETO VALUES ('1', 'ProdutoX', 'Pinhais', '5');\")\n",
    "cursor.execute(\"INSERT INTO PROJETO VALUES ('2', 'ProdutoY', 'Araucaria', '5');\")\n",
    "cursor.execute(\"INSERT INTO PROJETO VALUES ('3', 'ProdutoZ', 'Curitiba', '5');\")\n",
    "cursor.execute(\"INSERT INTO PROJETO VALUES ('10', 'Automatizacao', 'Pinhais', '4');\")\n",
    "cursor.execute(\"INSERT INTO PROJETO VALUES ('20', 'Reorganizacao', 'Curitiba', '1');\")\n",
    "cursor.execute(\"INSERT INTO PROJETO VALUES ('30', 'Novos Beneficios', 'Pinhais', '4');\")"
   ]
  },
  {
   "cell_type": "code",
   "execution_count": null,
   "metadata": {},
   "outputs": [],
   "source": [
    "cursor.execute('''\n",
    "CREATE TABLE TRABALHA (\n",
    "  essn char(9) NOT NULL,\n",
    "  pno char(2) NOT NULL,\n",
    "  horas float default NULL,\n",
    "  PRIMARY KEY  (essn,pno)\n",
    ") ;\n",
    "''')"
   ]
  },
  {
   "cell_type": "code",
   "execution_count": null,
   "metadata": {},
   "outputs": [],
   "source": [
    "cursor.execute(\"INSERT INTO TRABALHA VALUES ('123456789', '1', '32.5');\")\n",
    "cursor.execute(\"INSERT INTO TRABALHA VALUES ('123456789', '2', '7.5');\")\n",
    "cursor.execute(\"INSERT INTO TRABALHA VALUES ('666884444', '3', '40');\")\n",
    "cursor.execute(\"INSERT INTO TRABALHA VALUES ('453453453', '1', '20');\")\n",
    "cursor.execute(\"INSERT INTO TRABALHA VALUES ('453453453', '2', '20');\")\n",
    "cursor.execute(\"INSERT INTO TRABALHA VALUES ('333445555', '2', '10');\")\n",
    "cursor.execute(\"INSERT INTO TRABALHA VALUES ('333445555', '3', '10');\")\n",
    "cursor.execute(\"INSERT INTO TRABALHA VALUES ('333445555', '10', '10');\")\n",
    "cursor.execute(\"INSERT INTO TRABALHA VALUES ('333445555', '20', '10');\")\n",
    "cursor.execute(\"INSERT INTO TRABALHA VALUES ('999887777', '30', '30');\")\n",
    "cursor.execute(\"INSERT INTO TRABALHA VALUES ('999887777', '10', '10');\")\n",
    "cursor.execute(\"INSERT INTO TRABALHA VALUES ('987987987', '10', '35');\")\n",
    "cursor.execute(\"INSERT INTO TRABALHA VALUES ('987987987', '30', '5');\")\n",
    "cursor.execute(\"INSERT INTO TRABALHA VALUES ('987654321', '30', '20');\")\n",
    "cursor.execute(\"INSERT INTO TRABALHA VALUES ('987654321', '20', '15');\")\n",
    "cursor.execute(\"INSERT INTO TRABALHA VALUES ('888665555', '20', null);\")"
   ]
  },
  {
   "cell_type": "code",
   "execution_count": null,
   "metadata": {},
   "outputs": [],
   "source": [
    "cursor.execute(\"ALTER TABLE EMPREGADO ADD CONSTRAINT fk_empregado_empregado  FOREIGN KEY (superssn) REFERENCES  EMPREGADO (ssn);\")\n",
    "cursor.execute(\"ALTER TABLE EMPREGADO ADD CONSTRAINT fk_empregado_departamento FOREIGN KEY  (dno) REFERENCES  DEPARTAMENTO (dnumero) ;\")\n",
    "cursor.execute(\"ALTER TABLE DEPARTAMENTO ADD CONSTRAINT fk_departamento_empregado FOREIGN KEY (gerssn) REFERENCES  EMPREGADO (ssn) ;\")\n",
    "cursor.execute(\"ALTER TABLE DEPENDENTE ADD CONSTRAINT fk_dependente_empregado FOREIGN KEY (essn) REFERENCES EMPREGADO (ssn) ;\")\n",
    "cursor.execute(\"ALTER TABLE LOCALIZACAO ADD CONSTRAINT fk_localizacao_departamento FOREIGN KEY (dnum) REFERENCES  DEPARTAMENTO (dnumero) ;\")\n",
    "cursor.execute(\"ALTER TABLE PROJETO ADD CONSTRAINT fk_projeto_departamento FOREIGN KEY (dnum) REFERENCES  DEPARTAMENTO (dnumero) ;\")\n",
    "cursor.execute(\"ALTER TABLE TRABALHA ADD CONSTRAINT fk_trabalha_empregado FOREIGN KEY (essn) REFERENCES  EMPREGADO (ssn) ;\")\n",
    "cursor.execute(\"ALTER TABLE TRABALHA ADD CONSTRAINT fk_trabalha_projeto FOREIGN KEY (pno) REFERENCES  PROJETO (pnumero) ;\")\n",
    "               \n",
    "# Commitar as transações\n",
    "conn.commit()"
   ]
  },
  {
   "cell_type": "markdown",
   "metadata": {},
   "source": [
    "a) Insira >‘943775543’, ‘Roberto’, ‘F’, ‘Silva’, ‘M’, ‘Rua X, 22 – Araucária – PR’, ‘1952-06-21’,\n",
    "‘888665555’, ‘1’, 58000< em EMPREGADO."
   ]
  },
  {
   "cell_type": "code",
   "execution_count": 38,
   "metadata": {},
   "outputs": [],
   "source": [
    "cursor.execute(\"INSERT INTO EMPREGADO VALUES ('943775543', 'Roberto', 'F', 'Silva', 'M', 'Rua X, 22 – Araucária – PR', '1952-06-21', '888665555', '1', '58000');\")\n",
    "# Confirmar a transação\n",
    "conn.commit()"
   ]
  },
  {
   "cell_type": "code",
   "execution_count": 45,
   "metadata": {},
   "outputs": [
    {
     "name": "stdout",
     "output_type": "stream",
     "text": [
      "('123456789', 'Joao', 'B', 'Souza', 'M', 'R. 24 de maio, 1500 - Curitiba - PR', datetime.date(1965, 1, 9), '333445555', '5', 30000.0)\n",
      "('333445555', 'Fabio', 'T', 'Will', 'M', 'R. Alagoas, 325 - Curitiba - PR', datetime.date(1955, 12, 8), '888665555', '5', 40000.0)\n",
      "('999887777', 'Alice', 'J', 'Zebra', 'F', 'R. Ribeira, 98 - Pinhais - PR', datetime.date(1968, 1, 19), '987654321', '4', 25000.0)\n",
      "('987654321', 'Jennifer', 'S', 'Wallace', 'F', 'R. Berry, 291 - Colombo - PR', datetime.date(1941, 6, 20), '888665555', '4', 43000.0)\n",
      "('666884444', 'Ricardo', 'K', 'Nantes', 'M', 'Av. Figueira, 55 - Almirante Tamandare - PR', datetime.date(1962, 9, 15), '333445555', '5', 38000.0)\n",
      "('453453453', 'Jussara', 'A', 'Pereira', 'F', 'Trav. da Lapa, 23 - Curitiba - PR', datetime.date(1972, 7, 31), '333445555', '5', 25000.0)\n",
      "('987987987', 'Alberto', 'V', 'Medeiros', 'M', 'R. Ceará, 1245 - Curitiba - PR', datetime.date(1969, 3, 29), '987654321', '4', 25000.0)\n",
      "('888665555', 'Joaquim', 'E', 'Brito', 'M', 'R. Stone, 450 - Curitiba - PR', datetime.date(1937, 11, 10), None, '1', 55000.0)\n",
      "('943775543', 'Roberto', 'F', 'Silva', 'M', 'Rua X, 22 – Araucária – PR', datetime.date(1952, 6, 21), '888665555', '1', 58000.0)\n"
     ]
    }
   ],
   "source": [
    "cursor.execute(\"SELECT * FROM EMPREGADO;\")\n",
    "rows = cursor.fetchall()\n",
    "\n",
    "# Iterar sobre os resultados e imprimir\n",
    "for row in rows:\n",
    "    print(row)"
   ]
  },
  {
   "cell_type": "markdown",
   "metadata": {},
   "source": [
    "b) Insira >‘4’, ProdutoA’, ‘Araucaria’, ‘2’< em PROJETO"
   ]
  },
  {
   "cell_type": "code",
   "execution_count": 41,
   "metadata": {},
   "outputs": [
    {
     "ename": "ForeignKeyViolation",
     "evalue": "ERRO:  inserção ou atualização em tabela \"projeto\" viola restrição de chave estrangeira \"fk_projeto_departamento\"\nDETAIL:  Chave (dnum)=(2) não está presente na tabela \"departamento\".\n",
     "output_type": "error",
     "traceback": [
      "\u001b[1;31m---------------------------------------------------------------------------\u001b[0m",
      "\u001b[1;31mForeignKeyViolation\u001b[0m                       Traceback (most recent call last)",
      "Cell \u001b[1;32mIn [41], line 1\u001b[0m\n\u001b[1;32m----> 1\u001b[0m \u001b[43mcursor\u001b[49m\u001b[38;5;241;43m.\u001b[39;49m\u001b[43mexecute\u001b[49m\u001b[43m(\u001b[49m\u001b[38;5;124;43m\"\u001b[39;49m\u001b[38;5;124;43mINSERT INTO PROJETO VALUES (\u001b[39;49m\u001b[38;5;124;43m'\u001b[39;49m\u001b[38;5;124;43m4\u001b[39;49m\u001b[38;5;124;43m'\u001b[39;49m\u001b[38;5;124;43m, \u001b[39;49m\u001b[38;5;124;43m'\u001b[39;49m\u001b[38;5;124;43mProdutoA\u001b[39;49m\u001b[38;5;124;43m'\u001b[39;49m\u001b[38;5;124;43m, \u001b[39;49m\u001b[38;5;124;43m'\u001b[39;49m\u001b[38;5;124;43mAraucaria\u001b[39;49m\u001b[38;5;124;43m'\u001b[39;49m\u001b[38;5;124;43m, \u001b[39;49m\u001b[38;5;124;43m'\u001b[39;49m\u001b[38;5;124;43m2\u001b[39;49m\u001b[38;5;124;43m'\u001b[39;49m\u001b[38;5;124;43m);\u001b[39;49m\u001b[38;5;124;43m\"\u001b[39;49m\u001b[43m)\u001b[49m\n",
      "\u001b[1;31mForeignKeyViolation\u001b[0m: ERRO:  inserção ou atualização em tabela \"projeto\" viola restrição de chave estrangeira \"fk_projeto_departamento\"\nDETAIL:  Chave (dnum)=(2) não está presente na tabela \"departamento\".\n"
     ]
    }
   ],
   "source": [
    "cursor.execute(\"INSERT INTO PROJETO VALUES ('4', 'ProdutoA', 'Araucaria', '2');\")"
   ]
  },
  {
   "cell_type": "code",
   "execution_count": 47,
   "metadata": {},
   "outputs": [
    {
     "name": "stdout",
     "output_type": "stream",
     "text": [
      "('5', 'Pesquisa', '333445555', datetime.date(1988, 5, 22))\n",
      "('4', 'Administracao', '987654321', datetime.date(1995, 1, 1))\n",
      "('1', 'Sede Administrativa', '888665555', datetime.date(1981, 6, 19))\n"
     ]
    }
   ],
   "source": [
    "cursor.execute(\"SELECT * FROM DEPARTAMENTO;\")\n",
    "rows = cursor.fetchall()\n",
    "\n",
    "# Iterar sobre os resultados e imprimir\n",
    "for row in rows:\n",
    "    print(row)"
   ]
  },
  {
   "cell_type": "markdown",
   "metadata": {},
   "source": [
    "A tabela departamento não possui nenhum registro dnumero igual a 2, e esse atributo é chave primária, portanto ao tentar inserir um novo registro em projeto, com dnumero igual a 2, o banco de dados irá retorna um erro de chave estrangeira, pois não existe um departamento com dnumero igual a 2."
   ]
  },
  {
   "cell_type": "markdown",
   "metadata": {},
   "source": [
    "c) Insira >‘4’, ‘Produção’, ‘943775543’, ‘1998-10-01’< em DEPARTAMENTO."
   ]
  },
  {
   "cell_type": "code",
   "execution_count": 50,
   "metadata": {},
   "outputs": [
    {
     "ename": "UniqueViolation",
     "evalue": "ERRO:  duplicar valor da chave viola a restrição de unicidade \"departamento_pkey\"\nDETAIL:  Chave (dnumero)=(4) já existe.\n",
     "output_type": "error",
     "traceback": [
      "\u001b[1;31m---------------------------------------------------------------------------\u001b[0m",
      "\u001b[1;31mUniqueViolation\u001b[0m                           Traceback (most recent call last)",
      "Cell \u001b[1;32mIn [50], line 1\u001b[0m\n\u001b[1;32m----> 1\u001b[0m \u001b[43mcursor\u001b[49m\u001b[38;5;241;43m.\u001b[39;49m\u001b[43mexecute\u001b[49m\u001b[43m(\u001b[49m\u001b[38;5;124;43m\"\u001b[39;49m\u001b[38;5;124;43mINSERT INTO DEPARTAMENTO VALUES (\u001b[39;49m\u001b[38;5;124;43m'\u001b[39;49m\u001b[38;5;124;43m4\u001b[39;49m\u001b[38;5;124;43m'\u001b[39;49m\u001b[38;5;124;43m, \u001b[39;49m\u001b[38;5;124;43m'\u001b[39;49m\u001b[38;5;124;43mProdução\u001b[39;49m\u001b[38;5;124;43m'\u001b[39;49m\u001b[38;5;124;43m, \u001b[39;49m\u001b[38;5;124;43m'\u001b[39;49m\u001b[38;5;124;43m943775543\u001b[39;49m\u001b[38;5;124;43m'\u001b[39;49m\u001b[38;5;124;43m, \u001b[39;49m\u001b[38;5;124;43m'\u001b[39;49m\u001b[38;5;124;43m1998-10-01\u001b[39;49m\u001b[38;5;124;43m'\u001b[39;49m\u001b[38;5;124;43m);\u001b[39;49m\u001b[38;5;124;43m\"\u001b[39;49m\u001b[43m)\u001b[49m\n\u001b[0;32m      2\u001b[0m \u001b[38;5;66;03m# Confirmar a transação\u001b[39;00m\n\u001b[0;32m      3\u001b[0m conn\u001b[38;5;241m.\u001b[39mcommit()\n",
      "\u001b[1;31mUniqueViolation\u001b[0m: ERRO:  duplicar valor da chave viola a restrição de unicidade \"departamento_pkey\"\nDETAIL:  Chave (dnumero)=(4) já existe.\n"
     ]
    }
   ],
   "source": [
    "cursor.execute(\"INSERT INTO DEPARTAMENTO VALUES ('4', 'Produção', '943775543', '1998-10-01');\")\n",
    "# Confirmar a transação\n",
    "conn.commit()"
   ]
  },
  {
   "cell_type": "markdown",
   "metadata": {},
   "source": [
    "dnumero é chave primária na tabela departamento, e o valor 4 já existe, portanto ao tentar inserir um novo registro em departamento, com dnumero igual a 4, o banco de dados irá retorna um erro de chave primária, pois já existe um departamento com dnumero igual a 4."
   ]
  },
  {
   "cell_type": "markdown",
   "metadata": {},
   "source": [
    "d) Insira >‘677678989’, null, 40.0< em TRABALHA"
   ]
  },
  {
   "cell_type": "code",
   "execution_count": 54,
   "metadata": {},
   "outputs": [
    {
     "ename": "StringDataRightTruncation",
     "evalue": "ERRO:  valor é muito longo para tipo character(2)\n",
     "output_type": "error",
     "traceback": [
      "\u001b[1;31m---------------------------------------------------------------------------\u001b[0m",
      "\u001b[1;31mStringDataRightTruncation\u001b[0m                 Traceback (most recent call last)",
      "Cell \u001b[1;32mIn [54], line 1\u001b[0m\n\u001b[1;32m----> 1\u001b[0m \u001b[43mcursor\u001b[49m\u001b[38;5;241;43m.\u001b[39;49m\u001b[43mexecute\u001b[49m\u001b[43m(\u001b[49m\u001b[38;5;124;43m\"\u001b[39;49m\u001b[38;5;124;43mINSERT INTO TRABALHA VALUES (\u001b[39;49m\u001b[38;5;124;43m'\u001b[39;49m\u001b[38;5;124;43m677678989\u001b[39;49m\u001b[38;5;124;43m'\u001b[39;49m\u001b[38;5;124;43m, \u001b[39;49m\u001b[38;5;124;43m'\u001b[39;49m\u001b[38;5;124;43mnull\u001b[39;49m\u001b[38;5;124;43m'\u001b[39;49m\u001b[38;5;124;43m, \u001b[39;49m\u001b[38;5;124;43m'\u001b[39;49m\u001b[38;5;124;43m40.0\u001b[39;49m\u001b[38;5;124;43m'\u001b[39;49m\u001b[38;5;124;43m);\u001b[39;49m\u001b[38;5;124;43m\"\u001b[39;49m\u001b[43m)\u001b[49m\n\u001b[0;32m      2\u001b[0m \u001b[38;5;66;03m# Confirmar a transação\u001b[39;00m\n\u001b[0;32m      3\u001b[0m conn\u001b[38;5;241m.\u001b[39mcommit()\n",
      "\u001b[1;31mStringDataRightTruncation\u001b[0m: ERRO:  valor é muito longo para tipo character(2)\n"
     ]
    }
   ],
   "source": [
    "cursor.execute(\"INSERT INTO TRABALHA VALUES ('677678989', 'null', '40.0');\")\n",
    "# Confirmar a transação\n",
    "conn.commit()"
   ]
  },
  {
   "cell_type": "markdown",
   "metadata": {},
   "source": [
    "O campo pno aceita apenas char com 2 caracteres, e o valor inserido 'null' possui 4 caracteres, portanto o banco de dados irá retornar um erro de tipo de dados."
   ]
  },
  {
   "cell_type": "markdown",
   "metadata": {},
   "source": [
    "e) Insira >‘453453453’, ‘Joao’, ‘M’, ‘1970-12-12’, ‘CONJUGE’< em DEPENDENTE."
   ]
  },
  {
   "cell_type": "code",
   "execution_count": 57,
   "metadata": {},
   "outputs": [],
   "source": [
    "cursor.execute(\"INSERT INTO DEPENDENTE VALUES ('453453453', 'Joao', 'M', '1970-12-12', 'CONJUGE');\")\n",
    "# Confirmar a transação\n",
    "conn.commit()"
   ]
  },
  {
   "cell_type": "code",
   "execution_count": 58,
   "metadata": {},
   "outputs": [
    {
     "name": "stdout",
     "output_type": "stream",
     "text": [
      "('333445555', 'Alice', 'F', datetime.date(1986, 4, 5), 'FILHA')\n",
      "('333445555', 'Teodoro', 'M', datetime.date(1983, 10, 25), 'FILHO')\n",
      "('333445555', 'Joana', 'F', datetime.date(1958, 5, 3), 'CONJUGE')\n",
      "('987654321', 'Abdala', 'M', datetime.date(1942, 2, 28), 'CONJUGE')\n",
      "('123456789', 'Michel', 'M', datetime.date(1988, 1, 4), 'FILHO')\n",
      "('123456789', 'Alice', 'F', datetime.date(1988, 12, 30), 'FILHA')\n",
      "('123456789', 'Elizabete', 'F', datetime.date(1967, 5, 5), 'CONJUGE')\n",
      "('453453453', 'Joao', 'M', datetime.date(1970, 12, 12), 'CONJUGE')\n"
     ]
    }
   ],
   "source": [
    "cursor.execute(\"SELECT * FROM DEPENDENTE;\")\n",
    "rows = cursor.fetchall()\n",
    "\n",
    "# Iterar sobre os resultados e imprimir\n",
    "for row in rows:\n",
    "    print(row)"
   ]
  },
  {
   "cell_type": "markdown",
   "metadata": {},
   "source": [
    "f) Remova as tuplas de TRABALHA com ESSN = ‘333445555’"
   ]
  },
  {
   "cell_type": "code",
   "execution_count": 59,
   "metadata": {},
   "outputs": [],
   "source": [
    "cursor.execute(\"DELETE FROM TRABALHA WHERE essn = '333445555';\")\n",
    "# Confirmar a transação\n",
    "conn.commit()"
   ]
  },
  {
   "cell_type": "code",
   "execution_count": 60,
   "metadata": {},
   "outputs": [
    {
     "name": "stdout",
     "output_type": "stream",
     "text": [
      "('123456789', '1 ', 32.5)\n",
      "('123456789', '2 ', 7.5)\n",
      "('666884444', '3 ', 40.0)\n",
      "('453453453', '1 ', 20.0)\n",
      "('453453453', '2 ', 20.0)\n",
      "('999887777', '30', 30.0)\n",
      "('999887777', '10', 10.0)\n",
      "('987987987', '10', 35.0)\n",
      "('987987987', '30', 5.0)\n",
      "('987654321', '30', 20.0)\n",
      "('987654321', '20', 15.0)\n",
      "('888665555', '20', None)\n"
     ]
    }
   ],
   "source": [
    "cursor.execute(\"SELECT * FROM TRABALHA;\")\n",
    "rows = cursor.fetchall()\n",
    "\n",
    "# Iterar sobre os resultados e imprimir\n",
    "for row in rows:\n",
    "    print(row)"
   ]
  },
  {
   "cell_type": "markdown",
   "metadata": {},
   "source": [
    "g) Remova a tupla de EMPREGADO com SSN = ‘987654321’."
   ]
  },
  {
   "cell_type": "code",
   "execution_count": 61,
   "metadata": {},
   "outputs": [
    {
     "ename": "ForeignKeyViolation",
     "evalue": "ERRO:  atualização ou exclusão em tabela \"empregado\" viola restrição de chave estrangeira \"fk_empregado_empregado\" em \"empregado\"\nDETAIL:  Chave (ssn)=(987654321) ainda é referenciada pela tabela \"empregado\".\n",
     "output_type": "error",
     "traceback": [
      "\u001b[1;31m---------------------------------------------------------------------------\u001b[0m",
      "\u001b[1;31mForeignKeyViolation\u001b[0m                       Traceback (most recent call last)",
      "Cell \u001b[1;32mIn [61], line 1\u001b[0m\n\u001b[1;32m----> 1\u001b[0m \u001b[43mcursor\u001b[49m\u001b[38;5;241;43m.\u001b[39;49m\u001b[43mexecute\u001b[49m\u001b[43m(\u001b[49m\u001b[38;5;124;43m\"\u001b[39;49m\u001b[38;5;124;43mDELETE FROM EMPREGADO WHERE ssn = \u001b[39;49m\u001b[38;5;124;43m'\u001b[39;49m\u001b[38;5;124;43m987654321\u001b[39;49m\u001b[38;5;124;43m'\u001b[39;49m\u001b[38;5;124;43m;\u001b[39;49m\u001b[38;5;124;43m\"\u001b[39;49m\u001b[43m)\u001b[49m\n\u001b[0;32m      2\u001b[0m \u001b[38;5;66;03m# Confirmar a transação\u001b[39;00m\n\u001b[0;32m      3\u001b[0m conn\u001b[38;5;241m.\u001b[39mcommit()\n",
      "\u001b[1;31mForeignKeyViolation\u001b[0m: ERRO:  atualização ou exclusão em tabela \"empregado\" viola restrição de chave estrangeira \"fk_empregado_empregado\" em \"empregado\"\nDETAIL:  Chave (ssn)=(987654321) ainda é referenciada pela tabela \"empregado\".\n"
     ]
    }
   ],
   "source": [
    "cursor.execute(\"DELETE FROM EMPREGADO WHERE ssn = '987654321';\")\n",
    "# Confirmar a transação\n",
    "conn.commit()"
   ]
  },
  {
   "cell_type": "code",
   "execution_count": 64,
   "metadata": {},
   "outputs": [
    {
     "name": "stdout",
     "output_type": "stream",
     "text": [
      "('123456789', 'Joao', 'B', 'Souza', 'M', 'R. 24 de maio, 1500 - Curitiba - PR', datetime.date(1965, 1, 9), '333445555', '5', 30000.0)\n",
      "('333445555', 'Fabio', 'T', 'Will', 'M', 'R. Alagoas, 325 - Curitiba - PR', datetime.date(1955, 12, 8), '888665555', '5', 40000.0)\n",
      "('999887777', 'Alice', 'J', 'Zebra', 'F', 'R. Ribeira, 98 - Pinhais - PR', datetime.date(1968, 1, 19), '987654321', '4', 25000.0)\n",
      "('987654321', 'Jennifer', 'S', 'Wallace', 'F', 'R. Berry, 291 - Colombo - PR', datetime.date(1941, 6, 20), '888665555', '4', 43000.0)\n",
      "('666884444', 'Ricardo', 'K', 'Nantes', 'M', 'Av. Figueira, 55 - Almirante Tamandare - PR', datetime.date(1962, 9, 15), '333445555', '5', 38000.0)\n",
      "('453453453', 'Jussara', 'A', 'Pereira', 'F', 'Trav. da Lapa, 23 - Curitiba - PR', datetime.date(1972, 7, 31), '333445555', '5', 25000.0)\n",
      "('987987987', 'Alberto', 'V', 'Medeiros', 'M', 'R. Ceará, 1245 - Curitiba - PR', datetime.date(1969, 3, 29), '987654321', '4', 25000.0)\n",
      "('888665555', 'Joaquim', 'E', 'Brito', 'M', 'R. Stone, 450 - Curitiba - PR', datetime.date(1937, 11, 10), None, '1', 55000.0)\n",
      "('943775543', 'Roberto', 'F', 'Silva', 'M', 'Rua X, 22 – Araucária – PR', datetime.date(1952, 6, 21), '888665555', '1', 58000.0)\n"
     ]
    }
   ],
   "source": [
    "cursor.execute(\"SELECT * FROM EMPREGADO;\")\n",
    "rows = cursor.fetchall()\n",
    "\n",
    "# Iterar sobre os resultados e imprimir\n",
    "for row in rows:\n",
    "    print(row)"
   ]
  },
  {
   "cell_type": "markdown",
   "metadata": {},
   "source": [
    "O atributo ssn da tabela empregado, é chave primária e estrangeira, sendo referenciada por superssn na mesma tabela, e por essn na tabela trabalha, portanto ao tentar remover a tupla de empregado com ssn igual a 987654321, o banco de dados irá retornar um erro de chave estrangeira, pois existem registros na mesma tabela e em outras tabelas que referenciam essa tupla."
   ]
  },
  {
   "cell_type": "markdown",
   "metadata": {},
   "source": [
    "h) Remova a tupla de PROJETO com PJNOME = ‘ProdutoX’"
   ]
  },
  {
   "cell_type": "code",
   "execution_count": 67,
   "metadata": {},
   "outputs": [
    {
     "ename": "ForeignKeyViolation",
     "evalue": "ERRO:  atualização ou exclusão em tabela \"projeto\" viola restrição de chave estrangeira \"fk_trabalha_projeto\" em \"trabalha\"\nDETAIL:  Chave (pnumero)=(1 ) ainda é referenciada pela tabela \"trabalha\".\n",
     "output_type": "error",
     "traceback": [
      "\u001b[1;31m---------------------------------------------------------------------------\u001b[0m",
      "\u001b[1;31mForeignKeyViolation\u001b[0m                       Traceback (most recent call last)",
      "Cell \u001b[1;32mIn [67], line 1\u001b[0m\n\u001b[1;32m----> 1\u001b[0m \u001b[43mcursor\u001b[49m\u001b[38;5;241;43m.\u001b[39;49m\u001b[43mexecute\u001b[49m\u001b[43m(\u001b[49m\u001b[38;5;124;43m\"\u001b[39;49m\u001b[38;5;124;43mDELETE FROM PROJETO WHERE PJNOME = \u001b[39;49m\u001b[38;5;124;43m'\u001b[39;49m\u001b[38;5;124;43mProdutoX\u001b[39;49m\u001b[38;5;124;43m'\u001b[39;49m\u001b[38;5;124;43m;\u001b[39;49m\u001b[38;5;124;43m\"\u001b[39;49m\u001b[43m)\u001b[49m\n\u001b[0;32m      2\u001b[0m \u001b[38;5;66;03m# Confirmar a transação\u001b[39;00m\n\u001b[0;32m      3\u001b[0m conn\u001b[38;5;241m.\u001b[39mcommit()\n",
      "\u001b[1;31mForeignKeyViolation\u001b[0m: ERRO:  atualização ou exclusão em tabela \"projeto\" viola restrição de chave estrangeira \"fk_trabalha_projeto\" em \"trabalha\"\nDETAIL:  Chave (pnumero)=(1 ) ainda é referenciada pela tabela \"trabalha\".\n"
     ]
    }
   ],
   "source": [
    "cursor.execute(\"DELETE FROM PROJETO WHERE PJNOME = 'ProdutoX';\")\n",
    "# Confirmar a transação\n",
    "conn.commit()"
   ]
  },
  {
   "cell_type": "code",
   "execution_count": 71,
   "metadata": {},
   "outputs": [
    {
     "name": "stdout",
     "output_type": "stream",
     "text": [
      "('1 ', 'ProdutoX', 'Pinhais', '5')\n",
      "('2 ', 'ProdutoY', 'Araucaria', '5')\n",
      "('3 ', 'ProdutoZ', 'Curitiba', '5')\n",
      "('10', 'Automatizacao', 'Pinhais', '4')\n",
      "('20', 'Reorganizacao', 'Curitiba', '1')\n",
      "('30', 'Novos Beneficios', 'Pinhais', '4')\n"
     ]
    }
   ],
   "source": [
    "cursor.execute(\"SELECT * FROM PROJETO;\")\n",
    "rows = cursor.fetchall()\n",
    "\n",
    "# Iterar sobre os resultados e imprimir\n",
    "for row in rows:\n",
    "    print(row)"
   ]
  },
  {
   "cell_type": "code",
   "execution_count": 70,
   "metadata": {},
   "outputs": [
    {
     "name": "stdout",
     "output_type": "stream",
     "text": [
      "('123456789', '1 ', 32.5)\n",
      "('123456789', '2 ', 7.5)\n",
      "('666884444', '3 ', 40.0)\n",
      "('453453453', '1 ', 20.0)\n",
      "('453453453', '2 ', 20.0)\n",
      "('999887777', '30', 30.0)\n",
      "('999887777', '10', 10.0)\n",
      "('987987987', '10', 35.0)\n",
      "('987987987', '30', 5.0)\n",
      "('987654321', '30', 20.0)\n",
      "('987654321', '20', 15.0)\n",
      "('888665555', '20', None)\n"
     ]
    }
   ],
   "source": [
    "cursor.execute(\"SELECT * FROM TRABALHA;\")\n",
    "rows = cursor.fetchall()\n",
    "\n",
    "# Iterar sobre os resultados e imprimir\n",
    "for row in rows:\n",
    "    print(row)"
   ]
  },
  {
   "cell_type": "markdown",
   "metadata": {},
   "source": [
    "Pnumero é chave primária em projeto, e chave estrangeira em trabalha, portanto ao tentar remover a tupla de projeto com pjnome igual a ProdutoX, o banco de dados irá retornar um erro de chave estrangeira, pois existem registros na tabela trabalha que referenciam essa tupla."
   ]
  },
  {
   "cell_type": "markdown",
   "metadata": {},
   "source": [
    "i) Modifique o GERSSN e GERDATAINICIO da tupla de DEPARTAMENTO com DNUMERO = 5\n",
    "para ‘123456789’ e ‘1999-01-10’, respectivamente."
   ]
  },
  {
   "cell_type": "code",
   "execution_count": 72,
   "metadata": {},
   "outputs": [],
   "source": [
    "cursor.execute(\"UPDATE DEPARTAMENTO SET GERSSN = '123456789' , GERDATAINICIO ='1999-01-10'  WHERE DNUMERO = '5';\")\n",
    "# Confirmar a transação\n",
    "conn.commit()"
   ]
  },
  {
   "cell_type": "code",
   "execution_count": 73,
   "metadata": {},
   "outputs": [
    {
     "name": "stdout",
     "output_type": "stream",
     "text": [
      "('4', 'Administracao', '987654321', datetime.date(1995, 1, 1))\n",
      "('1', 'Sede Administrativa', '888665555', datetime.date(1981, 6, 19))\n",
      "('5', 'Pesquisa', '123456789', datetime.date(1999, 1, 10))\n"
     ]
    }
   ],
   "source": [
    "cursor.execute(\"SELECT * FROM DEPARTAMENTO;\")\n",
    "rows = cursor.fetchall()\n",
    "\n",
    "# Iterar sobre os resultados e imprimir\n",
    "for row in rows:\n",
    "    print(row)"
   ]
  },
  {
   "cell_type": "markdown",
   "metadata": {},
   "source": [
    "j) Modifique o atributo SUPERSSN da tupla EMPREGADO com SSN = ‘999887777’ para\n",
    "‘943775543’."
   ]
  },
  {
   "cell_type": "code",
   "execution_count": 74,
   "metadata": {},
   "outputs": [],
   "source": [
    "cursor.execute(\"UPDATE EMPREGADO SET SUPERSSN = '943775543' WHERE SSN = '999887777';\")\n",
    "# Confirmar a transação\n",
    "conn.commit()"
   ]
  },
  {
   "cell_type": "code",
   "execution_count": 75,
   "metadata": {},
   "outputs": [
    {
     "name": "stdout",
     "output_type": "stream",
     "text": [
      "('123456789', 'Joao', 'B', 'Souza', 'M', 'R. 24 de maio, 1500 - Curitiba - PR', datetime.date(1965, 1, 9), '333445555', '5', 30000.0)\n",
      "('333445555', 'Fabio', 'T', 'Will', 'M', 'R. Alagoas, 325 - Curitiba - PR', datetime.date(1955, 12, 8), '888665555', '5', 40000.0)\n",
      "('987654321', 'Jennifer', 'S', 'Wallace', 'F', 'R. Berry, 291 - Colombo - PR', datetime.date(1941, 6, 20), '888665555', '4', 43000.0)\n",
      "('666884444', 'Ricardo', 'K', 'Nantes', 'M', 'Av. Figueira, 55 - Almirante Tamandare - PR', datetime.date(1962, 9, 15), '333445555', '5', 38000.0)\n",
      "('453453453', 'Jussara', 'A', 'Pereira', 'F', 'Trav. da Lapa, 23 - Curitiba - PR', datetime.date(1972, 7, 31), '333445555', '5', 25000.0)\n",
      "('987987987', 'Alberto', 'V', 'Medeiros', 'M', 'R. Ceará, 1245 - Curitiba - PR', datetime.date(1969, 3, 29), '987654321', '4', 25000.0)\n",
      "('888665555', 'Joaquim', 'E', 'Brito', 'M', 'R. Stone, 450 - Curitiba - PR', datetime.date(1937, 11, 10), None, '1', 55000.0)\n",
      "('943775543', 'Roberto', 'F', 'Silva', 'M', 'Rua X, 22 – Araucária – PR', datetime.date(1952, 6, 21), '888665555', '1', 58000.0)\n",
      "('999887777', 'Alice', 'J', 'Zebra', 'F', 'R. Ribeira, 98 - Pinhais - PR', datetime.date(1968, 1, 19), '943775543', '4', 25000.0)\n"
     ]
    }
   ],
   "source": [
    "cursor.execute(\"SELECT * FROM EMPREGADO;\")\n",
    "rows = cursor.fetchall()\n",
    "\n",
    "# Iterar sobre os resultados e imprimir\n",
    "for row in rows:\n",
    "    print(row)"
   ]
  },
  {
   "cell_type": "markdown",
   "metadata": {},
   "source": [
    "l) Modifique o atributo HORAS da tupla de TRABALHA com ESSN = ‘999887777’ e PNO = ‘10’\n",
    "para 5,0."
   ]
  },
  {
   "cell_type": "code",
   "execution_count": 76,
   "metadata": {},
   "outputs": [],
   "source": [
    "cursor.execute(\"UPDATE TRABALHA SET HORAS = '5' WHERE ESSN = '999887777' AND PNO = '10';\")\n",
    "# Confirmar a transação\n",
    "conn.commit()"
   ]
  },
  {
   "cell_type": "code",
   "execution_count": 77,
   "metadata": {},
   "outputs": [
    {
     "name": "stdout",
     "output_type": "stream",
     "text": [
      "('123456789', '1 ', 32.5)\n",
      "('123456789', '2 ', 7.5)\n",
      "('666884444', '3 ', 40.0)\n",
      "('453453453', '1 ', 20.0)\n",
      "('453453453', '2 ', 20.0)\n",
      "('999887777', '30', 30.0)\n",
      "('987987987', '10', 35.0)\n",
      "('987987987', '30', 5.0)\n",
      "('987654321', '30', 20.0)\n",
      "('987654321', '20', 15.0)\n",
      "('888665555', '20', None)\n",
      "('999887777', '10', 5.0)\n"
     ]
    }
   ],
   "source": [
    "cursor.execute(\"SELECT * FROM TRABALHA;\")\n",
    "rows = cursor.fetchall()\n",
    "\n",
    "# Iterar sobre os resultados e imprimir\n",
    "for row in rows:\n",
    "    print(row)"
   ]
  },
  {
   "cell_type": "code",
   "execution_count": null,
   "metadata": {},
   "outputs": [],
   "source": []
  }
 ],
 "metadata": {
  "kernelspec": {
   "display_name": "Python 3",
   "language": "python",
   "name": "python3"
  },
  "language_info": {
   "codemirror_mode": {
    "name": "ipython",
    "version": 3
   },
   "file_extension": ".py",
   "mimetype": "text/x-python",
   "name": "python",
   "nbconvert_exporter": "python",
   "pygments_lexer": "ipython3",
   "version": "3.10.5"
  }
 },
 "nbformat": 4,
 "nbformat_minor": 2
}
