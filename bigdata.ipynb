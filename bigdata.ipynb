{
 "cells": [
  {
   "cell_type": "code",
   "execution_count": 71,
   "metadata": {},
   "outputs": [],
   "source": [
    "import psycopg2\n",
    "from psycopg2 import OperationalError"
   ]
  },
  {
   "cell_type": "code",
   "execution_count": 82,
   "metadata": {},
   "outputs": [],
   "source": [
    "def create_connection():\n",
    "    \"\"\"Estabelece uma conexão com o banco de dados PostgreSQL.\"\"\"\n",
    "    try:\n",
    "        connection = psycopg2.connect(\n",
    "            user=\"postgres\",\n",
    "            password=\"admin\",\n",
    "            host=\"localhost\",\n",
    "            port=\"5432\",\n",
    "            database=\"big_data\"\n",
    "        )\n",
    "        print(\"Conexão com o banco de dados estabelecida com sucesso!\")\n",
    "        return connection\n",
    "\n",
    "    except OperationalError as e:\n",
    "        print(f\"Erro ao conectar ao banco de dados: {e}\")\n",
    "        return None\n",
    "\n",
    "def close_connection(connection):\n",
    "    \"\"\"Fecha a conexão com o banco de dados.\"\"\"\n",
    "    if connection:\n",
    "        connection.close()\n",
    "        print(\"Conexão com o banco de dados fechada.\")"
   ]
  },
  {
   "cell_type": "code",
   "execution_count": 115,
   "metadata": {},
   "outputs": [
    {
     "name": "stdout",
     "output_type": "stream",
     "text": [
      "Conexão com o banco de dados estabelecida com sucesso!\n"
     ]
    }
   ],
   "source": [
    "# Criar uma conexão\n",
    "conn = create_connection()\n",
    "\n",
    "# Criar um cursor\n",
    "cursor = conn.cursor()"
   ]
  },
  {
   "cell_type": "code",
   "execution_count": 114,
   "metadata": {},
   "outputs": [
    {
     "name": "stdout",
     "output_type": "stream",
     "text": [
      "Conexão com o banco de dados fechada.\n"
     ]
    }
   ],
   "source": [
    "# encerrar conexão\n",
    "close_connection(conn)"
   ]
  },
  {
   "cell_type": "code",
   "execution_count": 63,
   "metadata": {},
   "outputs": [],
   "source": [
    "cursor.execute('''CREATE TABLE EMPREGADO (\n",
    "  ssn char(9) NOT NULL,\n",
    "  pnome varchar(30) NOT NULL,\n",
    "  inicialm char(1) default NULL,\n",
    "  unome varchar(30) NOT NULL,\n",
    "  sexo char(1) NOT NULL,\n",
    "  endereco varchar(50) default NULL,\n",
    "  datanasc date default NULL,\n",
    "  superssn char(9) default NULL,\n",
    "  dno char(1) NOT NULL,\n",
    "  salario float default NULL,\n",
    "  PRIMARY KEY  (ssn)\n",
    ") ;\n",
    "''')"
   ]
  },
  {
   "cell_type": "code",
   "execution_count": 64,
   "metadata": {},
   "outputs": [],
   "source": [
    "cursor.execute(\"INSERT INTO EMPREGADO VALUES ('123456789', 'Joao', 'B', 'Souza', 'M', 'R. 24 de maio, 1500 - Curitiba - PR', '1965-01-09', '333445555', '5', '30000.00');\")\n",
    "cursor.execute(\"INSERT INTO EMPREGADO VALUES ('333445555', 'Fabio', 'T', 'Will', 'M', 'R. Alagoas, 325 - Curitiba - PR', '1955-12-08', '888665555', '5', '40000.00');\")\n",
    "cursor.execute(\"INSERT INTO EMPREGADO VALUES ('999887777', 'Alice', 'J', 'Zebra', 'F', 'R. Ribeira, 98 - Pinhais - PR', '1968-01-19', '987654321', '4', '25000.00');\")\n",
    "cursor.execute(\"INSERT INTO EMPREGADO VALUES ('987654321', 'Jennifer', 'S', 'Wallace', 'F', 'R. Berry, 291 - Colombo - PR', '1941-06-20', '888665555', '4', '43000.00');\")\n",
    "cursor.execute(\"INSERT INTO EMPREGADO VALUES ('666884444', 'Ricardo', 'K', 'Nantes', 'M', 'Av. Figueira, 55 - Almirante Tamandare - PR', '1962-09-15', '333445555', '5', '38000.00');\")\n",
    "cursor.execute(\"INSERT INTO EMPREGADO VALUES ('453453453', 'Jussara', 'A', 'Pereira', 'F', 'Trav. da Lapa, 23 - Curitiba - PR', '1972-07-31', '333445555', '5', '25000.00');\")\n",
    "cursor.execute(\"INSERT INTO EMPREGADO VALUES ('987987987', 'Alberto', 'V', 'Medeiros', 'M', 'R. Ceará, 1245 - Curitiba - PR', '1969-03-29', '987654321', '4', '25000.00');\")\n",
    "cursor.execute(\"INSERT INTO EMPREGADO VALUES ('888665555', 'Joaquim', 'E', 'Brito', 'M', 'R. Stone, 450 - Curitiba - PR', '1937-11-10', null, '1', '55000.00');\")"
   ]
  },
  {
   "cell_type": "code",
   "execution_count": 65,
   "metadata": {},
   "outputs": [],
   "source": [
    "cursor.execute('''CREATE TABLE DEPARTAMENTO (\n",
    "  dnumero char(1) NOT NULL,\n",
    "  dnome varchar(30) NOT NULL,\n",
    "  gerssn char(9) NOT NULL,\n",
    "  gerdatainicio date NOT NULL,\n",
    "  PRIMARY KEY  (dnumero)\n",
    ") ;\n",
    "''')"
   ]
  },
  {
   "cell_type": "code",
   "execution_count": 66,
   "metadata": {},
   "outputs": [],
   "source": [
    "cursor.execute(\"INSERT INTO DEPARTAMENTO VALUES ('5', 'Pesquisa', '333445555', '1988-05-22');\")\n",
    "cursor.execute(\"INSERT INTO DEPARTAMENTO VALUES ('4', 'Administracao', '987654321', '1995-01-01');\")\n",
    "cursor.execute(\"INSERT INTO DEPARTAMENTO VALUES ('1', 'Sede Administrativa', '888665555', '1981-06-19');\")"
   ]
  },
  {
   "cell_type": "code",
   "execution_count": 67,
   "metadata": {},
   "outputs": [],
   "source": [
    "cursor.execute('''\n",
    "CREATE TABLE DEPENDENTE (\n",
    "  essn char(9) NOT NULL,\n",
    "  nomedep varchar(30) NOT NULL default '',\n",
    "  sexodep char(1) NOT NULL,\n",
    "  datanascdep date NOT NULL,\n",
    "  parentesco varchar(30) NOT NULL,\n",
    "  PRIMARY KEY  (essn,nomedep)\n",
    ") ;\n",
    "''')"
   ]
  },
  {
   "cell_type": "code",
   "execution_count": 68,
   "metadata": {},
   "outputs": [],
   "source": [
    "cursor.execute(\"INSERT INTO DEPENDENTE VALUES ('333445555', 'Alice', 'F', '1986-04-05', 'FILHA');\")\n",
    "cursor.execute(\"INSERT INTO DEPENDENTE VALUES ('333445555', 'Teodoro', 'M', '1983-10-25', 'FILHO');\")\n",
    "cursor.execute(\"INSERT INTO DEPENDENTE VALUES ('333445555', 'Joana', 'F', '1958-05-03', 'CONJUGE');\")\n",
    "cursor.execute(\"INSERT INTO DEPENDENTE VALUES ('987654321', 'Abdala', 'M', '1942-02-28', 'CONJUGE');\")\n",
    "cursor.execute(\"INSERT INTO DEPENDENTE VALUES ('123456789', 'Michel', 'M', '1988-01-04', 'FILHO');\")\n",
    "cursor.execute(\"INSERT INTO DEPENDENTE VALUES ('123456789', 'Alice', 'F', '1988-12-30', 'FILHA');\")\n",
    "cursor.execute(\"INSERT INTO DEPENDENTE VALUES ('123456789', 'Elizabete', 'F', '1967-05-05', 'CONJUGE');\")"
   ]
  },
  {
   "cell_type": "code",
   "execution_count": 69,
   "metadata": {},
   "outputs": [],
   "source": [
    "cursor.execute('''\n",
    "CREATE TABLE LOCALIZACAO (\n",
    "  dnum char(1) NOT NULL,\n",
    "  dlocalizacao varchar(30) NOT NULL,\n",
    "  PRIMARY KEY  (dnum,dlocalizacao)\n",
    ") ;\n",
    "''')"
   ]
  },
  {
   "cell_type": "code",
   "execution_count": 70,
   "metadata": {},
   "outputs": [],
   "source": [
    "cursor.execute(\"INSERT INTO LOCALIZACAO VALUES ('1', 'Curitiba');\")\n",
    "cursor.execute(\"INSERT INTO LOCALIZACAO VALUES ('4', 'Colombo');\")\n",
    "cursor.execute(\"INSERT INTO LOCALIZACAO VALUES ('5', 'Araucaria');\")\n",
    "cursor.execute(\"INSERT INTO LOCALIZACAO VALUES ('5', 'Curitiba');\")\n",
    "cursor.execute(\"INSERT INTO LOCALIZACAO VALUES ('5', 'Pinhais');\")"
   ]
  },
  {
   "cell_type": "code",
   "execution_count": 71,
   "metadata": {},
   "outputs": [],
   "source": [
    "cursor.execute('''\n",
    "CREATE TABLE PROJETO (\n",
    "  pnumero char(2) NOT NULL,\n",
    "  pjnome varchar(30) NOT NULL,\n",
    "  plocal varchar(30) NOT NULL,\n",
    "  dnum char(1) NOT NULL,\n",
    "  PRIMARY KEY  (pnumero)\n",
    ") ;\n",
    "''')"
   ]
  },
  {
   "cell_type": "code",
   "execution_count": 72,
   "metadata": {},
   "outputs": [],
   "source": [
    "cursor.execute(\"INSERT INTO PROJETO VALUES ('1', 'ProdutoX', 'Pinhais', '5');\")\n",
    "cursor.execute(\"INSERT INTO PROJETO VALUES ('2', 'ProdutoY', 'Araucaria', '5');\")\n",
    "cursor.execute(\"INSERT INTO PROJETO VALUES ('3', 'ProdutoZ', 'Curitiba', '5');\")\n",
    "cursor.execute(\"INSERT INTO PROJETO VALUES ('10', 'Automatizacao', 'Pinhais', '4');\")\n",
    "cursor.execute(\"INSERT INTO PROJETO VALUES ('20', 'Reorganizacao', 'Curitiba', '1');\")\n",
    "cursor.execute(\"INSERT INTO PROJETO VALUES ('30', 'Novos Beneficios', 'Pinhais', '4');\")"
   ]
  },
  {
   "cell_type": "code",
   "execution_count": 73,
   "metadata": {},
   "outputs": [],
   "source": [
    "cursor.execute('''\n",
    "CREATE TABLE TRABALHA (\n",
    "  essn char(9) NOT NULL,\n",
    "  pno char(2) NOT NULL,\n",
    "  horas float default NULL,\n",
    "  PRIMARY KEY  (essn,pno)\n",
    ") ;\n",
    "''')"
   ]
  },
  {
   "cell_type": "code",
   "execution_count": 74,
   "metadata": {},
   "outputs": [],
   "source": [
    "cursor.execute(\"INSERT INTO TRABALHA VALUES ('123456789', '1', '32.5');\")\n",
    "cursor.execute(\"INSERT INTO TRABALHA VALUES ('123456789', '2', '7.5');\")\n",
    "cursor.execute(\"INSERT INTO TRABALHA VALUES ('666884444', '3', '40');\")\n",
    "cursor.execute(\"INSERT INTO TRABALHA VALUES ('453453453', '1', '20');\")\n",
    "cursor.execute(\"INSERT INTO TRABALHA VALUES ('453453453', '2', '20');\")\n",
    "cursor.execute(\"INSERT INTO TRABALHA VALUES ('333445555', '2', '10');\")\n",
    "cursor.execute(\"INSERT INTO TRABALHA VALUES ('333445555', '3', '10');\")\n",
    "cursor.execute(\"INSERT INTO TRABALHA VALUES ('333445555', '10', '10');\")\n",
    "cursor.execute(\"INSERT INTO TRABALHA VALUES ('333445555', '20', '10');\")\n",
    "cursor.execute(\"INSERT INTO TRABALHA VALUES ('999887777', '30', '30');\")\n",
    "cursor.execute(\"INSERT INTO TRABALHA VALUES ('999887777', '10', '10');\")\n",
    "cursor.execute(\"INSERT INTO TRABALHA VALUES ('987987987', '10', '35');\")\n",
    "cursor.execute(\"INSERT INTO TRABALHA VALUES ('987987987', '30', '5');\")\n",
    "cursor.execute(\"INSERT INTO TRABALHA VALUES ('987654321', '30', '20');\")\n",
    "cursor.execute(\"INSERT INTO TRABALHA VALUES ('987654321', '20', '15');\")\n",
    "cursor.execute(\"INSERT INTO TRABALHA VALUES ('888665555', '20', null);\")"
   ]
  },
  {
   "cell_type": "code",
   "execution_count": 75,
   "metadata": {},
   "outputs": [],
   "source": [
    "cursor.execute(\"ALTER TABLE EMPREGADO ADD CONSTRAINT fk_empregado_empregado  FOREIGN KEY (superssn) REFERENCES  EMPREGADO (ssn);\")\n",
    "cursor.execute(\"ALTER TABLE EMPREGADO ADD CONSTRAINT fk_empregado_departamento FOREIGN KEY  (dno) REFERENCES  DEPARTAMENTO (dnumero) ;\")\n",
    "cursor.execute(\"ALTER TABLE DEPARTAMENTO ADD CONSTRAINT fk_departamento_empregado FOREIGN KEY (gerssn) REFERENCES  EMPREGADO (ssn) ;\")\n",
    "cursor.execute(\"ALTER TABLE DEPENDENTE ADD CONSTRAINT fk_dependente_empregado FOREIGN KEY (essn) REFERENCES EMPREGADO (ssn) ;\")\n",
    "cursor.execute(\"ALTER TABLE LOCALIZACAO ADD CONSTRAINT fk_localizacao_departamento FOREIGN KEY (dnum) REFERENCES  DEPARTAMENTO (dnumero) ;\")\n",
    "cursor.execute(\"ALTER TABLE PROJETO ADD CONSTRAINT fk_projeto_departamento FOREIGN KEY (dnum) REFERENCES  DEPARTAMENTO (dnumero) ;\")\n",
    "cursor.execute(\"ALTER TABLE TRABALHA ADD CONSTRAINT fk_trabalha_empregado FOREIGN KEY (essn) REFERENCES  EMPREGADO (ssn) ;\")\n",
    "cursor.execute(\"ALTER TABLE TRABALHA ADD CONSTRAINT fk_trabalha_projeto FOREIGN KEY (pno) REFERENCES  PROJETO (pnumero) ;\")\n",
    "               \n",
    "# Commitar as transações\n",
    "conn.commit()"
   ]
  },
  {
   "cell_type": "markdown",
   "metadata": {},
   "source": [
    "a) Insira >‘943775543’, ‘Roberto’, ‘F’, ‘Silva’, ‘M’, ‘Rua X, 22 – Araucária – PR’, ‘1952-06-21’,\n",
    "‘888665555’, ‘1’, 58000< em EMPREGADO."
   ]
  },
  {
   "cell_type": "code",
   "execution_count": 76,
   "metadata": {},
   "outputs": [],
   "source": [
    "cursor.execute(\"INSERT INTO EMPREGADO VALUES ('943775543', 'Roberto', 'F', 'Silva', 'M', 'Rua X, 22 – Araucária – PR', '1952-06-21', '888665555', '1', '58000');\")\n",
    "# Confirmar a transação\n",
    "conn.commit()"
   ]
  },
  {
   "cell_type": "code",
   "execution_count": 77,
   "metadata": {},
   "outputs": [
    {
     "name": "stdout",
     "output_type": "stream",
     "text": [
      "('123456789', 'Joao', 'B', 'Souza', 'M', 'R. 24 de maio, 1500 - Curitiba - PR', datetime.date(1965, 1, 9), '333445555', '5', 30000.0)\n",
      "('333445555', 'Fabio', 'T', 'Will', 'M', 'R. Alagoas, 325 - Curitiba - PR', datetime.date(1955, 12, 8), '888665555', '5', 40000.0)\n",
      "('999887777', 'Alice', 'J', 'Zebra', 'F', 'R. Ribeira, 98 - Pinhais - PR', datetime.date(1968, 1, 19), '987654321', '4', 25000.0)\n",
      "('987654321', 'Jennifer', 'S', 'Wallace', 'F', 'R. Berry, 291 - Colombo - PR', datetime.date(1941, 6, 20), '888665555', '4', 43000.0)\n",
      "('666884444', 'Ricardo', 'K', 'Nantes', 'M', 'Av. Figueira, 55 - Almirante Tamandare - PR', datetime.date(1962, 9, 15), '333445555', '5', 38000.0)\n",
      "('453453453', 'Jussara', 'A', 'Pereira', 'F', 'Trav. da Lapa, 23 - Curitiba - PR', datetime.date(1972, 7, 31), '333445555', '5', 25000.0)\n",
      "('987987987', 'Alberto', 'V', 'Medeiros', 'M', 'R. Ceará, 1245 - Curitiba - PR', datetime.date(1969, 3, 29), '987654321', '4', 25000.0)\n",
      "('888665555', 'Joaquim', 'E', 'Brito', 'M', 'R. Stone, 450 - Curitiba - PR', datetime.date(1937, 11, 10), None, '1', 55000.0)\n",
      "('943775543', 'Roberto', 'F', 'Silva', 'M', 'Rua X, 22 – Araucária – PR', datetime.date(1952, 6, 21), '888665555', '1', 58000.0)\n"
     ]
    }
   ],
   "source": [
    "cursor.execute(\"SELECT * FROM EMPREGADO;\")\n",
    "rows = cursor.fetchall()\n",
    "\n",
    "# Iterar sobre os resultados e imprimir\n",
    "for row in rows:\n",
    "    print(row)"
   ]
  },
  {
   "cell_type": "markdown",
   "metadata": {},
   "source": [
    "b) Insira >‘4’, ProdutoA’, ‘Araucaria’, ‘2’< em PROJETO"
   ]
  },
  {
   "cell_type": "code",
   "execution_count": 41,
   "metadata": {},
   "outputs": [
    {
     "ename": "ForeignKeyViolation",
     "evalue": "ERRO:  inserção ou atualização em tabela \"projeto\" viola restrição de chave estrangeira \"fk_projeto_departamento\"\nDETAIL:  Chave (dnum)=(2) não está presente na tabela \"departamento\".\n",
     "output_type": "error",
     "traceback": [
      "\u001b[1;31m---------------------------------------------------------------------------\u001b[0m",
      "\u001b[1;31mForeignKeyViolation\u001b[0m                       Traceback (most recent call last)",
      "Cell \u001b[1;32mIn [41], line 1\u001b[0m\n\u001b[1;32m----> 1\u001b[0m \u001b[43mcursor\u001b[49m\u001b[38;5;241;43m.\u001b[39;49m\u001b[43mexecute\u001b[49m\u001b[43m(\u001b[49m\u001b[38;5;124;43m\"\u001b[39;49m\u001b[38;5;124;43mINSERT INTO PROJETO VALUES (\u001b[39;49m\u001b[38;5;124;43m'\u001b[39;49m\u001b[38;5;124;43m4\u001b[39;49m\u001b[38;5;124;43m'\u001b[39;49m\u001b[38;5;124;43m, \u001b[39;49m\u001b[38;5;124;43m'\u001b[39;49m\u001b[38;5;124;43mProdutoA\u001b[39;49m\u001b[38;5;124;43m'\u001b[39;49m\u001b[38;5;124;43m, \u001b[39;49m\u001b[38;5;124;43m'\u001b[39;49m\u001b[38;5;124;43mAraucaria\u001b[39;49m\u001b[38;5;124;43m'\u001b[39;49m\u001b[38;5;124;43m, \u001b[39;49m\u001b[38;5;124;43m'\u001b[39;49m\u001b[38;5;124;43m2\u001b[39;49m\u001b[38;5;124;43m'\u001b[39;49m\u001b[38;5;124;43m);\u001b[39;49m\u001b[38;5;124;43m\"\u001b[39;49m\u001b[43m)\u001b[49m\n",
      "\u001b[1;31mForeignKeyViolation\u001b[0m: ERRO:  inserção ou atualização em tabela \"projeto\" viola restrição de chave estrangeira \"fk_projeto_departamento\"\nDETAIL:  Chave (dnum)=(2) não está presente na tabela \"departamento\".\n"
     ]
    }
   ],
   "source": [
    "cursor.execute(\"INSERT INTO PROJETO VALUES ('4', 'ProdutoA', 'Araucaria', '2');\")"
   ]
  },
  {
   "cell_type": "code",
   "execution_count": 78,
   "metadata": {},
   "outputs": [
    {
     "name": "stdout",
     "output_type": "stream",
     "text": [
      "('5', 'Pesquisa', '333445555', datetime.date(1988, 5, 22))\n",
      "('4', 'Administracao', '987654321', datetime.date(1995, 1, 1))\n",
      "('1', 'Sede Administrativa', '888665555', datetime.date(1981, 6, 19))\n"
     ]
    }
   ],
   "source": [
    "cursor.execute(\"SELECT * FROM DEPARTAMENTO;\")\n",
    "rows = cursor.fetchall()\n",
    "\n",
    "# Iterar sobre os resultados e imprimir\n",
    "for row in rows:\n",
    "    print(row)"
   ]
  },
  {
   "cell_type": "markdown",
   "metadata": {},
   "source": [
    "A tabela departamento não possui nenhum registro dnumero igual a 2, e esse atributo é chave primária, portanto ao tentar inserir um novo registro em projeto, com dnumero igual a 2, o banco de dados irá retorna um erro de chave estrangeira, pois não existe um departamento com dnumero igual a 2."
   ]
  },
  {
   "cell_type": "markdown",
   "metadata": {},
   "source": [
    "c) Insira >‘4’, ‘Produção’, ‘943775543’, ‘1998-10-01’< em DEPARTAMENTO."
   ]
  },
  {
   "cell_type": "code",
   "execution_count": 50,
   "metadata": {},
   "outputs": [
    {
     "ename": "UniqueViolation",
     "evalue": "ERRO:  duplicar valor da chave viola a restrição de unicidade \"departamento_pkey\"\nDETAIL:  Chave (dnumero)=(4) já existe.\n",
     "output_type": "error",
     "traceback": [
      "\u001b[1;31m---------------------------------------------------------------------------\u001b[0m",
      "\u001b[1;31mUniqueViolation\u001b[0m                           Traceback (most recent call last)",
      "Cell \u001b[1;32mIn [50], line 1\u001b[0m\n\u001b[1;32m----> 1\u001b[0m \u001b[43mcursor\u001b[49m\u001b[38;5;241;43m.\u001b[39;49m\u001b[43mexecute\u001b[49m\u001b[43m(\u001b[49m\u001b[38;5;124;43m\"\u001b[39;49m\u001b[38;5;124;43mINSERT INTO DEPARTAMENTO VALUES (\u001b[39;49m\u001b[38;5;124;43m'\u001b[39;49m\u001b[38;5;124;43m4\u001b[39;49m\u001b[38;5;124;43m'\u001b[39;49m\u001b[38;5;124;43m, \u001b[39;49m\u001b[38;5;124;43m'\u001b[39;49m\u001b[38;5;124;43mProdução\u001b[39;49m\u001b[38;5;124;43m'\u001b[39;49m\u001b[38;5;124;43m, \u001b[39;49m\u001b[38;5;124;43m'\u001b[39;49m\u001b[38;5;124;43m943775543\u001b[39;49m\u001b[38;5;124;43m'\u001b[39;49m\u001b[38;5;124;43m, \u001b[39;49m\u001b[38;5;124;43m'\u001b[39;49m\u001b[38;5;124;43m1998-10-01\u001b[39;49m\u001b[38;5;124;43m'\u001b[39;49m\u001b[38;5;124;43m);\u001b[39;49m\u001b[38;5;124;43m\"\u001b[39;49m\u001b[43m)\u001b[49m\n\u001b[0;32m      2\u001b[0m \u001b[38;5;66;03m# Confirmar a transação\u001b[39;00m\n\u001b[0;32m      3\u001b[0m conn\u001b[38;5;241m.\u001b[39mcommit()\n",
      "\u001b[1;31mUniqueViolation\u001b[0m: ERRO:  duplicar valor da chave viola a restrição de unicidade \"departamento_pkey\"\nDETAIL:  Chave (dnumero)=(4) já existe.\n"
     ]
    }
   ],
   "source": [
    "cursor.execute(\"INSERT INTO DEPARTAMENTO VALUES ('4', 'Produção', '943775543', '1998-10-01');\")\n",
    "# Confirmar a transação\n",
    "conn.commit()"
   ]
  },
  {
   "cell_type": "markdown",
   "metadata": {},
   "source": [
    "dnumero é chave primária na tabela departamento, e o valor 4 já existe, portanto ao tentar inserir um novo registro em departamento, com dnumero igual a 4, o banco de dados irá retorna um erro de chave primária, pois já existe um departamento com dnumero igual a 4."
   ]
  },
  {
   "cell_type": "markdown",
   "metadata": {},
   "source": [
    "d) Insira >‘677678989’, null, 40.0< em TRABALHA"
   ]
  },
  {
   "cell_type": "code",
   "execution_count": 54,
   "metadata": {},
   "outputs": [
    {
     "ename": "StringDataRightTruncation",
     "evalue": "ERRO:  valor é muito longo para tipo character(2)\n",
     "output_type": "error",
     "traceback": [
      "\u001b[1;31m---------------------------------------------------------------------------\u001b[0m",
      "\u001b[1;31mStringDataRightTruncation\u001b[0m                 Traceback (most recent call last)",
      "Cell \u001b[1;32mIn [54], line 1\u001b[0m\n\u001b[1;32m----> 1\u001b[0m \u001b[43mcursor\u001b[49m\u001b[38;5;241;43m.\u001b[39;49m\u001b[43mexecute\u001b[49m\u001b[43m(\u001b[49m\u001b[38;5;124;43m\"\u001b[39;49m\u001b[38;5;124;43mINSERT INTO TRABALHA VALUES (\u001b[39;49m\u001b[38;5;124;43m'\u001b[39;49m\u001b[38;5;124;43m677678989\u001b[39;49m\u001b[38;5;124;43m'\u001b[39;49m\u001b[38;5;124;43m, \u001b[39;49m\u001b[38;5;124;43m'\u001b[39;49m\u001b[38;5;124;43mnull\u001b[39;49m\u001b[38;5;124;43m'\u001b[39;49m\u001b[38;5;124;43m, \u001b[39;49m\u001b[38;5;124;43m'\u001b[39;49m\u001b[38;5;124;43m40.0\u001b[39;49m\u001b[38;5;124;43m'\u001b[39;49m\u001b[38;5;124;43m);\u001b[39;49m\u001b[38;5;124;43m\"\u001b[39;49m\u001b[43m)\u001b[49m\n\u001b[0;32m      2\u001b[0m \u001b[38;5;66;03m# Confirmar a transação\u001b[39;00m\n\u001b[0;32m      3\u001b[0m conn\u001b[38;5;241m.\u001b[39mcommit()\n",
      "\u001b[1;31mStringDataRightTruncation\u001b[0m: ERRO:  valor é muito longo para tipo character(2)\n"
     ]
    }
   ],
   "source": [
    "cursor.execute(\"INSERT INTO TRABALHA VALUES ('677678989', 'null', '40.0');\")\n",
    "# Confirmar a transação\n",
    "conn.commit()"
   ]
  },
  {
   "cell_type": "markdown",
   "metadata": {},
   "source": [
    "O campo pno aceita apenas char com 2 caracteres, e o valor inserido 'null' possui 4 caracteres, portanto o banco de dados irá retornar um erro de tipo de dados."
   ]
  },
  {
   "cell_type": "markdown",
   "metadata": {},
   "source": [
    "e) Insira >‘453453453’, ‘Joao’, ‘M’, ‘1970-12-12’, ‘CONJUGE’< em DEPENDENTE."
   ]
  },
  {
   "cell_type": "code",
   "execution_count": 79,
   "metadata": {},
   "outputs": [],
   "source": [
    "cursor.execute(\"INSERT INTO DEPENDENTE VALUES ('453453453', 'Joao', 'M', '1970-12-12', 'CONJUGE');\")\n",
    "# Confirmar a transação\n",
    "conn.commit()"
   ]
  },
  {
   "cell_type": "code",
   "execution_count": 80,
   "metadata": {},
   "outputs": [
    {
     "name": "stdout",
     "output_type": "stream",
     "text": [
      "('333445555', 'Alice', 'F', datetime.date(1986, 4, 5), 'FILHA')\n",
      "('333445555', 'Teodoro', 'M', datetime.date(1983, 10, 25), 'FILHO')\n",
      "('333445555', 'Joana', 'F', datetime.date(1958, 5, 3), 'CONJUGE')\n",
      "('987654321', 'Abdala', 'M', datetime.date(1942, 2, 28), 'CONJUGE')\n",
      "('123456789', 'Michel', 'M', datetime.date(1988, 1, 4), 'FILHO')\n",
      "('123456789', 'Alice', 'F', datetime.date(1988, 12, 30), 'FILHA')\n",
      "('123456789', 'Elizabete', 'F', datetime.date(1967, 5, 5), 'CONJUGE')\n",
      "('453453453', 'Joao', 'M', datetime.date(1970, 12, 12), 'CONJUGE')\n"
     ]
    }
   ],
   "source": [
    "cursor.execute(\"SELECT * FROM DEPENDENTE;\")\n",
    "rows = cursor.fetchall()\n",
    "\n",
    "# Iterar sobre os resultados e imprimir\n",
    "for row in rows:\n",
    "    print(row)"
   ]
  },
  {
   "cell_type": "markdown",
   "metadata": {},
   "source": [
    "f) Remova as tuplas de TRABALHA com ESSN = ‘333445555’"
   ]
  },
  {
   "cell_type": "code",
   "execution_count": 81,
   "metadata": {},
   "outputs": [],
   "source": [
    "cursor.execute(\"DELETE FROM TRABALHA WHERE essn = '333445555';\")\n",
    "# Confirmar a transação\n",
    "conn.commit()"
   ]
  },
  {
   "cell_type": "code",
   "execution_count": 82,
   "metadata": {},
   "outputs": [
    {
     "name": "stdout",
     "output_type": "stream",
     "text": [
      "('123456789', '1 ', 32.5)\n",
      "('123456789', '2 ', 7.5)\n",
      "('666884444', '3 ', 40.0)\n",
      "('453453453', '1 ', 20.0)\n",
      "('453453453', '2 ', 20.0)\n",
      "('999887777', '30', 30.0)\n",
      "('999887777', '10', 10.0)\n",
      "('987987987', '10', 35.0)\n",
      "('987987987', '30', 5.0)\n",
      "('987654321', '30', 20.0)\n",
      "('987654321', '20', 15.0)\n",
      "('888665555', '20', None)\n"
     ]
    }
   ],
   "source": [
    "cursor.execute(\"SELECT * FROM TRABALHA;\")\n",
    "rows = cursor.fetchall()\n",
    "\n",
    "# Iterar sobre os resultados e imprimir\n",
    "for row in rows:\n",
    "    print(row)"
   ]
  },
  {
   "cell_type": "markdown",
   "metadata": {},
   "source": [
    "g) Remova a tupla de EMPREGADO com SSN = ‘987654321’."
   ]
  },
  {
   "cell_type": "code",
   "execution_count": 61,
   "metadata": {},
   "outputs": [
    {
     "ename": "ForeignKeyViolation",
     "evalue": "ERRO:  atualização ou exclusão em tabela \"empregado\" viola restrição de chave estrangeira \"fk_empregado_empregado\" em \"empregado\"\nDETAIL:  Chave (ssn)=(987654321) ainda é referenciada pela tabela \"empregado\".\n",
     "output_type": "error",
     "traceback": [
      "\u001b[1;31m---------------------------------------------------------------------------\u001b[0m",
      "\u001b[1;31mForeignKeyViolation\u001b[0m                       Traceback (most recent call last)",
      "Cell \u001b[1;32mIn [61], line 1\u001b[0m\n\u001b[1;32m----> 1\u001b[0m \u001b[43mcursor\u001b[49m\u001b[38;5;241;43m.\u001b[39;49m\u001b[43mexecute\u001b[49m\u001b[43m(\u001b[49m\u001b[38;5;124;43m\"\u001b[39;49m\u001b[38;5;124;43mDELETE FROM EMPREGADO WHERE ssn = \u001b[39;49m\u001b[38;5;124;43m'\u001b[39;49m\u001b[38;5;124;43m987654321\u001b[39;49m\u001b[38;5;124;43m'\u001b[39;49m\u001b[38;5;124;43m;\u001b[39;49m\u001b[38;5;124;43m\"\u001b[39;49m\u001b[43m)\u001b[49m\n\u001b[0;32m      2\u001b[0m \u001b[38;5;66;03m# Confirmar a transação\u001b[39;00m\n\u001b[0;32m      3\u001b[0m conn\u001b[38;5;241m.\u001b[39mcommit()\n",
      "\u001b[1;31mForeignKeyViolation\u001b[0m: ERRO:  atualização ou exclusão em tabela \"empregado\" viola restrição de chave estrangeira \"fk_empregado_empregado\" em \"empregado\"\nDETAIL:  Chave (ssn)=(987654321) ainda é referenciada pela tabela \"empregado\".\n"
     ]
    }
   ],
   "source": [
    "cursor.execute(\"DELETE FROM EMPREGADO WHERE ssn = '987654321';\")\n",
    "# Confirmar a transação\n",
    "conn.commit()"
   ]
  },
  {
   "cell_type": "code",
   "execution_count": 83,
   "metadata": {},
   "outputs": [
    {
     "name": "stdout",
     "output_type": "stream",
     "text": [
      "('123456789', 'Joao', 'B', 'Souza', 'M', 'R. 24 de maio, 1500 - Curitiba - PR', datetime.date(1965, 1, 9), '333445555', '5', 30000.0)\n",
      "('333445555', 'Fabio', 'T', 'Will', 'M', 'R. Alagoas, 325 - Curitiba - PR', datetime.date(1955, 12, 8), '888665555', '5', 40000.0)\n",
      "('999887777', 'Alice', 'J', 'Zebra', 'F', 'R. Ribeira, 98 - Pinhais - PR', datetime.date(1968, 1, 19), '987654321', '4', 25000.0)\n",
      "('987654321', 'Jennifer', 'S', 'Wallace', 'F', 'R. Berry, 291 - Colombo - PR', datetime.date(1941, 6, 20), '888665555', '4', 43000.0)\n",
      "('666884444', 'Ricardo', 'K', 'Nantes', 'M', 'Av. Figueira, 55 - Almirante Tamandare - PR', datetime.date(1962, 9, 15), '333445555', '5', 38000.0)\n",
      "('453453453', 'Jussara', 'A', 'Pereira', 'F', 'Trav. da Lapa, 23 - Curitiba - PR', datetime.date(1972, 7, 31), '333445555', '5', 25000.0)\n",
      "('987987987', 'Alberto', 'V', 'Medeiros', 'M', 'R. Ceará, 1245 - Curitiba - PR', datetime.date(1969, 3, 29), '987654321', '4', 25000.0)\n",
      "('888665555', 'Joaquim', 'E', 'Brito', 'M', 'R. Stone, 450 - Curitiba - PR', datetime.date(1937, 11, 10), None, '1', 55000.0)\n",
      "('943775543', 'Roberto', 'F', 'Silva', 'M', 'Rua X, 22 – Araucária – PR', datetime.date(1952, 6, 21), '888665555', '1', 58000.0)\n"
     ]
    }
   ],
   "source": [
    "cursor.execute(\"SELECT * FROM EMPREGADO;\")\n",
    "rows = cursor.fetchall()\n",
    "\n",
    "# Iterar sobre os resultados e imprimir\n",
    "for row in rows:\n",
    "    print(row)"
   ]
  },
  {
   "cell_type": "markdown",
   "metadata": {},
   "source": [
    "O atributo ssn da tabela empregado, é chave primária e estrangeira, sendo referenciada por superssn na mesma tabela, e por essn na tabela trabalha, portanto ao tentar remover a tupla de empregado com ssn igual a 987654321, o banco de dados irá retornar um erro de chave estrangeira, pois existem registros na mesma tabela e em outras tabelas que referenciam essa tupla."
   ]
  },
  {
   "cell_type": "markdown",
   "metadata": {},
   "source": [
    "h) Remova a tupla de PROJETO com PJNOME = ‘ProdutoX’"
   ]
  },
  {
   "cell_type": "code",
   "execution_count": 67,
   "metadata": {},
   "outputs": [
    {
     "ename": "ForeignKeyViolation",
     "evalue": "ERRO:  atualização ou exclusão em tabela \"projeto\" viola restrição de chave estrangeira \"fk_trabalha_projeto\" em \"trabalha\"\nDETAIL:  Chave (pnumero)=(1 ) ainda é referenciada pela tabela \"trabalha\".\n",
     "output_type": "error",
     "traceback": [
      "\u001b[1;31m---------------------------------------------------------------------------\u001b[0m",
      "\u001b[1;31mForeignKeyViolation\u001b[0m                       Traceback (most recent call last)",
      "Cell \u001b[1;32mIn [67], line 1\u001b[0m\n\u001b[1;32m----> 1\u001b[0m \u001b[43mcursor\u001b[49m\u001b[38;5;241;43m.\u001b[39;49m\u001b[43mexecute\u001b[49m\u001b[43m(\u001b[49m\u001b[38;5;124;43m\"\u001b[39;49m\u001b[38;5;124;43mDELETE FROM PROJETO WHERE PJNOME = \u001b[39;49m\u001b[38;5;124;43m'\u001b[39;49m\u001b[38;5;124;43mProdutoX\u001b[39;49m\u001b[38;5;124;43m'\u001b[39;49m\u001b[38;5;124;43m;\u001b[39;49m\u001b[38;5;124;43m\"\u001b[39;49m\u001b[43m)\u001b[49m\n\u001b[0;32m      2\u001b[0m \u001b[38;5;66;03m# Confirmar a transação\u001b[39;00m\n\u001b[0;32m      3\u001b[0m conn\u001b[38;5;241m.\u001b[39mcommit()\n",
      "\u001b[1;31mForeignKeyViolation\u001b[0m: ERRO:  atualização ou exclusão em tabela \"projeto\" viola restrição de chave estrangeira \"fk_trabalha_projeto\" em \"trabalha\"\nDETAIL:  Chave (pnumero)=(1 ) ainda é referenciada pela tabela \"trabalha\".\n"
     ]
    }
   ],
   "source": [
    "cursor.execute(\"DELETE FROM PROJETO WHERE PJNOME = 'ProdutoX';\")\n",
    "# Confirmar a transação\n",
    "conn.commit()"
   ]
  },
  {
   "cell_type": "code",
   "execution_count": 84,
   "metadata": {},
   "outputs": [
    {
     "name": "stdout",
     "output_type": "stream",
     "text": [
      "('1 ', 'ProdutoX', 'Pinhais', '5')\n",
      "('2 ', 'ProdutoY', 'Araucaria', '5')\n",
      "('3 ', 'ProdutoZ', 'Curitiba', '5')\n",
      "('10', 'Automatizacao', 'Pinhais', '4')\n",
      "('20', 'Reorganizacao', 'Curitiba', '1')\n",
      "('30', 'Novos Beneficios', 'Pinhais', '4')\n"
     ]
    }
   ],
   "source": [
    "cursor.execute(\"SELECT * FROM PROJETO;\")\n",
    "rows = cursor.fetchall()\n",
    "\n",
    "# Iterar sobre os resultados e imprimir\n",
    "for row in rows:\n",
    "    print(row)"
   ]
  },
  {
   "cell_type": "code",
   "execution_count": 85,
   "metadata": {},
   "outputs": [
    {
     "name": "stdout",
     "output_type": "stream",
     "text": [
      "('123456789', '1 ', 32.5)\n",
      "('123456789', '2 ', 7.5)\n",
      "('666884444', '3 ', 40.0)\n",
      "('453453453', '1 ', 20.0)\n",
      "('453453453', '2 ', 20.0)\n",
      "('999887777', '30', 30.0)\n",
      "('999887777', '10', 10.0)\n",
      "('987987987', '10', 35.0)\n",
      "('987987987', '30', 5.0)\n",
      "('987654321', '30', 20.0)\n",
      "('987654321', '20', 15.0)\n",
      "('888665555', '20', None)\n"
     ]
    }
   ],
   "source": [
    "cursor.execute(\"SELECT * FROM TRABALHA;\")\n",
    "rows = cursor.fetchall()\n",
    "\n",
    "# Iterar sobre os resultados e imprimir\n",
    "for row in rows:\n",
    "    print(row)"
   ]
  },
  {
   "cell_type": "markdown",
   "metadata": {},
   "source": [
    "Pnumero é chave primária em projeto, e chave estrangeira em trabalha, portanto ao tentar remover a tupla de projeto com pjnome igual a ProdutoX, o banco de dados irá retornar um erro de chave estrangeira, pois existem registros na tabela trabalha que referenciam essa tupla."
   ]
  },
  {
   "cell_type": "markdown",
   "metadata": {},
   "source": [
    "i) Modifique o GERSSN e GERDATAINICIO da tupla de DEPARTAMENTO com DNUMERO = 5\n",
    "para ‘123456789’ e ‘1999-01-10’, respectivamente."
   ]
  },
  {
   "cell_type": "code",
   "execution_count": 72,
   "metadata": {},
   "outputs": [],
   "source": [
    "cursor.execute(\"UPDATE DEPARTAMENTO SET GERSSN = '123456789' , GERDATAINICIO ='1999-01-10'  WHERE DNUMERO = '5';\")\n",
    "# Confirmar a transação\n",
    "conn.commit()"
   ]
  },
  {
   "cell_type": "code",
   "execution_count": 73,
   "metadata": {},
   "outputs": [
    {
     "name": "stdout",
     "output_type": "stream",
     "text": [
      "('4', 'Administracao', '987654321', datetime.date(1995, 1, 1))\n",
      "('1', 'Sede Administrativa', '888665555', datetime.date(1981, 6, 19))\n",
      "('5', 'Pesquisa', '123456789', datetime.date(1999, 1, 10))\n"
     ]
    }
   ],
   "source": [
    "cursor.execute(\"SELECT * FROM DEPARTAMENTO;\")\n",
    "rows = cursor.fetchall()\n",
    "\n",
    "# Iterar sobre os resultados e imprimir\n",
    "for row in rows:\n",
    "    print(row)"
   ]
  },
  {
   "cell_type": "markdown",
   "metadata": {},
   "source": [
    "j) Modifique o atributo SUPERSSN da tupla EMPREGADO com SSN = ‘999887777’ para\n",
    "‘943775543’."
   ]
  },
  {
   "cell_type": "code",
   "execution_count": 74,
   "metadata": {},
   "outputs": [],
   "source": [
    "cursor.execute(\"UPDATE EMPREGADO SET SUPERSSN = '943775543' WHERE SSN = '999887777';\")\n",
    "# Confirmar a transação\n",
    "conn.commit()"
   ]
  },
  {
   "cell_type": "code",
   "execution_count": 75,
   "metadata": {},
   "outputs": [
    {
     "name": "stdout",
     "output_type": "stream",
     "text": [
      "('123456789', 'Joao', 'B', 'Souza', 'M', 'R. 24 de maio, 1500 - Curitiba - PR', datetime.date(1965, 1, 9), '333445555', '5', 30000.0)\n",
      "('333445555', 'Fabio', 'T', 'Will', 'M', 'R. Alagoas, 325 - Curitiba - PR', datetime.date(1955, 12, 8), '888665555', '5', 40000.0)\n",
      "('987654321', 'Jennifer', 'S', 'Wallace', 'F', 'R. Berry, 291 - Colombo - PR', datetime.date(1941, 6, 20), '888665555', '4', 43000.0)\n",
      "('666884444', 'Ricardo', 'K', 'Nantes', 'M', 'Av. Figueira, 55 - Almirante Tamandare - PR', datetime.date(1962, 9, 15), '333445555', '5', 38000.0)\n",
      "('453453453', 'Jussara', 'A', 'Pereira', 'F', 'Trav. da Lapa, 23 - Curitiba - PR', datetime.date(1972, 7, 31), '333445555', '5', 25000.0)\n",
      "('987987987', 'Alberto', 'V', 'Medeiros', 'M', 'R. Ceará, 1245 - Curitiba - PR', datetime.date(1969, 3, 29), '987654321', '4', 25000.0)\n",
      "('888665555', 'Joaquim', 'E', 'Brito', 'M', 'R. Stone, 450 - Curitiba - PR', datetime.date(1937, 11, 10), None, '1', 55000.0)\n",
      "('943775543', 'Roberto', 'F', 'Silva', 'M', 'Rua X, 22 – Araucária – PR', datetime.date(1952, 6, 21), '888665555', '1', 58000.0)\n",
      "('999887777', 'Alice', 'J', 'Zebra', 'F', 'R. Ribeira, 98 - Pinhais - PR', datetime.date(1968, 1, 19), '943775543', '4', 25000.0)\n"
     ]
    }
   ],
   "source": [
    "cursor.execute(\"SELECT * FROM EMPREGADO;\")\n",
    "rows = cursor.fetchall()\n",
    "\n",
    "# Iterar sobre os resultados e imprimir\n",
    "for row in rows:\n",
    "    print(row)"
   ]
  },
  {
   "cell_type": "markdown",
   "metadata": {},
   "source": [
    "l) Modifique o atributo HORAS da tupla de TRABALHA com ESSN = ‘999887777’ e PNO = ‘10’\n",
    "para 5,0."
   ]
  },
  {
   "cell_type": "code",
   "execution_count": 76,
   "metadata": {},
   "outputs": [],
   "source": [
    "cursor.execute(\"UPDATE TRABALHA SET HORAS = '5' WHERE ESSN = '999887777' AND PNO = '10';\")\n",
    "# Confirmar a transação\n",
    "conn.commit()"
   ]
  },
  {
   "cell_type": "code",
   "execution_count": 14,
   "metadata": {},
   "outputs": [
    {
     "name": "stdout",
     "output_type": "stream",
     "text": [
      "('123456789', '1 ', 32.5)\n",
      "('123456789', '2 ', 7.5)\n",
      "('666884444', '3 ', 40.0)\n",
      "('453453453', '1 ', 20.0)\n",
      "('453453453', '2 ', 20.0)\n",
      "('999887777', '30', 30.0)\n",
      "('987987987', '10', 35.0)\n",
      "('987987987', '30', 5.0)\n",
      "('987654321', '30', 20.0)\n",
      "('987654321', '20', 15.0)\n",
      "('888665555', '20', None)\n",
      "('999887777', '10', 5.0)\n"
     ]
    }
   ],
   "source": [
    "cursor.execute(\"SELECT * FROM TRABALHA;\")\n",
    "rows = cursor.fetchall()\n",
    "\n",
    "# Iterar sobre os resultados e imprimir\n",
    "for row in rows:\n",
    "    print(row)"
   ]
  },
  {
   "cell_type": "markdown",
   "metadata": {},
   "source": [
    "## Atividade 2) Comandos DML: \n",
    "Considerando o banco de dados \"empresa” apresentado na Atividade 1, escreva o comando DML adequado que:"
   ]
  },
  {
   "cell_type": "markdown",
   "metadata": {},
   "source": [
    "a) Mostre o número de segurança social do empregado, o nome do dependente e o\n",
    "parentesco, ordenado por ssn ascendente e parentesco descendente."
   ]
  },
  {
   "cell_type": "code",
   "execution_count": 15,
   "metadata": {},
   "outputs": [
    {
     "name": "stdout",
     "output_type": "stream",
     "text": [
      "('123456789', 'Michel', 'FILHO')\n",
      "('123456789', 'Alice', 'FILHA')\n",
      "('123456789', 'Elizabete', 'CONJUGE')\n",
      "('333445555', 'Teodoro', 'FILHO')\n",
      "('333445555', 'Alice', 'FILHA')\n",
      "('333445555', 'Joana', 'CONJUGE')\n",
      "('453453453', 'Joao', 'CONJUGE')\n",
      "('987654321', 'Abdala', 'CONJUGE')\n"
     ]
    }
   ],
   "source": [
    "cursor.execute(\"SELECT e.ssn, d.nomedep, d.parentesco FROM EMPREGADO e JOIN DEPENDENTE d ON e.ssn = d.essn ORDER BY e.ssn ASC, d.parentesco DESC;\")\n",
    "\n",
    "# Obter resultados\n",
    "results = cursor.fetchall()\n",
    "if results:\n",
    "    for result in results:\n",
    "        print(result)"
   ]
  },
  {
   "cell_type": "markdown",
   "metadata": {},
   "source": [
    "### **SELECT Clause**\n",
    "```sql\n",
    "SELECT e.ssn, d.nomedep, d.parentesco\n",
    "```\n",
    "- **SELECT** é usado para especificar as colunas que serão retornadas pelo query. Neste caso:\n",
    "  - `e.ssn`: refere-se à coluna `ssn` da tabela `EMPREGADO`, que foi renomeada para `e` para facilitar as referências dentro da consulta.\n",
    "  - `d.nomedep`: refere-se à coluna `nomedep` da tabela `DEPENDENTE`, que foi renomeada para `d`.\n",
    "  - `d.parentesco`: refere-se à coluna `parentesco` da tabela `DEPENDENTE`.\n",
    "\n",
    "### **FROM Clause**\n",
    "```sql\n",
    "FROM EMPREGADO e\n",
    "```\n",
    "- **FROM** indica a tabela principal de onde os dados serão selecionados. Aqui, a tabela `EMPREGADO` é renomeada como `e`. Essa renomeação é conhecida como aliasing e é muito útil para simplificar as referências à tabela em consultas mais complexas ou quando o mesmo nome de tabela é usado em múltiplas junções.\n",
    "\n",
    "### **JOIN Clause**\n",
    "```sql\n",
    "JOIN DEPENDENTE d\n",
    "```\n",
    "- **JOIN** é utilizado para combinar linhas de duas ou mais tabelas baseadas em uma coluna relacionada entre elas. Aqui, a tabela `DEPENDENTE` é renomeada como `d`. Não é especificado o tipo de JOIN, o que implica que é um **INNER JOIN** por padrão. O INNER JOIN só retorna linhas que têm correspondência em ambas as tabelas.\n",
    "\n",
    "### **ON Clause**\n",
    "```sql\n",
    "ON e.ssn = d.essn\n",
    "```\n",
    "- **ON** especifica a condição de junção. Neste caso, a consulta junta as tabelas `EMPREGADO` e `DEPENDENTE` onde o `ssn` da tabela `EMPREGADO` (referido como `e.ssn`) é igual ao `essn` da tabela `DEPENDENTE` (referido como `d.essn`). Essa condição é crucial para determinar como as tabelas são unidas. `ssn` e `essn` são assumidos como chaves que ligam empregados aos seus dependentes.\n",
    "\n",
    "### **ORDER BY Clause**\n",
    "```sql\n",
    "ORDER BY e.ssn ASC, d.parentesco DESC;\n",
    "```\n",
    "- **ORDER BY** é usado para ordenar os resultados da consulta com base em uma ou mais colunas. Aqui, os resultados são primeiro ordenados pelo `ssn` do empregado em ordem ascendente (`ASC`), e então pelo `parentesco` em ordem descendente (`DESC`).\n",
    "  - `ASC`: Ascendente, do menor para o maior ou de A a Z.\n",
    "  - `DESC`: Descendente, do maior para o menor ou de Z a A."
   ]
  },
  {
   "cell_type": "markdown",
   "metadata": {},
   "source": [
    "b) Mostre o nome e endereço de todos os empregados que trabalham para o departamento\n",
    "Pesquisa."
   ]
  },
  {
   "cell_type": "code",
   "execution_count": 20,
   "metadata": {},
   "outputs": [
    {
     "name": "stdout",
     "output_type": "stream",
     "text": [
      "('Joao', 'R. 24 de maio, 1500 - Curitiba - PR')\n",
      "('Fabio', 'R. Alagoas, 325 - Curitiba - PR')\n",
      "('Ricardo', 'Av. Figueira, 55 - Almirante Tamandare - PR')\n",
      "('Jussara', 'Trav. da Lapa, 23 - Curitiba - PR')\n"
     ]
    }
   ],
   "source": [
    "cursor.execute(\"SELECT e.pnome, e.endereco FROM EMPREGADO e JOIN DEPARTAMENTO d ON e.dno = d.dnumero WHERE d.dnome = 'Pesquisa';\")\n",
    "# Obter resultados\n",
    "results = cursor.fetchall()\n",
    "if results:\n",
    "    for result in results:\n",
    "        print(result)\n"
   ]
  },
  {
   "cell_type": "markdown",
   "metadata": {},
   "source": [
    "### **SELECT Clause**\n",
    "```sql\n",
    "SELECT e.pnome, e.endereco\n",
    "```\n",
    "- **SELECT**: Esta cláusula é usada para especificar quais colunas serão retornadas pelo resultado da consulta. \n",
    "  - `e.pnome`: O `pnome` da tabela `EMPREGADO`, onde `e` é o alias dado à tabela `EMPREGADO`. `pnome` representa o primeiro nome do empregado.\n",
    "  - `e.endereco`: O `endereco` da tabela `EMPREGADO`. Este campo armazena o endereço do empregado.\n",
    "\n",
    "### **FROM Clause**\n",
    "```sql\n",
    "FROM EMPREGADO e\n",
    "```\n",
    "- **FROM**: Indica de qual tabela os dados serão selecionados. A tabela `EMPREGADO` é aqui referida pelo alias `e`. Usar um alias simplifica referências subsequentes à tabela, especialmente útil em consultas com múltiplas tabelas ou junções.\n",
    "\n",
    "### **JOIN Clause**\n",
    "```sql\n",
    "JOIN DEPARTAMENTO d ON e.dno = d.dnumero\n",
    "```\n",
    "- **JOIN**: Esta cláusula é utilizada para combinar registros de duas tabelas baseadas em uma condição relacionada. Neste caso, a tabela `DEPARTAMENTO` é trazida para a consulta e é dada o alias `d`.\n",
    "  - **ON e.dno = d.dnumero**: Esta é a condição de junção que especifica como as tabelas `EMPREGADO` e `DEPARTAMENTO` são relacionadas. O `dno` (número do departamento) na tabela `EMPREGADO` deve corresponder ao `dnumero` (número do departamento) na tabela `DEPARTAMENTO`. Essencialmente, isso liga cada empregado ao departamento ao qual pertence.\n",
    "\n",
    "### **WHERE Clause**\n",
    "```sql\n",
    "WHERE d.dnome = 'Pesquisa';\n",
    "```\n",
    "- **WHERE**: Esta cláusula é usada para filtrar registros e limitar quais linhas serão incluídas no resultado final da consulta. Neste caso, apenas os registros em que o `dnome` (nome do departamento) da tabela `DEPARTAMENTO` é igual a 'Pesquisa' serão retornados. Isso restringe a saída para incluir apenas empregados que trabalham no departamento chamado \"Pesquisa\"."
   ]
  },
  {
   "cell_type": "markdown",
   "metadata": {},
   "source": [
    "c) Para todo projeto localizado em Araucaria, liste o nome do projeto, o nome do departamento\n",
    "de controle e o último nome, endereço e data de nascimento do gerente do departamento."
   ]
  },
  {
   "cell_type": "code",
   "execution_count": 24,
   "metadata": {},
   "outputs": [
    {
     "name": "stdout",
     "output_type": "stream",
     "text": [
      "('ProdutoY', 'Pesquisa', 'Souza', 'R. 24 de maio, 1500 - Curitiba - PR', datetime.date(1965, 1, 9))\n"
     ]
    }
   ],
   "source": [
    "cursor.execute(\"\"\"SELECT p.pjnome AS \"Nome do Projeto\", d.dnome AS \"Nome do Departamento\", e.unome AS \"Sobrenome\", e.endereco AS \"Endereço\", e.datanasc AS \"Data de Nascimento\"\n",
    "FROM PROJETO p\n",
    "JOIN DEPARTAMENTO d ON p.dnum = d.dnumero\n",
    "JOIN EMPREGADO e ON d.gerssn = e.ssn\n",
    "WHERE p.plocal = 'Araucaria';\"\"\")\n",
    "# Obter resultados\n",
    "results = cursor.fetchall()\n",
    "if results:\n",
    "    for result in results:\n",
    "        print(result)"
   ]
  },
  {
   "cell_type": "markdown",
   "metadata": {},
   "source": [
    "**SELECT Clause**\n",
    "   - `p.pjnome AS \"Nome do Projeto\"`: Seleciona o nome do projeto da tabela `PROJETO` e renomeia a coluna no resultado como \"Nome do Projeto\".\n",
    "   - `d.dnome AS \"Nome do Departamento\"`: Seleciona o nome do departamento da tabela `DEPARTAMENTO` e renomeia a coluna no resultado como \"Nome do Departamento\".\n",
    "   - `e.unome AS \"Sobrenome\"`: Seleciona o sobrenome do empregado da tabela `EMPREGADO` e renomeia a coluna no resultado como \"Sobrenome\".\n",
    "   - `e.endereco AS \"Endereço\"`: Seleciona o endereço do empregado da tabela `EMPREGADO` e renomeia a coluna no resultado como \"Endereço\".\n",
    "   - `e.datanasc AS \"Data de Nascimento\"`: Seleciona a data de nascimento do empregado da tabela `EMPREGADO` e renomeia a coluna no resultado como \"Data de Nascimento\".\n",
    "\n",
    "**FROM Clause**\n",
    "   - `FROM PROJETO p`: Especifica que os dados iniciais são retirados da tabela `PROJETO`, que é referenciada com o alias `p` para simplificar as referências subsequentes na consulta.\n",
    "\n",
    "**JOIN Clauses**\n",
    "   - `JOIN DEPARTAMENTO d ON p.dnum = d.dnumero`: Realiza um `INNER JOIN` com a tabela `DEPARTAMENTO`, que é referenciada com o alias `d`. A junção é feita com base na condição de que o número do departamento no projeto (`p.dnum`) corresponda ao número do departamento (`d.dnumero`), conectando assim cada projeto ao seu respectivo departamento.\n",
    "   - `JOIN EMPREGADO e ON d.gerssn = e.ssn`: Realiza outro `INNER JOIN`, desta vez com a tabela `EMPREGADO`, referenciada como `e`. Esta junção é baseada na condição de que o SSN do gerente do departamento (`d.gerssn`) corresponda ao SSN do empregado (`e.ssn`), conectando o departamento ao seu gerente.\n",
    "\n",
    "**WHERE Clause**\n",
    "   - `WHERE p.plocal = 'Araucaria'`: Filtra os resultados para incluir apenas aqueles projetos que estão localizados em 'Araucaria'. Esta condição é aplicada após as junções serem feitas, restringindo ainda mais os dados que serão exibidos no resultado final."
   ]
  },
  {
   "cell_type": "markdown",
   "metadata": {},
   "source": [
    "d) Recupere os nomes de todos os empregados que trabalhem mais de 10 horas por semana\n",
    "no projeto Automatizacao."
   ]
  },
  {
   "cell_type": "code",
   "execution_count": 28,
   "metadata": {},
   "outputs": [
    {
     "name": "stdout",
     "output_type": "stream",
     "text": [
      "('Alberto',)\n"
     ]
    }
   ],
   "source": [
    "cursor.execute(\"\"\"SELECT e.pnome AS \"Nome do Empregado\"\n",
    "FROM EMPREGADO e\n",
    "JOIN TRABALHA t ON e.ssn = t.essn\n",
    "JOIN PROJETO p ON t.pno = p.pnumero\n",
    "WHERE p.pjnome = 'Automatizacao' AND t.horas > 10;\n",
    "\"\"\")\n",
    "# Obter resultados\n",
    "results = cursor.fetchall()\n",
    "if results:\n",
    "    for result in results:\n",
    "        print(result)"
   ]
  },
  {
   "cell_type": "markdown",
   "metadata": {},
   "source": [
    "**SELECT Clause**\n",
    "   - `e.pnome AS \"Nome do Empregado\"`: Esta parte da consulta especifica que o primeiro nome dos empregados (`pnome`) será selecionado da tabela `EMPREGADO`. O resultado exibirá esta coluna com o cabeçalho \"Nome do Empregado\". O uso do alias `e` para a tabela `EMPREGADO` facilita a referência à coluna dentro da consulta.\n",
    "\n",
    "**FROM Clause**\n",
    "   - `FROM EMPREGADO e`: Define que a tabela `EMPREGADO` é a tabela principal de onde os dados serão inicialmente retirados. O alias `e` é dado à tabela `EMPREGADO`, o que ajuda a simplificar as referências a essa tabela nas cláusulas subsequentes.\n",
    "\n",
    "**JOIN Clauses**\n",
    "   - `JOIN TRABALHA t ON e.ssn = t.essn`: Esta cláusula realiza uma junção entre a tabela `EMPREGADO` e a tabela `TRABALHA` usando o alias `t` para `TRABALHA`. A junção é feita baseada na correspondência entre `ssn` (Número do Seguro Social do empregado) em `EMPREGADO` e `essn` (Número do Seguro Social do empregado registrado em `TRABALHA`). Isso vincula cada registro de empregado ao seu registro correspondente na tabela `TRABALHA`.\n",
    "   - `JOIN PROJETO p ON t.pno = p.pnumero`: Realiza outro `INNER JOIN`, desta vez com a tabela `PROJETO`, usando o alias `p`. Esta junção baseia-se na correspondência entre `pno` (número do projeto em `TRABALHA`) e `pnumero` (número do projeto em `PROJETO`), conectando as entradas de trabalho aos projetos específicos.\n",
    "\n",
    "**WHERE Clause**\n",
    "   - `WHERE p.pjnome = 'Automatizacao' AND t.horas > 10`: Esta cláusula filtra os registros para incluir apenas aqueles em que o nome do projeto é \"Automatização\" (`pjnome` em `PROJETO`) e o número de horas trabalhadas por semana é maior que 10 (`horas` em `TRABALHA`). Isso assegura que apenas empregados que atendem a ambos os critérios sejam incluídos nos resultados."
   ]
  },
  {
   "cell_type": "markdown",
   "metadata": {},
   "source": [
    "e) Mostre o nome dos empregados que têm os três maiores salários"
   ]
  },
  {
   "cell_type": "code",
   "execution_count": 33,
   "metadata": {},
   "outputs": [
    {
     "name": "stdout",
     "output_type": "stream",
     "text": [
      "('Roberto',)\n",
      "('Joaquim',)\n",
      "('Jennifer',)\n"
     ]
    }
   ],
   "source": [
    "cursor.execute(\"\"\"SELECT pnome AS \"Nome do Empregado\"\n",
    "FROM EMPREGADO\n",
    "ORDER BY salario DESC\n",
    "LIMIT 3;\n",
    "\n",
    "\"\"\")\n",
    "# Obter resultados\n",
    "results = cursor.fetchall()\n",
    "if results:\n",
    "    for result in results:\n",
    "        print(result)"
   ]
  },
  {
   "cell_type": "markdown",
   "metadata": {},
   "source": [
    "**SELECT Clause**\n",
    "   - `pnome AS \"Nome do Empregado\"`: Esta parte da consulta especifica que o primeiro nome dos empregados (`pnome`) será selecionado da tabela `EMPREGADO`. O resultado exibirá esta coluna com o cabeçalho \"Nome do Empregado\". Isso facilita a leitura e interpretação dos dados no resultado, proporcionando clareza sobre qual informação está sendo apresentada.\n",
    "\n",
    "**FROM Clause**\n",
    "   - `FROM EMPREGADO`: Esta cláusula especifica a tabela de onde os dados serão extraídos. Neste caso, a tabela é `EMPREGADO`. Não há alias usado aqui, pois a consulta é direta e envolve apenas uma tabela.\n",
    "\n",
    "**ORDER BY Clause**\n",
    "   - `ORDER BY salario DESC`: Esta cláusula é usada para ordenar os dados retornados pela consulta com base na coluna `salario`. A palavra-chave `DESC` indica que a ordenação deve ser descendente, ou seja, do maior para o menor. Isso garante que os empregados com os maiores salários apareçam primeiro nos resultados da consulta.\n",
    "\n",
    "**LIMIT Clause**\n",
    "   - `LIMIT 3`: Esta cláusula limita o número de registros retornados pela consulta a apenas três. Isso é útil quando você está interessado apenas em uma pequena quantidade de registros de topo baseados em algum critério, como os maiores salários neste caso. O uso do `LIMIT` é uma maneira eficiente de restringir a quantidade de dados processados e apresentados, especialmente em tabelas grandes."
   ]
  },
  {
   "cell_type": "markdown",
   "metadata": {},
   "source": [
    "f) Mostre o nome e o salário dos supervisores com aumento de 20%."
   ]
  },
  {
   "cell_type": "code",
   "execution_count": 34,
   "metadata": {},
   "outputs": [
    {
     "name": "stdout",
     "output_type": "stream",
     "text": [
      "('Fabio', 48000.0)\n",
      "('Jennifer', 51600.0)\n",
      "('Joaquim', 66000.0)\n",
      "('Roberto', 69600.0)\n"
     ]
    }
   ],
   "source": [
    "cursor.execute(\"\"\"SELECT pnome AS \"Nome do Empregado\", salario * 1.20 AS \"Salario Aumentado\"\n",
    "FROM EMPREGADO\n",
    "WHERE ssn IN (SELECT superssn FROM EMPREGADO WHERE superssn IS NOT NULL);\n",
    "\"\"\")\n",
    "# Obter resultados\n",
    "results = cursor.fetchall()\n",
    "if results:\n",
    "    for result in results:\n",
    "        print(result)"
   ]
  },
  {
   "cell_type": "markdown",
   "metadata": {},
   "source": [
    "**SELECT Clause**\n",
    "   - `pnome AS \"Nome do Empregado\"`: Esta parte da consulta seleciona o campo `pnome` da tabela `EMPREGADO`, que contém o primeiro nome dos empregados. O nome da coluna no resultado é renomeado para \"Nome do Empregado\" usando a cláusula `AS`. Isso torna os resultados mais compreensíveis, especialmente em contextos onde o relatório final é apresentado a stakeholders.\n",
    "   - `salario * 1.20 AS \"Salario Aumentado\"`: Aqui, o salário registrado na tabela para cada empregado é aumentado em 20% através de uma operação aritmética simples (`salario * 1.20`). O resultado dessa operação é apresentado sob o rótulo \"Salario Aumentado\". Esta coluna no resultado mostra o novo salário que um empregado receberia se um aumento de 20% fosse aplicado, útil para análises de ajustes salariais ou simulações de aumento de custos.\n",
    "\n",
    "**FROM Clause**\n",
    "   - `FROM EMPREGADO`: Esta cláusula especifica que os dados são retirados da tabela `EMPREGADO`. Esta é a tabela principal onde os dados sobre os empregados, incluindo seus salários e números de seguro social (SSN), são armazenados.\n",
    "\n",
    "**WHERE Clause**\n",
    "   - `WHERE ssn IN (SELECT superssn FROM EMPREGADO WHERE superssn IS NOT NULL)`: Esta parte da consulta é crucial para filtrar apenas os empregados que são supervisores. \n",
    "     - `SELECT superssn FROM EMPREGADO WHERE superssn IS NOT NULL`: Esta subconsulta seleciona todos os `superssn` (número de seguro social do supervisor) da tabela `EMPREGADO` que não são nulos. O `superssn` é o campo que identifica um empregado como supervisor de outros empregados.\n",
    "     - `WHERE ssn IN (...)`: A cláusula principal `WHERE` usa o resultado da subconsulta para filtrar empregados cujos `ssn` estão na lista de `superssn` obtida. Isso garante que apenas os registros de empregados que são supervisores sejam incluídos nos resultados finais."
   ]
  },
  {
   "cell_type": "markdown",
   "metadata": {},
   "source": [
    "g) Mostre os departamentos e suas localidades."
   ]
  },
  {
   "cell_type": "code",
   "execution_count": 38,
   "metadata": {},
   "outputs": [
    {
     "name": "stdout",
     "output_type": "stream",
     "text": [
      "('Sede Administrativa', 'Curitiba')\n",
      "('Administracao', 'Colombo')\n",
      "('Pesquisa', 'Araucaria')\n",
      "('Pesquisa', 'Curitiba')\n",
      "('Pesquisa', 'Pinhais')\n"
     ]
    }
   ],
   "source": [
    "cursor.execute(\"\"\"SELECT d.dnome AS \"Nome do Departamento\", l.dlocalizacao AS \"Localização do Departamento\"\n",
    "FROM DEPARTAMENTO d\n",
    "JOIN LOCALIZACAO l ON d.dnumero = l.dnum;\n",
    "\"\"\")\n",
    "# Obter resultados\n",
    "results = cursor.fetchall()\n",
    "if results:\n",
    "    for result in results:\n",
    "        print(result)"
   ]
  },
  {
   "cell_type": "markdown",
   "metadata": {},
   "source": [
    "**SELECT Clause**\n",
    "   - `d.dnome AS \"Nome do Departamento\"`: Esta parte da consulta seleciona o campo `dnome` da tabela `DEPARTAMENTO`, que contém os nomes dos departamentos. O resultado dessa seleção é apresentado no conjunto de resultados com o cabeçalho \"Nome do Departamento\". A utilização do alias `d` para a tabela `DEPARTAMENTO` facilita a leitura e referência ao campo dentro da consulta.\n",
    "   - `l.dlocalizacao AS \"Localização do Departamento\"`: Similarmente, esta parte seleciona a coluna `dlocalizacao` da tabela `LOCALIZACAO`, que contém as localizações geográficas ou físicas dos departamentos. A coluna é renomeada para \"Localização do Departamento\" no resultado, proporcionando clareza e tornando os dados mais acessíveis para quem visualiza o resultado.\n",
    "\n",
    "**FROM Clause**\n",
    "   - `FROM DEPARTAMENTO d`: Esta cláusula especifica a tabela de onde os dados principais são retirados, no caso, a tabela `DEPARTAMENTO`. O alias `d` é atribuído a esta tabela, simplificando as referências subsequentes na consulta.\n",
    "\n",
    "**JOIN Clause**\n",
    "   - `JOIN LOCALIZACAO l ON d.dnumero = l.dnum`: Aqui, a tabela `LOCALIZACAO` é juntada à consulta usando um `INNER JOIN`. O `INNER JOIN` é realizado com base na condição especificada pelo `ON d.dnumero = l.dnum`. Isso significa que a junção é feita onde o número do departamento na tabela `DEPARTAMENTO` (`d.dnumero`) corresponde ao número do departamento na tabela `LOCALIZACAO` (`l.dnum`). Isso garante que cada nome de departamento será associado corretamente à sua localização específica."
   ]
  },
  {
   "cell_type": "markdown",
   "metadata": {},
   "source": [
    "h) Mostre os departamentos e seus projetos."
   ]
  },
  {
   "cell_type": "code",
   "execution_count": 39,
   "metadata": {},
   "outputs": [
    {
     "name": "stdout",
     "output_type": "stream",
     "text": [
      "('Pesquisa', 'ProdutoX')\n",
      "('Pesquisa', 'ProdutoY')\n",
      "('Pesquisa', 'ProdutoZ')\n",
      "('Administracao', 'Automatizacao')\n",
      "('Sede Administrativa', 'Reorganizacao')\n",
      "('Administracao', 'Novos Beneficios')\n"
     ]
    }
   ],
   "source": [
    "cursor.execute(\"\"\"SELECT d.dnome AS \"Nome do Departamento\", p.pjnome AS \"Nome do Projeto\"\n",
    "FROM DEPARTAMENTO d\n",
    "JOIN PROJETO p ON d.dnumero = p.dnum;\n",
    "\"\"\")\n",
    "# Obter resultados\n",
    "results = cursor.fetchall()\n",
    "if results:\n",
    "    for result in results:\n",
    "        print(result)"
   ]
  },
  {
   "cell_type": "markdown",
   "metadata": {},
   "source": [
    "**SELECT Clause**\n",
    "   - `d.dnome AS \"Nome do Departamento\"`: Esta parte da consulta seleciona a coluna `dnome` da tabela `DEPARTAMENTO`, que contém os nomes dos departamentos. A coluna é renomeada como \"Nome do Departamento\" no resultado final usando a cláusula `AS`. Isso ajuda a tornar os dados mais compreensíveis ao serem visualizados, especialmente em relatórios ou interfaces de usuário onde a clareza é crucial.\n",
    "   - `p.pjnome AS \"Nome do Projeto\"`: Similarmente, esta parte seleciona a coluna `pjnome` da tabela `PROJETO`, que contém os nomes dos projetos. A coluna é renomeada como \"Nome do Projeto\" no resultado final. Isso fornece um mapeamento direto e claro do nome de cada projeto ao departamento correspondente.\n",
    "\n",
    "**FROM Clause**\n",
    "   - `FROM DEPARTAMENTO d`: Especifica a tabela `DEPARTAMENTO` como a fonte dos dados, com `d` servindo como um alias para `DEPARTAMENTO`. Usar aliases é uma prática comum para simplificar a escrita e interpretação das consultas, especialmente quando múltiplas tabelas estão envolvidas.\n",
    "\n",
    "**JOIN Clause**\n",
    "   - `JOIN PROJETO p ON d.dnumero = p.dnum`: Esta cláusula executa um `INNER JOIN` entre as tabelas `DEPARTAMENTO` e `PROJETO`. O `INNER JOIN` é feito com base na condição que o número do departamento (`d.dnumero` na tabela `DEPARTAMENTO`) coincide com o número do departamento referenciado na tabela `PROJETO` (`p.dnum`). Este método de junção garante que apenas os pares de departamentos e projetos que têm uma correspondência direta entre esses campos específicos serão incluídos nos resultados finais."
   ]
  },
  {
   "cell_type": "markdown",
   "metadata": {},
   "source": [
    "i) Mostre os empregados do sexo feminino e a data de nascimento cujo salário é maior que\n",
    "30.000."
   ]
  },
  {
   "cell_type": "code",
   "execution_count": 40,
   "metadata": {},
   "outputs": [
    {
     "name": "stdout",
     "output_type": "stream",
     "text": [
      "('Jennifer', datetime.date(1941, 6, 20))\n"
     ]
    }
   ],
   "source": [
    "cursor.execute(\"\"\"SELECT pnome AS \"Nome do Empregado\", datanasc AS \"Data de Nascimento\"\n",
    "FROM EMPREGADO\n",
    "WHERE sexo = 'F' AND salario > 30000;\n",
    "\"\"\")\n",
    "# Obter resultados\n",
    "results = cursor.fetchall()\n",
    "if results:\n",
    "    for result in results:\n",
    "        print(result)"
   ]
  },
  {
   "cell_type": "markdown",
   "metadata": {},
   "source": [
    "**SELECT Clause**\n",
    "   - `pnome AS \"Nome do Empregado\"`: Esta parte da consulta seleciona a coluna `pnome` da tabela `EMPREGADO`. `pnome` representa o primeiro nome dos empregados. A coluna é renomeada para \"Nome do Empregado\" no resultado final usando a cláusula `AS`, o que ajuda a tornar os resultados mais claros e fáceis de entender para quem está visualizando os dados.\n",
    "   - `datanasc AS \"Data de Nascimento\"`: Da mesma forma, esta cláusula seleciona a coluna `datanasc`, que contém as datas de nascimento dos empregados. Ela é renomeada para \"Data de Nascimento\" no resultado final, proporcionando uma visualização clara da informação.\n",
    "\n",
    "**FROM Clause**\n",
    "   - `FROM EMPREGADO`: Esta cláusula especifica que os dados serão retirados da tabela `EMPREGADO`. Esta tabela contém informações detalhadas sobre os empregados de uma organização, incluindo nomes, datas de nascimento, gênero, salários, entre outros dados pessoais e profissionais.\n",
    "\n",
    "**WHERE Clause**\n",
    "   - `WHERE sexo = 'F' AND salario > 30000`: Esta parte da consulta é usada para filtrar os registros com base em duas condições:\n",
    "     - `sexo = 'F'`: Filtra os empregados pelo gênero, incluindo apenas aqueles do sexo feminino (`F`).\n",
    "     - `salario > 30000`: Adicionalmente, a consulta filtra para incluir somente os empregados cujos salários são superiores a 30.000. Este é um critério numérico que seleciona empregados com remuneração acima de um certo limiar."
   ]
  },
  {
   "cell_type": "markdown",
   "metadata": {},
   "source": [
    "j) Mostre os projetos em que o empregado 'Fábio' trabalha."
   ]
  },
  {
   "cell_type": "code",
   "execution_count": 46,
   "metadata": {},
   "outputs": [],
   "source": [
    "cursor.execute(\"\"\"SELECT p.pjnome AS \"Nome do Projeto\"\n",
    "FROM PROJETO p\n",
    "JOIN TRABALHA t ON p.pnumero = t.pno\n",
    "JOIN EMPREGADO e ON t.essn = e.ssn\n",
    "WHERE e.pnome = 'Fabio';\n",
    "\"\"\")\n",
    "\n",
    "# Obter resultados\n",
    "results = cursor.fetchall()\n",
    "if results:\n",
    "    for result in results:\n",
    "        print(result)"
   ]
  },
  {
   "cell_type": "markdown",
   "metadata": {},
   "source": [
    "### Análise dos Dados\n",
    "- Da tabela `EMPREGADO`, confirmamos que 'Fabio' está listado com um `SSN` de `'333445555'` e trabalha no departamento número `'5'`, com um salário de `40000.0`.\n",
    "- Da tabela `TRABALHA`, não vemos nenhum registro diretamente listado para 'Fabio' (`333445555`), o que sugere por que a consulta original não retornou resultados.\n",
    "\n",
    "### Verificação do Relacionamento entre Fabio e Projetos\n",
    "- Observamos que, apesar de Fabio estar listado na tabela `EMPREGADO`, não há entradas correspondentes para ele na tabela `TRABALHA` baseadas nos dados mostrados. Isso indica que, ou 'Fabio' não está atualmente alocado a nenhum projeto, já que removemos as ocorrências na atividade 1 f)."
   ]
  },
  {
   "cell_type": "markdown",
   "metadata": {},
   "source": [
    "**SELECT Clause**\n",
    "   - `p.pjnome AS \"Nome do Projeto\"`: Esta cláusula seleciona o nome do projeto (`pjnome`) da tabela `PROJETO`, onde `p` é o alias utilizado para a tabela `PROJETO`. O resultado dessa seleção é renomeado para \"Nome do Projeto\" para apresentação nos resultados finais. Isso torna claro o que cada valor na coluna representa, facilitando a interpretação dos dados.\n",
    "\n",
    "**FROM Clause**\n",
    "   - `FROM PROJETO p`: Esta cláusula especifica que os dados principais estão sendo extraídos da tabela `PROJETO`, com `p` servindo como um alias para simplificar referências na consulta.\n",
    "\n",
    "**JOIN Clauses**\n",
    "   - `JOIN TRABALHA t ON p.pnumero = t.pno`: Esta primeira junção conecta a tabela `PROJETO` com a tabela `TRABALHA`. O `ON p.pnumero = t.pno` especifica que a junção deve ser feita onde o número do projeto na tabela `PROJETO` (`p.pnumero`) corresponde ao número do projeto na tabela `TRABALHA` (`t.pno`). Esta junção permite relacionar projetos específicos com as entradas correspondentes na tabela `TRABALHA`, que registra os detalhes sobre o trabalho dos empregados nesses projetos.\n",
    "   - `JOIN EMPREGADO e ON t.essn = e.ssn`: A segunda junção conecta a tabela `TRABALHA` à tabela `EMPREGADO`. Aqui, a condição `ON t.essn = e.ssn` especifica que a junção deve ocorrer onde o número de seguro social do empregado registrado em `TRABALHA` (`t.essn`) corresponde ao número de seguro social (`ssn`) na tabela `EMPREGADO`. Isso liga as informações de trabalho à tabela de empregados, associando cada entrada de trabalho ao empregado correspondente.\n",
    "\n",
    "**WHERE Clause**\n",
    "   - `WHERE e.pnome = 'Fabio';`: Esta cláusula filtra os resultados para incluir apenas aqueles registros onde o primeiro nome do empregado é 'Fabio'. O filtro é aplicado após as junções terem sido realizadas, restringindo a saída final aos projetos em que 'Fabio' está envolvido. Esta cláusula é essencial para garantir que apenas os dados relevantes para o empregado especificado sejam retornados.\n"
   ]
  },
  {
   "cell_type": "markdown",
   "metadata": {},
   "source": [
    "# Atividade 3) Funções agregadas e nativas - \n",
    "\n",
    "Utilize funções agregadas e/ou nativas\n",
    "SQL para responder as seguintes questões:\n"
   ]
  },
  {
   "cell_type": "markdown",
   "metadata": {},
   "source": [
    "a) Recupere a média salarial de todos os empregados do sexo feminino."
   ]
  },
  {
   "cell_type": "code",
   "execution_count": 6,
   "metadata": {},
   "outputs": [
    {
     "name": "stdout",
     "output_type": "stream",
     "text": [
      "(31000.0,)\n"
     ]
    }
   ],
   "source": [
    "cursor.execute(\"\"\"SELECT AVG(salario) AS media_salarial_feminina\n",
    "FROM EMPREGADO\n",
    "WHERE sexo = 'F';\"\"\")\n",
    "\n",
    "\n",
    "# Obter resultados\n",
    "results = cursor.fetchall()\n",
    "if results:\n",
    "    for result in results:\n",
    "        print(result)"
   ]
  },
  {
   "cell_type": "markdown",
   "metadata": {},
   "source": [
    "**SELECT Clause**\n",
    "   - `SELECT AVG(salario) AS media_salarial_feminina`: Nesta parte da consulta, estamos utilizando a função agregada `AVG()` para calcular a média dos salários de uma determinada seleção de empregados. A coluna `salario` da tabela `EMPREGADO` é utilizada para este cálculo. O resultado da média é renomeado para `media_salarial_feminina` usando a cláusula `AS`, o que facilita a interpretação do resultado, indicando claramente que se trata da média salarial de empregadas do sexo feminino.\n",
    "\n",
    "**FROM Clause**\n",
    "   - `FROM EMPREGADO`: Esta cláusula indica que os dados utilizados para o cálculo da média salarial serão extraídos da tabela `EMPREGADO`. A tabela `EMPREGADO` contém informações sobre os empregados, como nome, data de nascimento, gênero, salário, entre outros detalhes relevantes.\n",
    "\n",
    "**WHERE Clause**\n",
    "   - `WHERE sexo = 'F'`: A cláusula `WHERE` é usada para filtrar os registros da tabela `EMPREGADO`, selecionando apenas aqueles onde a coluna `sexo` é igual a 'F'. Isso significa que apenas as empregadas do sexo feminino serão consideradas no cálculo da média salarial. Este filtro é crucial para garantir que a média seja calculada exclusivamente para o grupo de interesse (empregadas do sexo feminino)."
   ]
  },
  {
   "cell_type": "markdown",
   "metadata": {},
   "source": [
    "b) Mostre o número de empregados por supervisor."
   ]
  },
  {
   "cell_type": "code",
   "execution_count": 7,
   "metadata": {},
   "outputs": [
    {
     "name": "stdout",
     "output_type": "stream",
     "text": [
      "(None, 1)\n",
      "('888665555', 3)\n",
      "('987654321', 2)\n",
      "('333445555', 3)\n"
     ]
    }
   ],
   "source": [
    "cursor.execute(\"\"\"SELECT superssn AS supervisor_ssn, COUNT(*) AS numero_de_empregados\n",
    "FROM EMPREGADO\n",
    "GROUP BY superssn;\"\"\")\n",
    "\n",
    "# Obter resultados\n",
    "results = cursor.fetchall()\n",
    "if results:\n",
    "    for result in results:\n",
    "        print(result)"
   ]
  },
  {
   "cell_type": "markdown",
   "metadata": {},
   "source": [
    "**SELECT Clause**\n",
    "   - `superssn AS supervisor_ssn`: Esta parte da consulta seleciona a coluna `superssn` da tabela `EMPREGADO`, que representa o número de segurança social do supervisor de cada empregado. Renomeamos essa coluna para `supervisor_ssn` no resultado final para facilitar a compreensão de que este valor se refere ao supervisor.\n",
    "   - `COUNT(*) AS numero_de_empregados`: A função `COUNT(*)` conta o número total de registros (empregados) que estão sendo agrupados. Renomeamos o resultado dessa contagem para `numero_de_empregados`, indicando claramente que o valor representa a quantidade de empregados sob a supervisão de cada supervisor.\n",
    "\n",
    "**FROM Clause**\n",
    "   - `FROM EMPREGADO`: Esta cláusula especifica que os dados serão extraídos da tabela `EMPREGADO`, onde estão armazenadas as informações sobre os empregados e seus supervisores.\n",
    "\n",
    "**GROUP BY Clause**\n",
    "   - `GROUP BY superssn`: A cláusula `GROUP BY` agrupa os registros da tabela `EMPREGADO` com base na coluna `superssn`. Isso significa que a contagem dos empregados será feita para cada grupo de empregados que compartilham o mesmo supervisor (identificado pelo número de segurança social do supervisor)."
   ]
  },
  {
   "cell_type": "markdown",
   "metadata": {},
   "source": [
    "c) Mostre o maior número de horas envolvido em projetos."
   ]
  },
  {
   "cell_type": "code",
   "execution_count": 9,
   "metadata": {},
   "outputs": [
    {
     "name": "stdout",
     "output_type": "stream",
     "text": [
      "(40.0,)\n"
     ]
    }
   ],
   "source": [
    "cursor.execute(\"\"\"SELECT MAX(horas) AS max_horas\n",
    "FROM TRABALHA;\"\"\")\n",
    "\n",
    "# Obter resultados\n",
    "results = cursor.fetchall()\n",
    "if results:\n",
    "    for result in results:\n",
    "        print(result)"
   ]
  },
  {
   "cell_type": "markdown",
   "metadata": {},
   "source": [
    "**SELECT Clause**\n",
    "   - `MAX(horas) AS max_horas`: A função `MAX()` é usada para encontrar o maior valor na coluna `horas`, que representa o número de horas que um empregado trabalhou em um projeto. O resultado é renomeado como `max_horas` para facilitar a interpretação do resultado, indicando que este valor é o máximo número de horas trabalhadas em qualquer projeto.\n",
    "\n",
    "**FROM Clause**\n",
    "   - `FROM TRABALHA`: Esta cláusula especifica que os dados utilizados para encontrar o valor máximo serão retirados da tabela `TRABALHA`. A tabela `TRABALHA` contém informações sobre as horas que cada empregado dedica a diferentes projetos."
   ]
  },
  {
   "cell_type": "markdown",
   "metadata": {},
   "source": [
    "d) Para cada projeto, liste o nome do projeto e o total de horas por semana (de todos os\n",
    "empregados) gastas no projeto."
   ]
  },
  {
   "cell_type": "code",
   "execution_count": 10,
   "metadata": {},
   "outputs": [
    {
     "name": "stdout",
     "output_type": "stream",
     "text": [
      "('Automatizacao', 45.0)\n",
      "('ProdutoZ', 40.0)\n",
      "('ProdutoY', 27.5)\n",
      "('Novos Beneficios', 55.0)\n",
      "('ProdutoX', 52.5)\n",
      "('Reorganizacao', 15.0)\n"
     ]
    }
   ],
   "source": [
    "cursor.execute(\"\"\"SELECT PROJETO.pjnome AS nome_do_projeto, SUM(TRABALHA.horas) AS total_horas_por_semana\n",
    "FROM PROJETO\n",
    "JOIN TRABALHA ON PROJETO.pnumero = TRABALHA.pno\n",
    "GROUP BY PROJETO.pjnome;\"\"\")\n",
    "\n",
    "# Obter resultados\n",
    "results = cursor.fetchall()\n",
    "if results:\n",
    "    for result in results:\n",
    "        print(result)"
   ]
  },
  {
   "cell_type": "markdown",
   "metadata": {},
   "source": [
    "**SELECT Clause**\n",
    "   - `PROJETO.pjnome AS nome_do_projeto`: Esta parte da consulta seleciona a coluna `pjnome` da tabela `PROJETO`, que contém o nome do projeto. Renomeamos essa coluna como `nome_do_projeto` para deixar claro no resultado final que se trata do nome de cada projeto.\n",
    "   - `SUM(TRABALHA.horas) AS total_horas_por_semana`: A função `SUM()` é usada para somar todas as horas que os empregados dedicaram a cada projeto. O resultado dessa soma é renomeado como `total_horas_por_semana`, indicando o total de horas gastas por semana em cada projeto.\n",
    "\n",
    "**FROM Clause**\n",
    "   - `FROM PROJETO`: Especifica que a consulta vai começar a selecionar dados da tabela `PROJETO`.\n",
    "\n",
    "**JOIN Clause**\n",
    "   - `JOIN TRABALHA ON PROJETO.pnumero = TRABALHA.pno`: A cláusula `JOIN` une as tabelas `PROJETO` e `TRABALHA` com base na relação entre `pnumero` (da tabela `PROJETO`) e `pno` (da tabela `TRABALHA`). Isso permite combinar informações sobre projetos com os dados de horas trabalhadas por cada empregado nesses projetos.\n",
    "\n",
    "**GROUP BY Clause**\n",
    "   - `GROUP BY PROJETO.pjnome`: A cláusula `GROUP BY` agrupa os resultados pelo nome do projeto (`pjnome`), garantindo que a soma das horas (`SUM(horas)`) seja calculada separadamente para cada projeto."
   ]
  },
  {
   "cell_type": "markdown",
   "metadata": {},
   "source": [
    "e) Para cada departamento, recupere o nome do departamento e a média salarial de todos os\n",
    "empregados que trabalham nesse departamento."
   ]
  },
  {
   "cell_type": "code",
   "execution_count": 11,
   "metadata": {},
   "outputs": [
    {
     "name": "stdout",
     "output_type": "stream",
     "text": [
      "('Administracao', 31000.0)\n",
      "('Pesquisa', 33250.0)\n",
      "('Sede Administrativa', 56500.0)\n"
     ]
    }
   ],
   "source": [
    "cursor.execute(\"\"\"SELECT DEPARTAMENTO.dnome AS nome_do_departamento, AVG(EMPREGADO.salario) AS media_salarial\n",
    "FROM DEPARTAMENTO\n",
    "JOIN EMPREGADO ON DEPARTAMENTO.dnumero = EMPREGADO.dno\n",
    "GROUP BY DEPARTAMENTO.dnome;\"\"\")\n",
    "\n",
    "# Obter resultados\n",
    "results = cursor.fetchall()\n",
    "if results:\n",
    "    for result in results:\n",
    "        print(result)"
   ]
  },
  {
   "cell_type": "markdown",
   "metadata": {},
   "source": [
    "**SELECT Clause**\n",
    "   - `DEPARTAMENTO.dnome AS nome_do_departamento`: Esta parte da consulta seleciona a coluna `dnome` da tabela `DEPARTAMENTO`, que contém o nome de cada departamento. Renomeamos essa coluna como `nome_do_departamento` para tornar claro no resultado final que se trata do nome do departamento.\n",
    "   - `AVG(EMPREGADO.salario) AS media_salarial`: A função `AVG()` é usada para calcular a média dos salários de todos os empregados que trabalham em cada departamento. O resultado é renomeado como `media_salarial`, indicando que se trata da média salarial dos empregados em cada departamento.\n",
    "\n",
    "**FROM Clause**\n",
    "   - `FROM DEPARTAMENTO`: Especifica que a consulta começa a selecionar dados da tabela `DEPARTAMENTO`.\n",
    "\n",
    "**JOIN Clause**\n",
    "   - `JOIN EMPREGADO ON DEPARTAMENTO.dnumero = EMPREGADO.dno`: A cláusula `JOIN` une as tabelas `DEPARTAMENTO` e `EMPREGADO` com base na relação entre `dnumero` (da tabela `DEPARTAMENTO`) e `dno` (da tabela `EMPREGADO`). Isso permite combinar informações sobre departamentos com os dados dos empregados que trabalham neles.\n",
    "\n",
    "**GROUP BY Clause**\n",
    "   - `GROUP BY DEPARTAMENTO.dnome`: A cláusula `GROUP BY` agrupa os resultados pelo nome do departamento (`dnome`), garantindo que a média salarial (`AVG(salario)`) seja calculada separadamente para cada departamento."
   ]
  },
  {
   "cell_type": "markdown",
   "metadata": {},
   "source": [
    "f) Liste os nomes de todos os empregados com dois ou mais dependentes"
   ]
  },
  {
   "cell_type": "code",
   "execution_count": 12,
   "metadata": {},
   "outputs": [
    {
     "name": "stdout",
     "output_type": "stream",
     "text": [
      "('Joao', 'Souza')\n",
      "('Fabio', 'Will')\n"
     ]
    }
   ],
   "source": [
    "cursor.execute(\"\"\"SELECT EMPREGADO.pnome AS primeiro_nome, EMPREGADO.unome AS ultimo_nome\n",
    "FROM EMPREGADO\n",
    "JOIN DEPENDENTE ON EMPREGADO.ssn = DEPENDENTE.essn\n",
    "GROUP BY EMPREGADO.ssn, EMPREGADO.pnome, EMPREGADO.unome\n",
    "HAVING COUNT(DEPENDENTE.nomedep) >= 2;\n",
    "\"\"\")\n",
    "\n",
    "# Obter resultados\n",
    "results = cursor.fetchall()\n",
    "if results:\n",
    "    for result in results:\n",
    "        print(result)"
   ]
  },
  {
   "cell_type": "markdown",
   "metadata": {},
   "source": [
    "**SELECT Clause**\n",
    "   - `EMPREGADO.pnome AS primeiro_nome, EMPREGADO.unome AS ultimo_nome`: Esta parte da consulta seleciona os nomes dos empregados (`pnome` e `unome`) das colunas da tabela `EMPREGADO`. Esses campos são renomeados como `primeiro_nome` e `ultimo_nome`, respectivamente, para tornar os resultados mais claros.\n",
    "\n",
    "**FROM Clause**\n",
    "   - `FROM EMPREGADO`: Especifica que a consulta começará a selecionar dados da tabela `EMPREGADO`.\n",
    "\n",
    "**JOIN Clause**\n",
    "   - `JOIN DEPENDENTE ON EMPREGADO.ssn = DEPENDENTE.essn`: A cláusula `JOIN` une as tabelas `EMPREGADO` e `DEPENDENTE` com base na relação entre o número de segurança social do empregado (`ssn`) na tabela `EMPREGADO` e o número de segurança social do empregado referenciado (`essn`) na tabela `DEPENDENTE`. Isso permite combinar informações sobre empregados com seus dependentes.\n",
    "\n",
    "**GROUP BY Clause**\n",
    "   - `GROUP BY EMPREGADO.ssn, EMPREGADO.pnome, EMPREGADO.unome`: A cláusula `GROUP BY` agrupa os registros por empregado (identificado pelo número de segurança social `ssn`) e seus nomes (`pnome`, `unome`). Isso é necessário para garantir que a contagem de dependentes seja realizada por empregado.\n",
    "\n",
    "**HAVING Clause**\n",
    "   - `HAVING COUNT(DEPENDENTE.nomedep) >= 2`: A cláusula `HAVING` filtra os grupos (empregados) que têm dois ou mais dependentes, contados pela coluna `nomedep` na tabela `DEPENDENTE`. Apenas os empregados que têm dois ou mais dependentes serão incluídos nos resultados."
   ]
  },
  {
   "cell_type": "markdown",
   "metadata": {},
   "source": [
    "g) Mostre o nome do departamento que possui o menor número de projetos associados."
   ]
  },
  {
   "cell_type": "code",
   "execution_count": 13,
   "metadata": {},
   "outputs": [
    {
     "name": "stdout",
     "output_type": "stream",
     "text": [
      "('Sede Administrativa', 1)\n"
     ]
    }
   ],
   "source": [
    "cursor.execute(\"\"\"SELECT DEPARTAMENTO.dnome AS nome_do_departamento, COUNT(PROJETO.pnumero) AS numero_de_projetos\n",
    "FROM DEPARTAMENTO\n",
    "JOIN PROJETO ON DEPARTAMENTO.dnumero = PROJETO.dnum\n",
    "GROUP BY DEPARTAMENTO.dnome\n",
    "ORDER BY numero_de_projetos ASC\n",
    "LIMIT 1;\n",
    "\"\"\")\n",
    "\n",
    "# Obter resultados\n",
    "results = cursor.fetchall()\n",
    "if results:\n",
    "    for result in results:\n",
    "        print(result)"
   ]
  },
  {
   "cell_type": "markdown",
   "metadata": {},
   "source": [
    "**SELECT Clause**\n",
    "   - `DEPARTAMENTO.dnome AS nome_do_departamento`: Esta parte da consulta seleciona o nome do departamento (`dnome`) da tabela `DEPARTAMENTO` e o renomeia como `nome_do_departamento` para facilitar a interpretação no resultado final.\n",
    "   - `COUNT(PROJETO.pnumero) AS numero_de_projetos`: A função `COUNT()` é usada para contar o número de projetos (`pnumero`) associados a cada departamento. O resultado é renomeado como `numero_de_projetos`, indicando o número total de projetos por departamento.\n",
    "\n",
    "**FROM Clause**\n",
    "   - `FROM DEPARTAMENTO`: Especifica que a consulta começa a selecionar dados da tabela `DEPARTAMENTO`.\n",
    "\n",
    "**JOIN Clause**\n",
    "   - `JOIN PROJETO ON DEPARTAMENTO.dnumero = PROJETO.dnum`: A cláusula `JOIN` une as tabelas `DEPARTAMENTO` e `PROJETO` com base na relação entre `dnumero` (da tabela `DEPARTAMENTO`) e `dnum` (da tabela `PROJETO`). Isso permite combinar informações sobre departamentos com os projetos a eles associados.\n",
    "\n",
    "**GROUP BY Clause**\n",
    "   - `GROUP BY DEPARTAMENTO.dnome`: A cláusula `GROUP BY` agrupa os resultados pelo nome do departamento (`dnome`), garantindo que a contagem dos projetos (`COUNT(pnumero)`) seja calculada separadamente para cada departamento.\n",
    "\n",
    "**ORDER BY Clause**\n",
    "   - `ORDER BY numero_de_projetos ASC`: A cláusula `ORDER BY` ordena os resultados pela contagem de projetos (`numero_de_projetos`) em ordem crescente (`ASC`), colocando o departamento com o menor número de projetos no topo da lista.\n",
    "\n",
    "**LIMIT Clause**\n",
    "   - `LIMIT 1`: A cláusula `LIMIT 1` garante que apenas o departamento com o menor número de projetos seja retornado."
   ]
  },
  {
   "cell_type": "markdown",
   "metadata": {},
   "source": [
    "h) Escreva uma consulta que retorne do 10o ao 22o caractere do endereço do empregado."
   ]
  },
  {
   "cell_type": "code",
   "execution_count": 16,
   "metadata": {},
   "outputs": [
    {
     "name": "stdout",
     "output_type": "stream",
     "text": [
      "('maio, 1500 - ',)\n",
      "('s, 325 - Curi',)\n",
      "('a, 98 - Pinha',)\n",
      "(' 291 - Colomb',)\n",
      "('ira, 55 - Alm',)\n",
      "('Lapa, 23 - Cu',)\n",
      "(' 1245 - Curit',)\n",
      "(' 450 - Curiti',)\n",
      "(' – Araucária ',)\n"
     ]
    }
   ],
   "source": [
    "cursor.execute(\"\"\"SELECT SUBSTRING(endereco, 10, 13) AS trecho_endereco\n",
    "FROM EMPREGADO;\"\"\")\n",
    "\n",
    "# Obter resultados\n",
    "results = cursor.fetchall()\n",
    "if results:\n",
    "    for result in results:\n",
    "        print(result)"
   ]
  },
  {
   "cell_type": "markdown",
   "metadata": {},
   "source": [
    "**SELECT Clause**\n",
    "   - `SUBSTRING(endereco, 10, 13) AS trecho_endereco`: A função `SUBSTRING()` é usada para extrair uma parte específica de uma string. \n",
    "     - O primeiro argumento, `endereco`, especifica a coluna de onde queremos extrair a string.\n",
    "     - O segundo argumento, `10`, indica a posição inicial do caractere (10º caractere).\n",
    "     - O terceiro argumento, `13`, especifica o número de caracteres a serem extraídos, ou seja, do 10º ao 22º caractere. O valor 13 é usado porque o intervalo de caracteres de 10 a 22 inclui 13 caracteres no total.\n",
    "     - O resultado é renomeado como `trecho_endereco` para facilitar a compreensão de que essa parte corresponde a um trecho do endereço.\n",
    "\n",
    "**FROM Clause**\n",
    "   - `FROM EMPREGADO`: Especifica que a consulta está selecionando dados da tabela `EMPREGADO`."
   ]
  },
  {
   "cell_type": "markdown",
   "metadata": {},
   "source": [
    "i) Escreva uma consulta que retorne apenas o mês de nascimento de cada funcionário."
   ]
  },
  {
   "cell_type": "code",
   "execution_count": 25,
   "metadata": {},
   "outputs": [
    {
     "name": "stdout",
     "output_type": "stream",
     "text": [
      "('Joao', 'Souza', Decimal('1'))\n",
      "('Fabio', 'Will', Decimal('12'))\n",
      "('Alice', 'Zebra', Decimal('1'))\n",
      "('Jennifer', 'Wallace', Decimal('6'))\n",
      "('Ricardo', 'Nantes', Decimal('9'))\n",
      "('Jussara', 'Pereira', Decimal('7'))\n",
      "('Alberto', 'Medeiros', Decimal('3'))\n",
      "('Joaquim', 'Brito', Decimal('11'))\n",
      "('Roberto', 'Silva', Decimal('6'))\n"
     ]
    }
   ],
   "source": [
    "cursor.execute(\"\"\"SELECT pnome AS primeiro_nome, unome AS ultimo_nome, EXTRACT(MONTH FROM datanasc) AS mes_nascimento\n",
    "FROM EMPREGADO;\n",
    "\"\"\")\n",
    "\n",
    "# Obter resultados\n",
    "results = cursor.fetchall()\n",
    "if results:\n",
    "    for result in results:\n",
    "        print(result)"
   ]
  },
  {
   "cell_type": "markdown",
   "metadata": {},
   "source": [
    "**SELECT Clause**\n",
    "   - `pnome AS primeiro_nome`: Esta parte da consulta seleciona a coluna `pnome` da tabela `EMPREGADO`, que contém o primeiro nome dos funcionários. A coluna é renomeada como `primeiro_nome` para tornar os resultados mais claros e fáceis de entender.\n",
    "   - `unome AS ultimo_nome`: Seleciona a coluna `unome`, que contém o sobrenome dos funcionários. Ela é renomeada como `ultimo_nome`, proporcionando uma visualização clara do nome completo do funcionário no resultado.\n",
    "   - `EXTRACT(MONTH FROM datanasc) AS mes_nascimento`: Utiliza a função `EXTRACT()` para extrair o mês da data de nascimento (`datanasc`) de cada funcionário. A parte `MONTH` especifica que estamos interessados apenas no mês da data, e o resultado é renomeado como `mes_nascimento` para indicar claramente que se trata do mês de nascimento.\n",
    "\n",
    "**FROM Clause**\n",
    "   - `FROM EMPREGADO`: Especifica que a consulta irá obter os dados da tabela `EMPREGADO`, que contém as informações dos funcionários, como seus nomes e datas de nascimento."
   ]
  },
  {
   "cell_type": "markdown",
   "metadata": {},
   "source": [
    "j) Escreva uma consulta que retorne a idade (em anos) que o empregado tinha quando o\n",
    "dependente de parentesco filhou ou filha nasceu."
   ]
  },
  {
   "cell_type": "code",
   "execution_count": 35,
   "metadata": {},
   "outputs": [
    {
     "name": "stdout",
     "output_type": "stream",
     "text": [
      "('Joao', 'Souza', 'Alice', 'FILHA', Decimal('23'))\n",
      "('Joao', 'Souza', 'Michel', 'FILHO', Decimal('22'))\n",
      "('Fabio', 'Will', 'Teodoro', 'FILHO', Decimal('27'))\n",
      "('Fabio', 'Will', 'Alice', 'FILHA', Decimal('30'))\n"
     ]
    }
   ],
   "source": [
    "cursor.execute(\"\"\"SELECT EMPREGADO.pnome AS primeiro_nome, EMPREGADO.unome AS ultimo_nome, DEPENDENTE.nomedep AS nome_dependente,\n",
    "       DEPENDENTE.parentesco, \n",
    "       EXTRACT(YEAR FROM AGE(DEPENDENTE.datanascdep, EMPREGADO.datanasc)) AS idade_quando_dependente_nasceu\n",
    "FROM EMPREGADO\n",
    "JOIN DEPENDENTE ON EMPREGADO.ssn = DEPENDENTE.essn\n",
    "WHERE UPPER(DEPENDENTE.parentesco) IN ('FILHO', 'FILHA');\n",
    "\"\"\")\n",
    "\n",
    "# Obter resultados\n",
    "results = cursor.fetchall()\n",
    "if results:\n",
    "    for result in results:\n",
    "        print(result)"
   ]
  },
  {
   "cell_type": "markdown",
   "metadata": {},
   "source": [
    "**SELECT Clause**\n",
    "   - `EMPREGADO.pnome AS primeiro_nome`: Esta parte da consulta seleciona a coluna `pnome` da tabela `EMPREGADO`, que contém o primeiro nome dos empregados. A coluna é renomeada como `primeiro_nome` para facilitar a compreensão dos resultados.\n",
    "   - `EMPREGADO.unome AS ultimo_nome`: Seleciona a coluna `unome`, que contém o sobrenome dos empregados. Ela é renomeada como `ultimo_nome` para que o resultado mostre claramente o nome completo dos empregados.\n",
    "   - `DEPENDENTE.nomedep AS nome_dependente`: Seleciona a coluna `nomedep` da tabela `DEPENDENTE`, que contém o nome do dependente. A coluna é renomeada como `nome_dependente` para facilitar a interpretação.\n",
    "   - `DEPENDENTE.parentesco`: Seleciona a coluna `parentesco`, que indica o relacionamento do dependente com o empregado (como \"FILHO\" ou \"FILHA\").\n",
    "   - `EXTRACT(YEAR FROM AGE(DEPENDENTE.datanascdep, EMPREGADO.datanasc)) AS idade_quando_dependente_nasceu`: Utiliza a função `AGE()` para calcular a diferença entre a data de nascimento do dependente (`datanascdep`) e a data de nascimento do empregado (`datanasc`). A função `EXTRACT(YEAR FROM AGE(...))` extrai a diferença em anos, representando a idade do empregado quando o dependente nasceu. O resultado é renomeado como `idade_quando_dependente_nasceu`.\n",
    "\n",
    "**FROM Clause**\n",
    "   - `FROM EMPREGADO`: Especifica que a consulta seleciona dados da tabela `EMPREGADO`, que contém informações sobre os empregados.\n",
    "\n",
    "**JOIN Clause**\n",
    "   - `JOIN DEPENDENTE ON EMPREGADO.ssn = DEPENDENTE.essn`: Une as tabelas `EMPREGADO` e `DEPENDENTE` com base na correspondência entre o número de segurança social do empregado (`ssn`) e o número de segurança social referenciado na tabela `DEPENDENTE` (`essn`). Isso permite combinar informações dos empregados com seus dependentes.\n",
    "\n",
    "**WHERE Clause**\n",
    "   - `WHERE UPPER(DEPENDENTE.parentesco) IN ('FILHO', 'FILHA')`: Aplica um filtro para incluir apenas os dependentes cujo relacionamento com o empregado é \"FILHO\" ou \"FILHA\", independentemente de como o texto foi armazenado no banco de dados. A função `UPPER()` converte o valor da coluna `parentesco` para maiúsculas, garantindo uma comparação precisa."
   ]
  },
  {
   "cell_type": "markdown",
   "metadata": {},
   "source": [
    "k) Escreva uma consulte que conte o número de dependentes por ano de nascimento."
   ]
  },
  {
   "cell_type": "code",
   "execution_count": 36,
   "metadata": {},
   "outputs": [
    {
     "name": "stdout",
     "output_type": "stream",
     "text": [
      "(Decimal('1942'), 1)\n",
      "(Decimal('1958'), 1)\n",
      "(Decimal('1967'), 1)\n",
      "(Decimal('1970'), 1)\n",
      "(Decimal('1983'), 1)\n",
      "(Decimal('1986'), 1)\n",
      "(Decimal('1988'), 2)\n"
     ]
    }
   ],
   "source": [
    "cursor.execute(\"\"\"SELECT EXTRACT(YEAR FROM datanascdep) AS ano_de_nascimento, COUNT(*) AS numero_de_dependentes\n",
    "FROM DEPENDENTE\n",
    "GROUP BY EXTRACT(YEAR FROM datanascdep)\n",
    "ORDER BY ano_de_nascimento;\n",
    "\"\"\")\n",
    "\n",
    "# Obter resultados\n",
    "results = cursor.fetchall()\n",
    "if results:\n",
    "    for result in results:\n",
    "        print(result)"
   ]
  },
  {
   "cell_type": "markdown",
   "metadata": {},
   "source": [
    "**SELECT Clause**\n",
    "   - `EXTRACT(YEAR FROM datanascdep) AS ano_de_nascimento`: Utiliza a função `EXTRACT()` para extrair o ano da coluna `datanascdep`, que contém a data de nascimento dos dependentes. O resultado é renomeado como `ano_de_nascimento`, indicando que esta coluna contém o ano de nascimento dos dependentes.\n",
    "   - `COUNT(*) AS numero_de_dependentes`: A função `COUNT(*)` conta o número total de registros (dependentes) para cada ano de nascimento. O resultado é renomeado como `numero_de_dependentes` para indicar que essa coluna contém a contagem de dependentes para cada ano.\n",
    "\n",
    "**FROM Clause**\n",
    "   - `FROM DEPENDENTE`: Especifica que a consulta irá obter os dados da tabela `DEPENDENTE`, que contém informações sobre os dependentes dos empregados.\n",
    "\n",
    "**GROUP BY Clause**\n",
    "   - `GROUP BY EXTRACT(YEAR FROM datanascdep)`: Agrupa os registros da tabela `DEPENDENTE` pelo ano de nascimento extraído da coluna `datanascdep`. Isso permite que a função `COUNT()` conte o número de dependentes para cada ano de nascimento.\n",
    "\n",
    "**ORDER BY Clause**\n",
    "   - `ORDER BY ano_de_nascimento`: Ordena os resultados em ordem crescente de ano de nascimento, para facilitar a visualização cronológica."
   ]
  },
  {
   "cell_type": "markdown",
   "metadata": {},
   "source": [
    "l) Escreva uma consulte que mostre o nome de empregados supervisor que tenham 2 ou mais\n",
    "supervisionados."
   ]
  },
  {
   "cell_type": "code",
   "execution_count": 37,
   "metadata": {},
   "outputs": [
    {
     "name": "stdout",
     "output_type": "stream",
     "text": [
      "('Joaquim', 'Brito', 3)\n",
      "('Jennifer', 'Wallace', 2)\n",
      "('Fabio', 'Will', 3)\n"
     ]
    }
   ],
   "source": [
    "cursor.execute(\"\"\"SELECT EMPREGADO.pnome AS primeiro_nome, EMPREGADO.unome AS ultimo_nome, COUNT(SUBORDINADO.ssn) AS numero_de_supervisionados\n",
    "FROM EMPREGADO\n",
    "JOIN EMPREGADO AS SUBORDINADO ON EMPREGADO.ssn = SUBORDINADO.superssn\n",
    "GROUP BY EMPREGADO.ssn, EMPREGADO.pnome, EMPREGADO.unome\n",
    "HAVING COUNT(SUBORDINADO.ssn) >= 2;\n",
    "\"\"\")\n",
    "\n",
    "# Obter resultados\n",
    "results = cursor.fetchall()\n",
    "if results:\n",
    "    for result in results:\n",
    "        print(result)"
   ]
  },
  {
   "cell_type": "markdown",
   "metadata": {},
   "source": [
    "**SELECT Clause**\n",
    "   - `EMPREGADO.pnome AS primeiro_nome, EMPREGADO.unome AS ultimo_nome`: Seleciona as colunas `pnome` e `unome` da tabela `EMPREGADO`, que contêm o primeiro nome e o último nome dos supervisores. Estas colunas são renomeadas como `primeiro_nome` e `ultimo_nome` para tornar os resultados mais claros.\n",
    "   - `COUNT(SUBORDINADO.ssn) AS numero_de_supervisionados`: Utiliza a função `COUNT()` para contar o número de supervisionados (subordinados) de cada supervisor. A contagem é renomeada como `numero_de_supervisionados`.\n",
    "\n",
    "**FROM Clause**\n",
    "   - `FROM EMPREGADO`: Especifica que a consulta começa selecionando dados da tabela `EMPREGADO`.\n",
    "\n",
    "**JOIN Clause**\n",
    "   - `JOIN EMPREGADO AS SUBORDINADO ON EMPREGADO.ssn = SUBORDINADO.superssn`: Realiza um auto-join na tabela `EMPREGADO`, onde a tabela é unida a si mesma. A condição de junção é que o número de segurança social do supervisor (`ssn`) na tabela `EMPREGADO` corresponda ao número de segurança social do supervisor (`superssn`) na tabela `SUBORDINADO` (que é uma segunda instância da tabela `EMPREGADO`). Isso relaciona cada supervisor com seus supervisionados.\n",
    "\n",
    "**GROUP BY Clause**\n",
    "   - `GROUP BY EMPREGADO.ssn, EMPREGADO.pnome, EMPREGADO.unome`: Agrupa os registros por supervisor, identificado por `ssn`, e também agrupa por `pnome` e `unome` para garantir que cada supervisor seja tratado individualmente.\n",
    "\n",
    "**HAVING Clause**\n",
    "   - `HAVING COUNT(SUBORDINADO.ssn) >= 2`: Aplica um filtro para incluir apenas os supervisores que têm 2 ou mais supervisionados, conforme determinado pela contagem (`COUNT(SUBORDINADO.ssn)`)."
   ]
  },
  {
   "cell_type": "markdown",
   "metadata": {},
   "source": [
    "m) Escreva uma consulta que mostre o valor mensal a ser pago por projeto (considere que a\n",
    "coluna ‘salário’ de empregado é mensal)."
   ]
  },
  {
   "cell_type": "code",
   "execution_count": 38,
   "metadata": {},
   "outputs": [
    {
     "name": "stdout",
     "output_type": "stream",
     "text": [
      "('Automatizacao', 7031.25)\n",
      "('ProdutoZ', 9500.0)\n",
      "('ProdutoY', 4531.25)\n",
      "('Novos Beneficios', 10843.75)\n",
      "('ProdutoX', 9218.75)\n",
      "('Reorganizacao', 4031.25)\n"
     ]
    }
   ],
   "source": [
    "cursor.execute(\"\"\"SELECT PROJETO.pjnome AS nome_do_projeto, SUM(EMPREGADO.salario * TRABALHA.horas / 160) AS valor_mensal_projeto\n",
    "FROM EMPREGADO\n",
    "JOIN TRABALHA ON EMPREGADO.ssn = TRABALHA.essn\n",
    "JOIN PROJETO ON TRABALHA.pno = PROJETO.pnumero\n",
    "GROUP BY PROJETO.pjnome;\n",
    "\"\"\")\n",
    "\n",
    "# Obter resultados\n",
    "results = cursor.fetchall()\n",
    "if results:\n",
    "    for result in results:\n",
    "        print(result)"
   ]
  },
  {
   "cell_type": "markdown",
   "metadata": {},
   "source": [
    "**SELECT Clause**\n",
    "   - `PROJETO.pjnome AS nome_do_projeto`: Seleciona a coluna `pjnome` da tabela `PROJETO`, que contém o nome do projeto. Renomeamos essa coluna como `nome_do_projeto` para tornar os resultados mais claros.\n",
    "   - `SUM(EMPREGADO.salario * TRABALHA.horas / 160) AS valor_mensal_projeto`: Calcula o valor mensal a ser pago por projeto. O cálculo assume que o salário é mensal e que uma jornada de trabalho completa equivale a 160 horas por mês. Multiplicamos o salário do empregado pelo número de horas que ele dedica ao projeto, dividido por 160, para obter a contribuição mensal para o projeto. A função `SUM()` soma essas contribuições para obter o valor total a ser pago por cada projeto. O resultado é renomeado como `valor_mensal_projeto`.\n",
    "\n",
    "**FROM Clause**\n",
    "   - `FROM EMPREGADO`: Especifica que a consulta começa a selecionar dados da tabela `EMPREGADO`.\n",
    "\n",
    "**JOIN Clauses**\n",
    "   - `JOIN TRABALHA ON EMPREGADO.ssn = TRABALHA.essn`: Realiza uma junção entre a tabela `EMPREGADO` e `TRABALHA` onde o número de segurança social do empregado (`ssn`) corresponde ao número de segurança social (`essn`) na tabela `TRABALHA`. Isso permite combinar informações sobre os empregados com os projetos nos quais eles estão trabalhando.\n",
    "   - `JOIN PROJETO ON TRABALHA.pno = PROJETO.pnumero`: Realiza uma junção entre a tabela `TRABALHA` e `PROJETO`, associando cada projeto ao número do projeto (`pnumero`).\n",
    "\n",
    "**GROUP BY Clause**\n",
    "   - `GROUP BY PROJETO.pjnome`: Agrupa os registros por nome do projeto (`pjnome`), garantindo que o valor total seja calculado para cada projeto individualmente."
   ]
  },
  {
   "cell_type": "markdown",
   "metadata": {},
   "source": [
    "# Atividade 4) – Subconsultas \n",
    "\n",
    "- Escreva subconsultas SQL para as questões:"
   ]
  },
  {
   "cell_type": "markdown",
   "metadata": {},
   "source": [
    "a) Recupere nome (pnome e unome) de cada um dos empregados que tenham um dependente\n",
    "cujo primeiro nome e sexo sejam o mesmo do empregado em questão."
   ]
  },
  {
   "cell_type": "code",
   "execution_count": 43,
   "metadata": {},
   "outputs": [],
   "source": [
    "cursor.execute(\"\"\"SELECT pnome, unome\n",
    "FROM EMPREGADO\n",
    "WHERE EXISTS (\n",
    "    SELECT 1\n",
    "    FROM DEPENDENTE\n",
    "    WHERE DEPENDENTE.essn = EMPREGADO.ssn\n",
    "    AND DEPENDENTE.nomedep = EMPREGADO.pnome\n",
    "    AND DEPENDENTE.sexodep = EMPREGADO.sexo\n",
    ");\n",
    "\"\"\")\n",
    "\n",
    "# Obter resultados\n",
    "results = cursor.fetchall()\n",
    "if results:\n",
    "    for result in results:\n",
    "        print(result)"
   ]
  },
  {
   "cell_type": "markdown",
   "metadata": {},
   "source": [
    "**SELECT Clause**\n",
    "   - `pnome, unome`: Seleciona as colunas `pnome` (primeiro nome) e `unome` (sobrenome) da tabela `EMPREGADO`. O objetivo é retornar os nomes dos empregados que atendem às condições especificadas na subconsulta.\n",
    "\n",
    "**FROM Clause**\n",
    "   - `FROM EMPREGADO`: Especifica que a consulta vai obter os dados da tabela `EMPREGADO`, que contém informações sobre os empregados, incluindo seus nomes, números de segurança social (`ssn`), e outros atributos.\n",
    "\n",
    "**WHERE Clause**\n",
    "   - `WHERE EXISTS`: Utiliza a cláusula `EXISTS` para verificar se uma determinada condição é verdadeira para pelo menos um registro retornado pela subconsulta. A consulta principal retorna um resultado apenas se a subconsulta retornar pelo menos um registro.\n",
    "   \n",
    "   **Subconsulta**:\n",
    "   - **`SELECT 1`**: A subconsulta retorna o valor `1` para cada dependente que atende às condições especificadas. Não precisamos selecionar uma coluna específica, pois estamos apenas verificando a existência de registros que satisfaçam as condições.\n",
    "   - **`FROM DEPENDENTE`**: A subconsulta obtém dados da tabela `DEPENDENTE`, que contém informações sobre os dependentes dos empregados, como o número de segurança social (`essn`), nome (`nomedep`), sexo (`sexodep`), e outros atributos.\n",
    "   - **`WHERE DEPENDENTE.essn = EMPREGADO.ssn`**: Essa condição garante que a subconsulta apenas considere dependentes que estejam associados ao empregado atual da consulta principal, através do número de segurança social (`ssn`).\n",
    "   - **`AND DEPENDENTE.nomedep = EMPREGADO.pnome`**: Verifica se o nome do dependente (`nomedep`) é igual ao primeiro nome do empregado (`pnome`). Esta condição é usada para encontrar dependentes que tenham o mesmo nome que o empregado.\n",
    "   - **`AND DEPENDENTE.sexodep = EMPREGADO.sexo`**: Verifica se o sexo do dependente (`sexodep`) é igual ao sexo do empregado (`sexo`). Esta condição é usada para garantir que o dependente tenha o mesmo sexo que o empregado."
   ]
  },
  {
   "cell_type": "markdown",
   "metadata": {},
   "source": [
    "Nenhum dos dependentes tem o mesmo primeiro nome e sexo que os empregados associados. Por isso, a consulta SQL não retornou nenhum resultado."
   ]
  },
  {
   "cell_type": "markdown",
   "metadata": {},
   "source": [
    "b) Recupere os nomes dos empregados (pnome e unome) cujos salários são maiores que a\n",
    "média dos salários dos empregados do departamento 5."
   ]
  },
  {
   "cell_type": "code",
   "execution_count": 44,
   "metadata": {},
   "outputs": [
    {
     "name": "stdout",
     "output_type": "stream",
     "text": [
      "('Fabio', 'Will')\n",
      "('Jennifer', 'Wallace')\n",
      "('Ricardo', 'Nantes')\n",
      "('Joaquim', 'Brito')\n",
      "('Roberto', 'Silva')\n"
     ]
    }
   ],
   "source": [
    "cursor.execute(\"\"\"SELECT pnome, unome\n",
    "FROM EMPREGADO\n",
    "WHERE salario > (\n",
    "    SELECT AVG(salario)\n",
    "    FROM EMPREGADO\n",
    "    WHERE dno = '5'\n",
    ");\n",
    "\"\"\")\n",
    "\n",
    "# Obter resultados\n",
    "results = cursor.fetchall()\n",
    "if results:\n",
    "    for result in results:\n",
    "        print(result)"
   ]
  },
  {
   "cell_type": "markdown",
   "metadata": {},
   "source": [
    "**SELECT Clause**\n",
    "   - `pnome, unome`: Seleciona as colunas `pnome` (primeiro nome) e `unome` (sobrenome) da tabela `EMPREGADO`. O objetivo é retornar os nomes dos empregados que têm salários maiores que a média dos salários dos empregados do departamento 5.\n",
    "\n",
    "**FROM Clause**\n",
    "   - `FROM EMPREGADO`: Especifica que a consulta vai obter os dados da tabela `EMPREGADO`, que contém informações sobre os empregados, incluindo seus nomes, salários (`salario`), números de segurança social (`ssn`), e o número do departamento ao qual pertencem (`dno`).\n",
    "\n",
    "**WHERE Clause**\n",
    "   - `WHERE salario > (...)`: A condição `WHERE` compara o salário de cada empregado com o resultado da subconsulta. Apenas os empregados cujo salário for maior que a média calculada pela subconsulta serão retornados.\n",
    "\n",
    "   **Subconsulta**:\n",
    "   - **`SELECT AVG(salario)`**: A subconsulta calcula a média dos salários dos empregados no departamento 5, usando a função agregada `AVG()` para obter a média.\n",
    "   - **`FROM EMPREGADO`**: Especifica que a subconsulta vai obter os dados da tabela `EMPREGADO`.\n",
    "   - **`WHERE dno = '5'`**: Filtra os empregados para considerar apenas aqueles que trabalham no departamento 5 (`dno = '5'`)."
   ]
  },
  {
   "cell_type": "markdown",
   "metadata": {},
   "source": [
    "c) Retorne o número do seguro social (SSN) de todos os empregado que trabalham com a\n",
    "mesma combinação (projeto, horas) em algum dos projetos em que o empregado ‘Fabio Will’\n",
    "(SSN= 333445555) trabalhe."
   ]
  },
  {
   "cell_type": "code",
   "execution_count": 50,
   "metadata": {},
   "outputs": [],
   "source": [
    "cursor.execute(\"\"\"SELECT DISTINCT essn\n",
    "FROM TRABALHA\n",
    "WHERE (pno, horas) IN (\n",
    "    SELECT pno, horas\n",
    "    FROM TRABALHA\n",
    "    WHERE essn = '333445555'\n",
    ");\n",
    "\"\"\")\n",
    "\n",
    "# Obter resultados\n",
    "results = cursor.fetchall()\n",
    "if results:\n",
    "    for result in results:\n",
    "        print(result)"
   ]
  },
  {
   "cell_type": "markdown",
   "metadata": {},
   "source": [
    "**SELECT Clause**\n",
    "   - `DISTINCT essn`: Seleciona a coluna `essn` (número do seguro social) da tabela `TRABALHA`. O uso de `DISTINCT` garante que cada SSN apareça apenas uma vez no resultado, mesmo que um empregado trabalhe em múltiplas combinações iguais de projeto e horas.\n",
    "\n",
    "**FROM Clause**\n",
    "   - `FROM TRABALHA`: Especifica que a consulta vai obter os dados da tabela `TRABALHA`, que contém informações sobre os projetos nos quais os empregados estão envolvidos, incluindo o número do seguro social (`essn`), o número do projeto (`pno`), e as horas dedicadas ao projeto (`horas`).\n",
    "\n",
    "**WHERE Clause**\n",
    "   - `WHERE (pno, horas) IN (...)`: Esta cláusula filtra os empregados para incluir apenas aqueles que trabalham na mesma combinação de projeto (`pno`) e horas (`horas`) que \"Fabio Will\" (SSN = 333445555).\n",
    "\n",
    "   **Subconsulta**:\n",
    "   - **`SELECT pno, horas`**: A subconsulta seleciona o número do projeto (`pno`) e as horas (`horas`) que \"Fabio Will\" dedicou a cada projeto.\n",
    "   - **`FROM TRABALHA`**: A subconsulta obtém os dados da tabela `TRABALHA`.\n",
    "   - **`WHERE essn = '333445555'`**: Filtra a subconsulta para considerar apenas as combinações de projeto e horas associadas ao empregado \"Fabio Will\" (SSN = 333445555)."
   ]
  },
  {
   "cell_type": "markdown",
   "metadata": {},
   "source": [
    "Como \"Fabio Will\" não tem registros na tabela TRABALHA, não há como encontrar outros empregados que trabalhem nas mesmas combinações de projeto e horas que ele. É por isso que a consulta não retornou resultado."
   ]
  },
  {
   "cell_type": "markdown",
   "metadata": {},
   "source": [
    "d) Recupere os nomes de todos os empregados que não trabalham em nenhum projeto."
   ]
  },
  {
   "cell_type": "code",
   "execution_count": 51,
   "metadata": {},
   "outputs": [
    {
     "name": "stdout",
     "output_type": "stream",
     "text": [
      "('Fabio', 'Will')\n",
      "('Roberto', 'Silva')\n"
     ]
    }
   ],
   "source": [
    "cursor.execute(\"\"\"SELECT pnome, unome\n",
    "FROM EMPREGADO\n",
    "WHERE ssn NOT IN (\n",
    "    SELECT essn\n",
    "    FROM TRABALHA\n",
    ");\n",
    "\"\"\")\n",
    "\n",
    "# Obter resultados\n",
    "results = cursor.fetchall()\n",
    "if results:\n",
    "    for result in results:\n",
    "        print(result)"
   ]
  },
  {
   "cell_type": "markdown",
   "metadata": {},
   "source": [
    "**SELECT Clause**\n",
    "   - `pnome, unome`: Seleciona as colunas `pnome` (primeiro nome) e `unome` (sobrenome) da tabela `EMPREGADO`. O objetivo é retornar os nomes dos empregados que não têm nenhum registro na tabela `TRABALHA`, ou seja, que não estão associados a nenhum projeto.\n",
    "\n",
    "**FROM Clause**\n",
    "   - `FROM EMPREGADO`: Especifica que a consulta vai obter os dados da tabela `EMPREGADO`, que contém informações sobre todos os empregados, incluindo seus nomes e números de segurança social (`ssn`).\n",
    "\n",
    "**WHERE Clause**\n",
    "   - `WHERE ssn NOT IN (...)`: A cláusula `WHERE` filtra os empregados, retornando apenas aqueles cujo número de segurança social (`ssn`) não aparece na subconsulta. Isso significa que esses empregados não têm registros na tabela `TRABALHA` e, portanto, não estão associados a nenhum projeto.\n",
    "\n",
    "   **Subconsulta**:\n",
    "   - **`SELECT essn`**: A subconsulta seleciona a coluna `essn` da tabela `TRABALHA`, que contém os números de segurança social dos empregados que estão associados a projetos.\n",
    "   - **`FROM TRABALHA`**: Especifica que a subconsulta vai obter os dados da tabela `TRABALHA`, onde cada registro representa um empregado trabalhando em um projeto específico."
   ]
  },
  {
   "cell_type": "markdown",
   "metadata": {},
   "source": [
    "e) Recupere o nome de empregados que não tenham dependentes."
   ]
  },
  {
   "cell_type": "code",
   "execution_count": 52,
   "metadata": {},
   "outputs": [
    {
     "name": "stdout",
     "output_type": "stream",
     "text": [
      "('Brito',)\n"
     ]
    }
   ],
   "source": [
    "cursor.execute(\"\"\"SELECT unome\n",
    "FROM EMPREGADO\n",
    "WHERE ssn IN (\n",
    "    SELECT gerssn\n",
    "    FROM DEPARTAMENTO\n",
    ")\n",
    "AND ssn NOT IN (\n",
    "    SELECT essn\n",
    "    FROM DEPENDENTE\n",
    ");\n",
    "\"\"\")\n",
    "\n",
    "# Obter resultados\n",
    "results = cursor.fetchall()\n",
    "if results:\n",
    "    for result in results:\n",
    "        print(result)"
   ]
  },
  {
   "cell_type": "markdown",
   "metadata": {},
   "source": [
    "**SELECT Clause**\n",
    "   - `unome`: Seleciona a coluna `unome` (último nome) da tabela `EMPREGADO`. O objetivo é retornar os sobrenomes dos gerentes de departamento que não têm dependentes.\n",
    "\n",
    "**FROM Clause**\n",
    "   - `FROM EMPREGADO`: Especifica que a consulta vai obter os dados da tabela `EMPREGADO`, que contém informações sobre todos os empregados, incluindo seus nomes, números de segurança social (`ssn`), e outros detalhes.\n",
    "\n",
    "**WHERE Clause**\n",
    "   - `WHERE ssn IN (...)`: Esta condição filtra os empregados para incluir apenas aqueles cujo número de segurança social (`ssn`) aparece na subconsulta, que identifica os gerentes de departamento.\n",
    "   \n",
    "   **Primeira Subconsulta**:\n",
    "   - **`SELECT gerssn`**: A subconsulta seleciona a coluna `gerssn` da tabela `DEPARTAMENTO`, que contém os números de segurança social dos gerentes de departamento.\n",
    "   - **`FROM DEPARTAMENTO`**: Especifica que a subconsulta vai obter os dados da tabela `DEPARTAMENTO`, que contém informações sobre os departamentos, incluindo os gerentes.\n",
    "\n",
    "   - `AND ssn NOT IN (...)`: Esta condição adicional filtra para incluir apenas os gerentes de departamento cujo número de segurança social (`ssn`) não aparece na subconsulta, que identifica os empregados com dependentes.\n",
    "   \n",
    "   **Segunda Subconsulta**:\n",
    "   - **`SELECT essn`**: A subconsulta seleciona a coluna `essn` da tabela `DEPENDENTE`, que contém os números de segurança social dos empregados que têm dependentes.\n",
    "   - **`FROM DEPENDENTE`**: Especifica que a subconsulta vai obter os dados da tabela `DEPENDENTE`, onde cada registro representa um dependente associado a um empregado."
   ]
  },
  {
   "cell_type": "markdown",
   "metadata": {},
   "source": [
    "f) Liste o último nome de todos os gerentes de departamento que não tenham dependentes."
   ]
  },
  {
   "cell_type": "code",
   "execution_count": 54,
   "metadata": {},
   "outputs": [
    {
     "name": "stdout",
     "output_type": "stream",
     "text": [
      "('Brito',)\n"
     ]
    }
   ],
   "source": [
    "cursor.execute(\"\"\"SELECT unome\n",
    "FROM EMPREGADO\n",
    "WHERE ssn IN (\n",
    "    SELECT gerssn\n",
    "    FROM DEPARTAMENTO\n",
    ")\n",
    "AND ssn NOT IN (\n",
    "    SELECT essn\n",
    "    FROM DEPENDENTE\n",
    ");\n",
    "\"\"\")\n",
    "\n",
    "# Obter resultados\n",
    "results = cursor.fetchall()\n",
    "if results:\n",
    "    for result in results:\n",
    "        print(result)"
   ]
  },
  {
   "cell_type": "markdown",
   "metadata": {},
   "source": [
    "**SELECT Clause**\n",
    "   - `unome`: Seleciona a coluna `unome` (último nome) da tabela `EMPREGADO`. O objetivo é retornar os sobrenomes dos gerentes de departamento que não têm dependentes.\n",
    "\n",
    "**FROM Clause**\n",
    "   - `FROM EMPREGADO`: Especifica que a consulta vai obter os dados da tabela `EMPREGADO`, que contém informações sobre todos os empregados, incluindo seus nomes, números de segurança social (`ssn`), e outros detalhes.\n",
    "\n",
    "**WHERE Clause**\n",
    "   - `WHERE ssn IN (...)`: Filtra os empregados para incluir apenas aqueles cujo número de segurança social (`ssn`) aparece na subconsulta que identifica os gerentes de departamento.\n",
    "   \n",
    "   **Primeira Subconsulta**:\n",
    "   - **`SELECT gerssn`**: A subconsulta seleciona a coluna `gerssn` da tabela `DEPARTAMENTO`, que contém os números de segurança social dos gerentes de departamento.\n",
    "   - **`FROM DEPARTAMENTO`**: Especifica que a subconsulta vai obter os dados da tabela `DEPARTAMENTO`, que contém informações sobre os departamentos, incluindo os gerentes.\n",
    "\n",
    "   - `AND ssn NOT IN (...)`: Esta condição adicional filtra para incluir apenas os gerentes de departamento cujo número de segurança social (`ssn`) **não** aparece na subconsulta que identifica os empregados com dependentes.\n",
    "   \n",
    "   **Segunda Subconsulta**:\n",
    "   - **`SELECT essn`**: A subconsulta seleciona a coluna `essn` da tabela `DEPENDENTE`, que contém os números de segurança social dos empregados que têm dependentes.\n",
    "   - **`FROM DEPENDENTE`**: Especifica que a subconsulta vai obter os dados da tabela `DEPENDENTE`, onde cada registro representa um dependente associado a um empregado."
   ]
  },
  {
   "cell_type": "markdown",
   "metadata": {},
   "source": [
    "g) Liste os nomes dos gerentes que tenham, pelo menos, um dependente."
   ]
  },
  {
   "cell_type": "code",
   "execution_count": 53,
   "metadata": {},
   "outputs": [
    {
     "name": "stdout",
     "output_type": "stream",
     "text": [
      "('Fabio', 'Will')\n",
      "('Jennifer', 'Wallace')\n"
     ]
    }
   ],
   "source": [
    "cursor.execute(\"\"\"SELECT pnome, unome\n",
    "FROM EMPREGADO\n",
    "WHERE ssn IN (\n",
    "    SELECT gerssn\n",
    "    FROM DEPARTAMENTO\n",
    ")\n",
    "AND ssn IN (\n",
    "    SELECT essn\n",
    "    FROM DEPENDENTE\n",
    ");\n",
    "\"\"\")\n",
    "\n",
    "# Obter resultados\n",
    "results = cursor.fetchall()\n",
    "if results:\n",
    "    for result in results:\n",
    "        print(result)"
   ]
  },
  {
   "cell_type": "markdown",
   "metadata": {},
   "source": [
    "**SELECT Clause**\n",
    "   - `pnome, unome`: Seleciona as colunas `pnome` (primeiro nome) e `unome` (sobrenome) da tabela `EMPREGADO`. O objetivo é retornar os nomes dos gerentes de departamento que têm pelo menos um dependente.\n",
    "\n",
    "**FROM Clause**\n",
    "   - `FROM EMPREGADO`: Especifica que a consulta vai obter os dados da tabela `EMPREGADO`, que contém informações sobre todos os empregados, incluindo seus nomes, números de segurança social (`ssn`), e outros detalhes.\n",
    "\n",
    "**WHERE Clause**\n",
    "   - `WHERE ssn IN (...)`: Filtra os empregados para incluir apenas aqueles cujo número de segurança social (`ssn`) aparece na subconsulta que identifica os gerentes de departamento.\n",
    "   \n",
    "   **Primeira Subconsulta**:\n",
    "   - **`SELECT gerssn`**: A subconsulta seleciona a coluna `gerssn` da tabela `DEPARTAMENTO`, que contém os números de segurança social dos gerentes de departamento.\n",
    "   - **`FROM DEPARTAMENTO`**: Especifica que a subconsulta vai obter os dados da tabela `DEPARTAMENTO`, que contém informações sobre os departamentos, incluindo os gerentes.\n",
    "\n",
    "   - `AND ssn IN (...)`: Esta condição adicional filtra para incluir apenas os gerentes de departamento cujo número de segurança social (`ssn`) aparece na subconsulta que identifica os empregados com dependentes.\n",
    "   \n",
    "   **Segunda Subconsulta**:\n",
    "   - **`SELECT essn`**: A subconsulta seleciona a coluna `essn` da tabela `DEPENDENTE`, que contém os números de segurança social dos empregados que têm dependentes.\n",
    "   - **`FROM DEPENDENTE`**: Especifica que a subconsulta vai obter os dados da tabela `DEPENDENTE`, onde cada registro representa um dependente associado a um empregado."
   ]
  },
  {
   "cell_type": "markdown",
   "metadata": {},
   "source": [
    "# Atividade 5) Índices \n",
    "\n",
    "- Escreva comandos SQL para responder as seguintes questões:"
   ]
  },
  {
   "cell_type": "markdown",
   "metadata": {},
   "source": [
    "a) Crie a tabela tempEmpregado contendo dos dados dos atributos ssn, pnome,sexo, endereco\n",
    "e datanasc da tabela empregado. Realizar a copia dos dados durante o processo de criação da\n",
    "nova tabela."
   ]
  },
  {
   "cell_type": "code",
   "execution_count": 97,
   "metadata": {},
   "outputs": [],
   "source": [
    "cursor.execute(\"\"\"CREATE TABLE tempEmpregado AS\n",
    "SELECT ssn, pnome, sexo, endereco, datanasc\n",
    "FROM EMPREGADO;\n",
    "\"\"\")\n",
    "\n",
    "conn.commit()"
   ]
  },
  {
   "cell_type": "markdown",
   "metadata": {},
   "source": [
    "- **`CREATE TABLE tempEmpregado AS`**: Cria uma nova tabela chamada `tempEmpregado`. A cláusula `AS` indica que a nova tabela será criada com base nos resultados de uma consulta SQL.\n",
    "- **`SELECT ssn, pnome, sexo, endereco, datanasc`**: Seleciona as colunas `ssn`, `pnome`, `sexo`, `endereco`, e `datanasc` da tabela `EMPREGADO`.\n",
    "- **`FROM EMPREGADO`**: Especifica que os dados para a nova tabela `tempEmpregado` serão obtidos da tabela `EMPREGADO`."
   ]
  },
  {
   "cell_type": "markdown",
   "metadata": {},
   "source": [
    "b) Utilize o comando EXPLAIN ANALYSE e anote o tempo de execução da consulta SELECT *\n",
    "FROM TEMPEMPREGADO."
   ]
  },
  {
   "cell_type": "code",
   "execution_count": 98,
   "metadata": {},
   "outputs": [
    {
     "name": "stdout",
     "output_type": "stream",
     "text": [
      "('Seq Scan on tempempregado  (cost=0.00..12.90 rows=290 width=248) (actual time=0.014..0.015 rows=9 loops=1)',)\n",
      "('Planning Time: 1.119 ms',)\n",
      "('Execution Time: 0.039 ms',)\n"
     ]
    }
   ],
   "source": [
    "cursor.execute(\"\"\"EXPLAIN ANALYZE SELECT * FROM tempEmpregado;\n",
    "\"\"\")\n",
    "\n",
    "# Obter resultados\n",
    "results = cursor.fetchall()\n",
    "if results:\n",
    "    for result in results:\n",
    "        print(result)"
   ]
  },
  {
   "cell_type": "markdown",
   "metadata": {},
   "source": [
    "**Seq Scan on tempempregado**:\n",
    "   - **Custo estimado (`cost`)**: O PostgreSQL estimou que o custo da execução dessa consulta seria entre `0.00` e `12.90`.\n",
    "   - **Linhas estimadas (`rows`)**: O planejador estimou que seriam retornadas `290` linhas.\n",
    "   - **Tempo real de execução (`actual time`)**: A consulta realmente levou entre `0.014` e `0.015` milissegundos para executar essa etapa, retornando `9` linhas.\n",
    "\n",
    "**Planning Time**:\n",
    "   - O tempo necessário para o PostgreSQL planejar a execução da consulta foi de `1.119 ms`.\n",
    "\n",
    "**Execution Time**:\n",
    "   - O tempo total de execução da consulta foi de `0.039 ms`."
   ]
  },
  {
   "cell_type": "markdown",
   "metadata": {},
   "source": [
    "- **`EXPLAIN ANALYZE`**: Este comando é usado para analisar a execução de uma consulta SQL, mostrando o plano de execução que o PostgreSQL planeja usar e o tempo necessário para executá-la. O `ANALYZE` realmente executa a consulta, ao contrário de apenas mostrar o plano, permitindo ver o tempo real de execução.\n",
    "- **`SELECT * FROM tempEmpregado`**: Esta é a consulta que está sendo analisada, que simplesmente seleciona todos os registros e colunas da tabela `tempEmpregado`."
   ]
  },
  {
   "cell_type": "markdown",
   "metadata": {},
   "source": [
    "c) Crie um índice com o campo ssn que não permite dados duplicados para a tabela\n",
    "tempEmpregado, utilizando o algoritmo de ordenação BTREE."
   ]
  },
  {
   "cell_type": "code",
   "execution_count": 99,
   "metadata": {},
   "outputs": [],
   "source": [
    "cursor.execute(\"\"\"CREATE UNIQUE INDEX idx_tempempregado_ssn\n",
    "ON tempEmpregado (ssn);\n",
    "\"\"\")\n",
    "conn.commit()"
   ]
  },
  {
   "cell_type": "markdown",
   "metadata": {},
   "source": [
    "No PostgreSQL, o algoritmo `BTREE` é o padrão para a criação de índices."
   ]
  },
  {
   "cell_type": "markdown",
   "metadata": {},
   "source": [
    "- **`CREATE UNIQUE INDEX idx_tempempregado_ssn`**: Cria um índice exclusivo chamado `idx_tempempregado_ssn` na tabela `tempEmpregado`.\n",
    "- **`ON tempEmpregado (ssn)`**: Especifica que o índice será criado na coluna `ssn` da tabela `tempEmpregado`."
   ]
  },
  {
   "cell_type": "markdown",
   "metadata": {},
   "source": [
    "d) Crie um índice com o campo pnome para a tabela tempEmpregado, em ordem decrescente\n",
    "e que utilize o algoritmo de ordenação HASH."
   ]
  },
  {
   "cell_type": "code",
   "execution_count": 100,
   "metadata": {},
   "outputs": [],
   "source": [
    "cursor.execute(\"\"\"CREATE INDEX idx_tempempregado_pnome_desc\n",
    "ON tempEmpregado (pnome DESC);\n",
    "\"\"\")\n",
    "\n",
    "conn.commit()"
   ]
  },
  {
   "cell_type": "markdown",
   "metadata": {},
   "source": [
    "- **`CREATE INDEX idx_tempempregado_pnome_desc`**: Cria um índice chamado `idx_tempempregado_pnome_desc` na tabela `tempEmpregado`.\n",
    "- **`ON tempEmpregado (pnome DESC)`**: Especifica que o índice será criado na coluna `pnome` em ordem decrescente (`DESC`)."
   ]
  },
  {
   "cell_type": "markdown",
   "metadata": {},
   "source": [
    "e) Utilize o comando EXPLAIN ANALYSE, anote e compare com o tempo de execução da\n",
    "consulta SELECT * FROM TEMPEMPREGADO. O que achou do resultado?"
   ]
  },
  {
   "cell_type": "code",
   "execution_count": 101,
   "metadata": {},
   "outputs": [
    {
     "name": "stdout",
     "output_type": "stream",
     "text": [
      "('Seq Scan on tempempregado  (cost=0.00..1.09 rows=9 width=248) (actual time=0.026..0.029 rows=9 loops=1)',)\n",
      "('Planning Time: 5.070 ms',)\n",
      "('Execution Time: 0.055 ms',)\n"
     ]
    }
   ],
   "source": [
    "cursor.execute(\"\"\"EXPLAIN ANALYZE SELECT * FROM tempEmpregado;\n",
    "\"\"\")\n",
    "\n",
    "# Obter resultados\n",
    "results = cursor.fetchall()\n",
    "if results:\n",
    "    for result in results:\n",
    "        print(result)"
   ]
  },
  {
   "cell_type": "markdown",
   "metadata": {},
   "source": [
    "**Seq Scan (Varredura Sequencial)**:\n",
    "   - Em ambos os casos, o PostgreSQL usou uma varredura sequencial (`Seq Scan`) para acessar os dados, o que é esperado, já que a consulta `SELECT *` não se beneficia diretamente do índice criado na coluna `pnome`.\n",
    "   - **Custo estimado**: O custo estimado diminuiu após a criação do índice (`12.90` para `1.09`), indicando que o planejador de consultas considerou o índice na estimativa de custos, mesmo que a execução real não tenha se beneficiado diretamente dele.\n",
    "   - **Tempo real de execução**: Houve um pequeno aumento no tempo de execução (`0.039 ms` para `0.055 ms`), provavelmente devido ao overhead de manutenção do índice durante a consulta, mesmo que ele não tenha sido diretamente utilizado.\n",
    "\n",
    "**Planning Time**:\n",
    "   - O tempo de planejamento (`Planning Time`) aumentou significativamente após a criação do índice (`1.119 ms` para `5.070 ms`). Isso pode ocorrer porque o planejador de consultas agora precisa considerar o índice ao determinar o melhor plano de execução, mesmo que o índice não seja utilizado diretamente na execução da consulta.\n",
    "\n",
    "**Execution Time**:\n",
    "   - O tempo total de execução (`Execution Time`) aumentou ligeiramente após a criação do índice (`0.039 ms` para `0.055 ms`). Este pequeno aumento pode ser atribuído ao fato de que, embora a varredura sequencial continue a ser utilizada, o sistema agora também leva em conta o índice, o que pode introduzir algum overhead."
   ]
  },
  {
   "cell_type": "markdown",
   "metadata": {},
   "source": [
    "### Conclusão\n",
    "\n",
    "- **Índice não utilizado diretamente**: Neste caso específico, a criação do índice na coluna `pnome` não trouxe benefícios diretos para a consulta `SELECT * FROM tempEmpregado`, já que a consulta não estava filtrando ou ordenando os dados com base na coluna indexada.\n",
    "- **Overhead do índice**: A criação do índice introduziu um pequeno overhead, aumentando o tempo de planejamento e execução. Isso é comum quando índices são criados em colunas que não são diretamente utilizadas nas consultas.\n",
    "- **Uso do índice em outras consultas**: O índice poderia ser mais útil em outras consultas que filtram ou ordenam com base na coluna `pnome`. Se você tivesse uma consulta como `SELECT * FROM tempEmpregado WHERE pnome = 'Joao'`, o índice poderia acelerar significativamente a execução."
   ]
  },
  {
   "cell_type": "markdown",
   "metadata": {},
   "source": [
    "f) Remova os índices criados nos itens c e d."
   ]
  },
  {
   "cell_type": "code",
   "execution_count": 102,
   "metadata": {},
   "outputs": [],
   "source": [
    "cursor.execute(\"\"\"DROP INDEX IF EXISTS idx_tempempregado_ssn;\n",
    "\"\"\")\n",
    "\n",
    "cursor.execute(\"\"\"DROP INDEX IF EXISTS idx_tempempregado_pnome_desc;\n",
    "\"\"\")\n",
    "conn.commit()"
   ]
  },
  {
   "cell_type": "markdown",
   "metadata": {},
   "source": [
    "g) Remova a tabela temporária criada no item a"
   ]
  },
  {
   "cell_type": "code",
   "execution_count": 103,
   "metadata": {},
   "outputs": [],
   "source": [
    "cursor.execute(\"\"\"DROP TABLE IF EXISTS tempEmpregado;\n",
    "\"\"\")\n",
    "conn.commit()"
   ]
  },
  {
   "cell_type": "markdown",
   "metadata": {},
   "source": [
    "# Atividade 6) Visões \n",
    "\n",
    "- Escreva comandos SQL para responder as seguintes questões"
   ]
  },
  {
   "cell_type": "markdown",
   "metadata": {},
   "source": [
    "a) Crie a visão chamada TRABALHA_EM que deverá conter os campos pnome e unome da\n",
    "tabela empregado, o campo pjnome da tabela projeto e o campo horas da tabela trabalha"
   ]
  },
  {
   "cell_type": "code",
   "execution_count": 116,
   "metadata": {},
   "outputs": [],
   "source": [
    "cursor.execute(\"\"\"CREATE VIEW TRABALHA_EM AS\n",
    "SELECT EMPREGADO.pnome, EMPREGADO.unome, PROJETO.pjnome, TRABALHA.horas\n",
    "FROM EMPREGADO\n",
    "JOIN TRABALHA ON EMPREGADO.ssn = TRABALHA.essn\n",
    "JOIN PROJETO ON TRABALHA.pno = PROJETO.pnumero;\n",
    "\"\"\")\n",
    "\n",
    "conn.commit()"
   ]
  },
  {
   "cell_type": "markdown",
   "metadata": {},
   "source": [
    "- **`CREATE VIEW TRABALHA_EM AS`**: Cria uma nova visão chamada `TRABALHA_EM`. Uma visão é uma tabela virtual que é baseada no resultado de uma consulta SQL.\n",
    "- **`SELECT EMPREGADO.pnome, EMPREGADO.unome, PROJETO.pjnome, TRABALHA.horas`**: Seleciona os campos `pnome` e `unome` da tabela `EMPREGADO`, o campo `pjnome` da tabela `PROJETO`, e o campo `horas` da tabela `TRABALHA`.\n",
    "- **`FROM EMPREGADO`**: Especifica que a consulta começa selecionando dados da tabela `EMPREGADO`.\n",
    "- **`JOIN TRABALHA ON EMPREGADO.ssn = TRABALHA.essn`**: Faz uma junção entre a tabela `EMPREGADO` e `TRABALHA` com base na correspondência entre o número de segurança social do empregado (`ssn`) na tabela `EMPREGADO` e o número de segurança social (`essn`) na tabela `TRABALHA`.\n",
    "- **`JOIN PROJETO ON TRABALHA.pno = PROJETO.pnumero`**: Faz uma junção entre a tabela `TRABALHA` e `PROJETO` com base na correspondência entre o número do projeto (`pno`) na tabela `TRABALHA` e o número do projeto (`pnumero`) na tabela `PROJETO`."
   ]
  },
  {
   "cell_type": "markdown",
   "metadata": {},
   "source": [
    "b) Crie uma consulta SQL na visão implementada no item a que retorne o último e o primeiro\n",
    "nome de todos os empregados que trabalham no ‘ProdutoX’."
   ]
  },
  {
   "cell_type": "code",
   "execution_count": 117,
   "metadata": {},
   "outputs": [
    {
     "name": "stdout",
     "output_type": "stream",
     "text": [
      "('Souza', 'Joao')\n",
      "('Pereira', 'Jussara')\n"
     ]
    }
   ],
   "source": [
    "cursor.execute(\"\"\"SELECT unome, pnome\n",
    "FROM TRABALHA_EM\n",
    "WHERE pjnome = 'ProdutoX';\n",
    "\"\"\")\n",
    "\n",
    "# Obter resultados\n",
    "results = cursor.fetchall()\n",
    "if results:\n",
    "    for result in results:\n",
    "        print(result)"
   ]
  },
  {
   "cell_type": "markdown",
   "metadata": {},
   "source": [
    "- **`SELECT unome, pnome`**: Seleciona os campos `unome` (último nome) e `pnome` (primeiro nome) dos empregados da visão `TRABALHA_EM`.\n",
    "- **`FROM TRABALHA_EM`**: Especifica que a consulta vai buscar os dados da visão `TRABALHA_EM`, que contém a junção das tabelas `EMPREGADO`, `TRABALHA` e `PROJETO`.\n",
    "- **`WHERE pjnome = 'ProdutoX'`**: Filtra os resultados para incluir apenas os empregados que estão trabalhando no projeto com o nome 'ProdutoX'."
   ]
  },
  {
   "cell_type": "markdown",
   "metadata": {},
   "source": [
    "c) Exclua a visão criada no item a."
   ]
  },
  {
   "cell_type": "code",
   "execution_count": 118,
   "metadata": {},
   "outputs": [],
   "source": [
    "cursor.execute(\"\"\"DROP VIEW IF EXISTS TRABALHA_EM;\n",
    "\"\"\")\n",
    "\n",
    "conn.commit()"
   ]
  },
  {
   "cell_type": "markdown",
   "metadata": {},
   "source": [
    "d) Crie uma visão chamada DEPTO_INFO que deverá conter os campos dnome da tabela\n",
    "departamento, e o total de empregados e somatório dos salários dos empregados da tabela\n",
    "empregado por departamento"
   ]
  },
  {
   "cell_type": "code",
   "execution_count": 119,
   "metadata": {},
   "outputs": [],
   "source": [
    "cursor.execute(\"\"\"CREATE VIEW DEPTO_INFO AS\n",
    "SELECT DEPARTAMENTO.dnome, \n",
    "       COUNT(EMPREGADO.ssn) AS total_empregados, \n",
    "       SUM(EMPREGADO.salario) AS soma_salarios\n",
    "FROM DEPARTAMENTO\n",
    "LEFT JOIN EMPREGADO ON DEPARTAMENTO.dnumero = EMPREGADO.dno\n",
    "GROUP BY DEPARTAMENTO.dnome;\n",
    "\"\"\")\n",
    "\n",
    "conn.commit()"
   ]
  },
  {
   "cell_type": "markdown",
   "metadata": {},
   "source": [
    "- **`CREATE VIEW DEPTO_INFO AS`**: Cria uma nova visão chamada `DEPTO_INFO`.\n",
    "- **`SELECT DEPARTAMENTO.dnome`**: Seleciona o nome do departamento (`dnome`) da tabela `DEPARTAMENTO`.\n",
    "- **`COUNT(EMPREGADO.ssn) AS total_empregados`**: Conta o número de empregados em cada departamento, identificando-os pelo número de segurança social (`ssn`). O resultado é renomeado como `total_empregados`.\n",
    "- **`SUM(EMPREGADO.salario) AS soma_salarios`**: Calcula o somatório dos salários dos empregados em cada departamento. O resultado é renomeado como `soma_salarios`.\n",
    "- **`FROM DEPARTAMENTO`**: Especifica que a consulta vai buscar dados da tabela `DEPARTAMENTO`.\n",
    "- **`LEFT JOIN EMPREGADO ON DEPARTAMENTO.dnumero = EMPREGADO.dno`**: Realiza uma junção à esquerda (`LEFT JOIN`) entre as tabelas `DEPARTAMENTO` e `EMPREGADO` com base na correspondência entre o número do departamento (`dnumero`) na tabela `DEPARTAMENTO` e o número do departamento (`dno`) na tabela `EMPREGADO`. Isso garante que todos os departamentos sejam incluídos na visão, mesmo que não tenham empregados associados.\n",
    "- **`GROUP BY DEPARTAMENTO.dnome`**: Agrupa os resultados por nome do departamento, de forma que a contagem de empregados e a soma dos salários sejam calculadas para cada departamento individualmente."
   ]
  },
  {
   "cell_type": "markdown",
   "metadata": {},
   "source": [
    "e) Crie uma consulta SQL na visão implementada no item c que retorne a lista de informações\n",
    "por departamentos ordenados pelo somatório dos salários."
   ]
  },
  {
   "cell_type": "code",
   "execution_count": 120,
   "metadata": {},
   "outputs": [
    {
     "name": "stdout",
     "output_type": "stream",
     "text": [
      "('Pesquisa', 4, 133000.0)\n",
      "('Sede Administrativa', 2, 113000.0)\n",
      "('Administracao', 3, 93000.0)\n"
     ]
    }
   ],
   "source": [
    "cursor.execute(\"\"\"SELECT dnome, total_empregados, soma_salarios\n",
    "FROM DEPTO_INFO\n",
    "ORDER BY soma_salarios DESC;\n",
    "\"\"\")\n",
    "\n",
    "# Obter resultados\n",
    "results = cursor.fetchall()\n",
    "if results:\n",
    "    for result in results:\n",
    "        print(result)"
   ]
  },
  {
   "cell_type": "markdown",
   "metadata": {},
   "source": [
    "- **`SELECT dnome, total_empregados, soma_salarios`**: Seleciona as colunas `dnome` (nome do departamento), `total_empregados` (total de empregados), e `soma_salarios` (somatório dos salários) da visão `DEPTO_INFO`.\n",
    "- **`FROM DEPTO_INFO`**: Especifica que a consulta vai buscar os dados da visão `DEPTO_INFO`.\n",
    "- **`ORDER BY soma_salarios DESC`**: Ordena os resultados pelo somatório dos salários (`soma_salarios`) em ordem decrescente (`DESC`), de modo que os departamentos com os maiores somatórios de salários apareçam primeiro."
   ]
  },
  {
   "cell_type": "markdown",
   "metadata": {},
   "source": [
    "f) Exclua as visões criadas nos itens a."
   ]
  },
  {
   "cell_type": "code",
   "execution_count": 121,
   "metadata": {},
   "outputs": [],
   "source": [
    "cursor.execute(\"\"\"DROP VIEW IF EXISTS DEPTO_INFO;\n",
    "\"\"\")\n",
    "\n",
    "conn.commit()"
   ]
  }
 ],
 "metadata": {
  "kernelspec": {
   "display_name": "Python 3",
   "language": "python",
   "name": "python3"
  },
  "language_info": {
   "codemirror_mode": {
    "name": "ipython",
    "version": 3
   },
   "file_extension": ".py",
   "mimetype": "text/x-python",
   "name": "python",
   "nbconvert_exporter": "python",
   "pygments_lexer": "ipython3",
   "version": "3.10.5"
  }
 },
 "nbformat": 4,
 "nbformat_minor": 2
}
