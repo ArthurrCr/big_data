{
  "nbformat": 4,
  "nbformat_minor": 0,
  "metadata": {
    "colab": {
      "provenance": []
    },
    "kernelspec": {
      "name": "python3",
      "display_name": "Python 3"
    },
    "language_info": {
      "name": "python"
    }
  },
  "cells": [
    {
      "cell_type": "code",
      "execution_count": 1,
      "metadata": {
        "colab": {
          "base_uri": "https://localhost:8080/"
        },
        "id": "kSrLsLtZ35SC",
        "outputId": "0a26480c-cb31-477d-9649-59675a5810c1"
      },
      "outputs": [
        {
          "output_type": "stream",
          "name": "stdout",
          "text": [
            "Get:1 http://security.ubuntu.com/ubuntu jammy-security InRelease [129 kB]\n",
            "Hit:2 https://developer.download.nvidia.com/compute/cuda/repos/ubuntu2204/x86_64  InRelease\n",
            "Hit:3 http://archive.ubuntu.com/ubuntu jammy InRelease\n",
            "Get:4 https://cloud.r-project.org/bin/linux/ubuntu jammy-cran40/ InRelease [3,626 B]\n",
            "Get:5 http://archive.ubuntu.com/ubuntu jammy-updates InRelease [128 kB]\n",
            "Ign:6 https://r2u.stat.illinois.edu/ubuntu jammy InRelease\n",
            "Get:7 https://r2u.stat.illinois.edu/ubuntu jammy Release [5,713 B]\n",
            "Get:8 https://r2u.stat.illinois.edu/ubuntu jammy Release.gpg [793 B]\n",
            "Get:9 http://archive.ubuntu.com/ubuntu jammy-backports InRelease [127 kB]\n",
            "Hit:10 https://ppa.launchpadcontent.net/deadsnakes/ppa/ubuntu jammy InRelease\n",
            "Hit:11 https://ppa.launchpadcontent.net/graphics-drivers/ppa/ubuntu jammy InRelease\n",
            "Hit:12 https://ppa.launchpadcontent.net/ubuntugis/ppa/ubuntu jammy InRelease\n",
            "Get:13 http://security.ubuntu.com/ubuntu jammy-security/main amd64 Packages [2,318 kB]\n",
            "Get:14 http://security.ubuntu.com/ubuntu jammy-security/universe amd64 Packages [1,156 kB]\n",
            "Get:15 https://r2u.stat.illinois.edu/ubuntu jammy/main amd64 Packages [2,588 kB]\n",
            "Get:16 https://r2u.stat.illinois.edu/ubuntu jammy/main all Packages [8,359 kB]\n",
            "Get:17 http://archive.ubuntu.com/ubuntu jammy-updates/universe amd64 Packages [1,445 kB]\n",
            "Get:18 http://archive.ubuntu.com/ubuntu jammy-updates/main amd64 Packages [2,595 kB]\n",
            "Get:19 http://archive.ubuntu.com/ubuntu jammy-backports/main amd64 Packages [81.4 kB]\n",
            "Get:20 http://archive.ubuntu.com/ubuntu jammy-backports/universe amd64 Packages [33.7 kB]\n",
            "Fetched 19.0 MB in 5s (3,473 kB/s)\n",
            "Reading package lists... Done\n",
            "W: Skipping acquire of configured file 'main/source/Sources' as repository 'https://r2u.stat.illinois.edu/ubuntu jammy InRelease' does not seem to provide it (sources.list entry misspelt?)\n",
            "Reading package lists... Done\n",
            "Building dependency tree... Done\n",
            "Reading state information... Done\n",
            "The following additional packages will be installed:\n",
            "  libjemalloc2 liblua5.1-0 liblzf1 lua-bitop lua-cjson redis-tools\n",
            "Suggested packages:\n",
            "  ruby-redis\n",
            "The following NEW packages will be installed:\n",
            "  libjemalloc2 liblua5.1-0 liblzf1 lua-bitop lua-cjson redis-server\n",
            "  redis-tools\n",
            "0 upgraded, 7 newly installed, 0 to remove and 54 not upgraded.\n",
            "Need to get 1,273 kB of archives.\n",
            "After this operation, 5,725 kB of additional disk space will be used.\n",
            "Get:1 http://archive.ubuntu.com/ubuntu jammy/universe amd64 libjemalloc2 amd64 5.2.1-4ubuntu1 [240 kB]\n",
            "Get:2 http://archive.ubuntu.com/ubuntu jammy/universe amd64 liblua5.1-0 amd64 5.1.5-8.1build4 [99.9 kB]\n",
            "Get:3 http://archive.ubuntu.com/ubuntu jammy/universe amd64 liblzf1 amd64 3.6-3 [7,444 B]\n",
            "Get:4 http://archive.ubuntu.com/ubuntu jammy/universe amd64 lua-bitop amd64 1.0.2-5 [6,680 B]\n",
            "Get:5 http://archive.ubuntu.com/ubuntu jammy/universe amd64 lua-cjson amd64 2.1.0+dfsg-2.1 [17.4 kB]\n",
            "Get:6 http://archive.ubuntu.com/ubuntu jammy/universe amd64 redis-tools amd64 5:6.0.16-1ubuntu1 [856 kB]\n",
            "Get:7 http://archive.ubuntu.com/ubuntu jammy/universe amd64 redis-server amd64 5:6.0.16-1ubuntu1 [45.9 kB]\n",
            "Fetched 1,273 kB in 0s (3,808 kB/s)\n",
            "debconf: unable to initialize frontend: Dialog\n",
            "debconf: (No usable dialog-like program is installed, so the dialog based frontend cannot be used. at /usr/share/perl5/Debconf/FrontEnd/Dialog.pm line 78, <> line 7.)\n",
            "debconf: falling back to frontend: Readline\n",
            "debconf: unable to initialize frontend: Readline\n",
            "debconf: (This frontend requires a controlling tty.)\n",
            "debconf: falling back to frontend: Teletype\n",
            "dpkg-preconfigure: unable to re-open stdin: \n",
            "Selecting previously unselected package libjemalloc2:amd64.\n",
            "(Reading database ... 123614 files and directories currently installed.)\n",
            "Preparing to unpack .../0-libjemalloc2_5.2.1-4ubuntu1_amd64.deb ...\n",
            "Unpacking libjemalloc2:amd64 (5.2.1-4ubuntu1) ...\n",
            "Selecting previously unselected package liblua5.1-0:amd64.\n",
            "Preparing to unpack .../1-liblua5.1-0_5.1.5-8.1build4_amd64.deb ...\n",
            "Unpacking liblua5.1-0:amd64 (5.1.5-8.1build4) ...\n",
            "Selecting previously unselected package liblzf1:amd64.\n",
            "Preparing to unpack .../2-liblzf1_3.6-3_amd64.deb ...\n",
            "Unpacking liblzf1:amd64 (3.6-3) ...\n",
            "Selecting previously unselected package lua-bitop:amd64.\n",
            "Preparing to unpack .../3-lua-bitop_1.0.2-5_amd64.deb ...\n",
            "Unpacking lua-bitop:amd64 (1.0.2-5) ...\n",
            "Selecting previously unselected package lua-cjson:amd64.\n",
            "Preparing to unpack .../4-lua-cjson_2.1.0+dfsg-2.1_amd64.deb ...\n",
            "Unpacking lua-cjson:amd64 (2.1.0+dfsg-2.1) ...\n",
            "Selecting previously unselected package redis-tools.\n",
            "Preparing to unpack .../5-redis-tools_5%3a6.0.16-1ubuntu1_amd64.deb ...\n",
            "Unpacking redis-tools (5:6.0.16-1ubuntu1) ...\n",
            "Selecting previously unselected package redis-server.\n",
            "Preparing to unpack .../6-redis-server_5%3a6.0.16-1ubuntu1_amd64.deb ...\n",
            "Unpacking redis-server (5:6.0.16-1ubuntu1) ...\n",
            "Setting up libjemalloc2:amd64 (5.2.1-4ubuntu1) ...\n",
            "Setting up lua-cjson:amd64 (2.1.0+dfsg-2.1) ...\n",
            "Setting up liblzf1:amd64 (3.6-3) ...\n",
            "Setting up lua-bitop:amd64 (1.0.2-5) ...\n",
            "Setting up liblua5.1-0:amd64 (5.1.5-8.1build4) ...\n",
            "Setting up redis-tools (5:6.0.16-1ubuntu1) ...\n",
            "Setting up redis-server (5:6.0.16-1ubuntu1) ...\n",
            "invoke-rc.d: could not determine current runlevel\n",
            "invoke-rc.d: policy-rc.d denied execution of start.\n",
            "Created symlink /etc/systemd/system/redis.service → /lib/systemd/system/redis-server.service.\n",
            "Created symlink /etc/systemd/system/multi-user.target.wants/redis-server.service → /lib/systemd/system/redis-server.service.\n",
            "Processing triggers for man-db (2.10.2-1) ...\n",
            "Processing triggers for libc-bin (2.35-0ubuntu3.4) ...\n",
            "/sbin/ldconfig.real: /usr/local/lib/libtbbbind_2_5.so.3 is not a symbolic link\n",
            "\n",
            "/sbin/ldconfig.real: /usr/local/lib/libur_loader.so.0 is not a symbolic link\n",
            "\n",
            "/sbin/ldconfig.real: /usr/local/lib/libtbb.so.12 is not a symbolic link\n",
            "\n",
            "/sbin/ldconfig.real: /usr/local/lib/libtbbbind_2_0.so.3 is not a symbolic link\n",
            "\n",
            "/sbin/ldconfig.real: /usr/local/lib/libtbbmalloc.so.2 is not a symbolic link\n",
            "\n",
            "/sbin/ldconfig.real: /usr/local/lib/libtbbmalloc_proxy.so.2 is not a symbolic link\n",
            "\n",
            "/sbin/ldconfig.real: /usr/local/lib/libur_adapter_opencl.so.0 is not a symbolic link\n",
            "\n",
            "/sbin/ldconfig.real: /usr/local/lib/libtbbbind.so.3 is not a symbolic link\n",
            "\n",
            "/sbin/ldconfig.real: /usr/local/lib/libur_adapter_level_zero.so.0 is not a symbolic link\n",
            "\n"
          ]
        }
      ],
      "source": [
        "!sudo apt-get update\n",
        "!sudo apt-get install redis-server -y"
      ]
    },
    {
      "cell_type": "code",
      "source": [
        "!redis-server --daemonize yes"
      ],
      "metadata": {
        "id": "TFZGTPM84Vws"
      },
      "execution_count": 2,
      "outputs": []
    },
    {
      "cell_type": "code",
      "source": [
        "!redis-cli ping"
      ],
      "metadata": {
        "colab": {
          "base_uri": "https://localhost:8080/"
        },
        "id": "LwnyIlAx4Z3S",
        "outputId": "869c3810-b7d4-407c-b6da-2e032f1f3bf1"
      },
      "execution_count": 3,
      "outputs": [
        {
          "output_type": "stream",
          "name": "stdout",
          "text": [
            "PONG\n"
          ]
        }
      ]
    },
    {
      "cell_type": "code",
      "source": [
        "!pip install redis"
      ],
      "metadata": {
        "colab": {
          "base_uri": "https://localhost:8080/"
        },
        "id": "oSqio5dELLKX",
        "outputId": "d1687ee7-a7b2-4583-b8f7-1717744240b0"
      },
      "execution_count": 73,
      "outputs": [
        {
          "output_type": "stream",
          "name": "stdout",
          "text": [
            "Collecting redis\n",
            "  Downloading redis-5.1.0-py3-none-any.whl.metadata (9.1 kB)\n",
            "Requirement already satisfied: async-timeout>=4.0.3 in /usr/local/lib/python3.10/dist-packages (from redis) (4.0.3)\n",
            "Downloading redis-5.1.0-py3-none-any.whl (261 kB)\n",
            "\u001b[2K   \u001b[90m━━━━━━━━━━━━━━━━━━━━━━━━━━━━━━━━━━━━━━━━\u001b[0m \u001b[32m261.2/261.2 kB\u001b[0m \u001b[31m4.6 MB/s\u001b[0m eta \u001b[36m0:00:00\u001b[0m\n",
            "\u001b[?25hInstalling collected packages: redis\n",
            "Successfully installed redis-5.1.0\n"
          ]
        }
      ]
    },
    {
      "cell_type": "code",
      "source": [
        "import redis"
      ],
      "metadata": {
        "id": "9Qv8qwSLLMtl"
      },
      "execution_count": 74,
      "outputs": []
    },
    {
      "cell_type": "markdown",
      "source": [
        "# **1. Chaves**"
      ],
      "metadata": {
        "id": "4zDY_iep8BTY"
      }
    },
    {
      "cell_type": "code",
      "source": [
        "# 1.1. Crie a chave \"simples\" com o valor \"um valor\"\n",
        "!redis-cli set simples \"um valor\""
      ],
      "metadata": {
        "colab": {
          "base_uri": "https://localhost:8080/"
        },
        "id": "UGBf4J9x8XfM",
        "outputId": "3c178bc9-4421-45ca-b7e9-94202e0fd470"
      },
      "execution_count": 5,
      "outputs": [
        {
          "output_type": "stream",
          "name": "stdout",
          "text": [
            "OK\n"
          ]
        }
      ]
    },
    {
      "cell_type": "code",
      "source": [
        "# Verificar se o valor foi inserido corretamente\n",
        "!redis-cli get simples  # Saída: \"um valor\""
      ],
      "metadata": {
        "colab": {
          "base_uri": "https://localhost:8080/"
        },
        "id": "qXAOvkHo8Y2s",
        "outputId": "50aca414-14c6-4ecf-efe6-e0d9189c704f"
      },
      "execution_count": 6,
      "outputs": [
        {
          "output_type": "stream",
          "name": "stdout",
          "text": [
            "\"um valor\"\n"
          ]
        }
      ]
    },
    {
      "cell_type": "code",
      "source": [
        "# 1.2. Crie 3 usuários fictícios com chaves formatadas como \"usuario:identificador\"\n",
        "!redis-cli set usuario:1 \"João\"\n",
        "!redis-cli set usuario:2 \"Maria\"\n",
        "!redis-cli set usuario:3 \"Carlos\""
      ],
      "metadata": {
        "colab": {
          "base_uri": "https://localhost:8080/"
        },
        "id": "8ZEI-A3G8bD4",
        "outputId": "e4f437a1-930f-4f44-b30e-952969b6554f"
      },
      "execution_count": 7,
      "outputs": [
        {
          "output_type": "stream",
          "name": "stdout",
          "text": [
            "OK\n",
            "OK\n",
            "OK\n"
          ]
        }
      ]
    },
    {
      "cell_type": "code",
      "source": [
        "# 1.3. Liste todas as chaves já criadas\n",
        "!redis-cli keys \"*\"  # Lista todas as chaves existentes"
      ],
      "metadata": {
        "colab": {
          "base_uri": "https://localhost:8080/"
        },
        "id": "miskUnz58cCF",
        "outputId": "c08463c1-14c6-4ecf-db57-7542e26a8408"
      },
      "execution_count": 8,
      "outputs": [
        {
          "output_type": "stream",
          "name": "stdout",
          "text": [
            "1) \"simples\"\n",
            "2) \"usuario:2\"\n",
            "3) \"usuario:1\"\n",
            "4) \"usuario:01\"\n",
            "5) \"usuario:21\"\n",
            "6) \"usuario:11\"\n",
            "7) \"usuario:3\"\n",
            "8) \"usuario:31\"\n"
          ]
        }
      ]
    },
    {
      "cell_type": "code",
      "source": [
        "# 1.4. Liste somente as chaves de usuários\n",
        "!redis-cli keys \"usuario:*\"  # Lista as chaves que começam com \"usuario:\""
      ],
      "metadata": {
        "colab": {
          "base_uri": "https://localhost:8080/"
        },
        "id": "gIgjsJFO8dHe",
        "outputId": "861c479f-9c89-4877-ad7f-83d26c81b288"
      },
      "execution_count": 9,
      "outputs": [
        {
          "output_type": "stream",
          "name": "stdout",
          "text": [
            "1) \"usuario:2\"\n",
            "2) \"usuario:1\"\n",
            "3) \"usuario:01\"\n",
            "4) \"usuario:21\"\n",
            "5) \"usuario:11\"\n",
            "6) \"usuario:3\"\n",
            "7) \"usuario:31\"\n"
          ]
        }
      ]
    },
    {
      "cell_type": "code",
      "source": [
        "# 1.5. Crie mais dois usuários, com identificadores terminando em 11 e 21\n",
        "!redis-cli set usuario:11 \"Ana\"\n",
        "!redis-cli set usuario:21 \"Pedro\""
      ],
      "metadata": {
        "colab": {
          "base_uri": "https://localhost:8080/"
        },
        "id": "iSx6myz58eL0",
        "outputId": "ec506ae7-6a89-4023-d602-fdc67997726e"
      },
      "execution_count": 10,
      "outputs": [
        {
          "output_type": "stream",
          "name": "stdout",
          "text": [
            "OK\n",
            "OK\n"
          ]
        }
      ]
    },
    {
      "cell_type": "code",
      "source": [
        "# 1.6. Liste todas as chaves de usuário com identificadores terminando em 1\n",
        "!redis-cli keys \"usuario:*1\"  # Usa o wildcard * para qualquer caractere antes do 1"
      ],
      "metadata": {
        "colab": {
          "base_uri": "https://localhost:8080/"
        },
        "id": "z3JnJbLa8fP1",
        "outputId": "6cdcbb4d-e9c7-4564-94b3-1998e8e38604"
      },
      "execution_count": 11,
      "outputs": [
        {
          "output_type": "stream",
          "name": "stdout",
          "text": [
            "1) \"usuario:1\"\n",
            "2) \"usuario:01\"\n",
            "3) \"usuario:21\"\n",
            "4) \"usuario:11\"\n",
            "5) \"usuario:31\"\n"
          ]
        }
      ]
    },
    {
      "cell_type": "code",
      "source": [
        "# 1.7. Crie um usuário com identificador terminando em 1 e cujo número esteja entre 20 e 39\n",
        "!redis-cli set usuario:31 \"Fernando\""
      ],
      "metadata": {
        "colab": {
          "base_uri": "https://localhost:8080/"
        },
        "id": "motGhkqI8gz5",
        "outputId": "54660739-b7d8-4536-94c1-28741c01f19a"
      },
      "execution_count": 12,
      "outputs": [
        {
          "output_type": "stream",
          "name": "stdout",
          "text": [
            "OK\n"
          ]
        }
      ]
    },
    {
      "cell_type": "code",
      "source": [
        "# 1.8. Liste todas as chaves de usuário com identificador terminando em 1 e que esteja entre 20 e 30\n",
        "!redis-cli keys \"usuario:2[0-9]1\"  # [0-9] representa dígitos de 0 a 9 entre 20 e 29"
      ],
      "metadata": {
        "colab": {
          "base_uri": "https://localhost:8080/"
        },
        "id": "muuW5QRM8h-V",
        "outputId": "cafdb7fb-4518-45b8-b1d4-4199fd285600"
      },
      "execution_count": 13,
      "outputs": [
        {
          "output_type": "stream",
          "name": "stdout",
          "text": [
            "(empty array)\n"
          ]
        }
      ]
    },
    {
      "cell_type": "code",
      "source": [
        "# 1.9. Mude a chave usuario:1 para usuario:01\n",
        "!redis-cli rename usuario:1 usuario:01"
      ],
      "metadata": {
        "colab": {
          "base_uri": "https://localhost:8080/"
        },
        "id": "4ZTCMT1A8j2F",
        "outputId": "f1613254-6037-4ac9-b6cb-6daba1e18921"
      },
      "execution_count": 14,
      "outputs": [
        {
          "output_type": "stream",
          "name": "stdout",
          "text": [
            "OK\n"
          ]
        }
      ]
    },
    {
      "cell_type": "code",
      "source": [
        "# 1.10. Liste todas as chaves terminadas em 1\n",
        "!redis-cli keys \"*1\"  # Lista todas as chaves que terminam com 1"
      ],
      "metadata": {
        "colab": {
          "base_uri": "https://localhost:8080/"
        },
        "id": "-JILsNwE8k8J",
        "outputId": "70892ee6-8032-4ce4-f81b-afbd212511b4"
      },
      "execution_count": 15,
      "outputs": [
        {
          "output_type": "stream",
          "name": "stdout",
          "text": [
            "1) \"usuario:01\"\n",
            "2) \"usuario:21\"\n",
            "3) \"usuario:11\"\n",
            "4) \"usuario:31\"\n"
          ]
        }
      ]
    },
    {
      "cell_type": "code",
      "source": [
        "# 1.11. Remova o usuário com identificador 3\n",
        "!redis-cli del usuario:3  # Remove a chave usuario:3"
      ],
      "metadata": {
        "colab": {
          "base_uri": "https://localhost:8080/"
        },
        "id": "a0MY6htA8mFx",
        "outputId": "20014746-36ce-45cd-9f36-adbbb3573ab2"
      },
      "execution_count": 16,
      "outputs": [
        {
          "output_type": "stream",
          "name": "stdout",
          "text": [
            "(integer) 1\n"
          ]
        }
      ]
    },
    {
      "cell_type": "code",
      "source": [
        "# 1.12. Configure o usuário 2 para que sua chave expire em 10 segundos\n",
        "!redis-cli expire usuario:2 10  # Define um TTL de 10 segundos para usuario:2"
      ],
      "metadata": {
        "colab": {
          "base_uri": "https://localhost:8080/"
        },
        "id": "VsM9lXEa8m-9",
        "outputId": "815773e5-ff50-44a8-9619-380f3ac2dd50"
      },
      "execution_count": 17,
      "outputs": [
        {
          "output_type": "stream",
          "name": "stdout",
          "text": [
            "(integer) 1\n"
          ]
        }
      ]
    },
    {
      "cell_type": "markdown",
      "source": [
        "# **2. String**"
      ],
      "metadata": {
        "id": "BOnOKdrd8EX4"
      }
    },
    {
      "cell_type": "code",
      "source": [
        "# 2.1. Crie uma chave chamada \"animal\" com o valor \"gato\"\n",
        "!redis-cli set animal \"gato\""
      ],
      "metadata": {
        "colab": {
          "base_uri": "https://localhost:8080/"
        },
        "id": "Hip_DFPg8zYc",
        "outputId": "914298f7-60f0-43cd-9720-31428bced3b6"
      },
      "execution_count": 18,
      "outputs": [
        {
          "output_type": "stream",
          "name": "stdout",
          "text": [
            "OK\n"
          ]
        }
      ]
    },
    {
      "cell_type": "code",
      "source": [
        "# 2.2. Mude o valor da chave \"animal\" de \"gato\" para \"peixe\", retornando o valor original\n",
        "!redis-cli getset animal \"peixe\"  # Retorna \"gato\" e define \"peixe\" como novo valor"
      ],
      "metadata": {
        "colab": {
          "base_uri": "https://localhost:8080/"
        },
        "id": "O_A-9fJ-80Hz",
        "outputId": "888c04cd-2faf-4ce2-bd63-664e0fea08bf"
      },
      "execution_count": 19,
      "outputs": [
        {
          "output_type": "stream",
          "name": "stdout",
          "text": [
            "\"gato\"\n"
          ]
        }
      ]
    },
    {
      "cell_type": "code",
      "source": [
        "# 2.3. Acrescente \"-espada\" ao valor da chave \"animal\"\n",
        "!redis-cli append animal \"-espada\"  # Valor agora é \"peixe-espada\""
      ],
      "metadata": {
        "colab": {
          "base_uri": "https://localhost:8080/"
        },
        "id": "gyX53Yhi81AP",
        "outputId": "ef66183b-8e6d-401b-ed1b-22170d5a8e88"
      },
      "execution_count": 20,
      "outputs": [
        {
          "output_type": "stream",
          "name": "stdout",
          "text": [
            "(integer) 12\n"
          ]
        }
      ]
    },
    {
      "cell_type": "code",
      "source": [
        "# 2.4. Retorne a substring \"espada\"\n",
        "!redis-cli getrange animal 6 -1  # Retorna caracteres do índice 6 até o final"
      ],
      "metadata": {
        "colab": {
          "base_uri": "https://localhost:8080/"
        },
        "id": "O49vper_82PT",
        "outputId": "f3e6ad0b-86e5-4840-abf3-06e6343f1e4b"
      },
      "execution_count": 21,
      "outputs": [
        {
          "output_type": "stream",
          "name": "stdout",
          "text": [
            "\"espada\"\n"
          ]
        }
      ]
    },
    {
      "cell_type": "code",
      "source": [
        "# 2.5. Retorne a substring \"peixe\"\n",
        "!redis-cli getrange animal 0 4  # Retorna caracteres do índice 0 ao 4"
      ],
      "metadata": {
        "colab": {
          "base_uri": "https://localhost:8080/"
        },
        "id": "XVI0yufF83UP",
        "outputId": "1a7561ef-ad82-4f9c-ca5b-7bd1c9f0c49a"
      },
      "execution_count": 22,
      "outputs": [
        {
          "output_type": "stream",
          "name": "stdout",
          "text": [
            "\"peixe\"\n"
          ]
        }
      ]
    },
    {
      "cell_type": "code",
      "source": [
        "# 2.6. Defina uma nova string chamada \"count\" com o valor 0\n",
        "!redis-cli set count 0"
      ],
      "metadata": {
        "colab": {
          "base_uri": "https://localhost:8080/"
        },
        "id": "aV5lY97984PU",
        "outputId": "5452a7cb-c1eb-4a26-bf40-d9ffd81240bf"
      },
      "execution_count": 23,
      "outputs": [
        {
          "output_type": "stream",
          "name": "stdout",
          "text": [
            "OK\n"
          ]
        }
      ]
    },
    {
      "cell_type": "code",
      "source": [
        "# 2.7. Incremente \"count\" em 1\n",
        "!redis-cli incr count  # count agora é 1"
      ],
      "metadata": {
        "colab": {
          "base_uri": "https://localhost:8080/"
        },
        "id": "RmZ8QBYO85H_",
        "outputId": "8f4624e5-3e59-45d4-8742-030b6903ad3b"
      },
      "execution_count": 24,
      "outputs": [
        {
          "output_type": "stream",
          "name": "stdout",
          "text": [
            "(integer) 1\n"
          ]
        }
      ]
    },
    {
      "cell_type": "code",
      "source": [
        "# 2.8. Incremente \"count\" em 10\n",
        "!redis-cli incrby count 10  # count agora é 11"
      ],
      "metadata": {
        "colab": {
          "base_uri": "https://localhost:8080/"
        },
        "id": "5vsTeS__86GR",
        "outputId": "98b90767-07d5-4359-f560-f55a9d361903"
      },
      "execution_count": 25,
      "outputs": [
        {
          "output_type": "stream",
          "name": "stdout",
          "text": [
            "(integer) 11\n"
          ]
        }
      ]
    },
    {
      "cell_type": "code",
      "source": [
        "# 2.9. Retorne o comprimento da string \"count\"\n",
        "!redis-cli strlen count  # Retorna 2, pois \"11\" tem dois dígitos"
      ],
      "metadata": {
        "colab": {
          "base_uri": "https://localhost:8080/"
        },
        "id": "nNjmBB0n87Ai",
        "outputId": "6bb67d59-eb57-4732-cd66-13be47fb644c"
      },
      "execution_count": 26,
      "outputs": [
        {
          "output_type": "stream",
          "name": "stdout",
          "text": [
            "(integer) 2\n"
          ]
        }
      ]
    },
    {
      "cell_type": "markdown",
      "source": [
        "# **3. Hashes**"
      ],
      "metadata": {
        "id": "U6DEargc8JE9"
      }
    },
    {
      "cell_type": "code",
      "source": [
        "# 3.1. Cheque se existe a chave \"cachorros\" na hash \"animais\"\n",
        "!redis-cli hexists animais cachorros  # Retorna 0 se não existe, 1 se existe"
      ],
      "metadata": {
        "colab": {
          "base_uri": "https://localhost:8080/"
        },
        "id": "vWS1YsIa9DMd",
        "outputId": "fad6121a-269d-4447-f895-746eb4a4382e"
      },
      "execution_count": 27,
      "outputs": [
        {
          "output_type": "stream",
          "name": "stdout",
          "text": [
            "(integer) 0\n"
          ]
        }
      ]
    },
    {
      "cell_type": "code",
      "source": [
        "# 3.2. Crie a hash \"animais\" e adicione \"cachorros\" com o valor 25\n",
        "!redis-cli hset animais cachorros 25"
      ],
      "metadata": {
        "colab": {
          "base_uri": "https://localhost:8080/"
        },
        "id": "uD74Cr1E9D8t",
        "outputId": "8a23dfe9-02df-4845-b8f9-24ec89beb8a1"
      },
      "execution_count": 28,
      "outputs": [
        {
          "output_type": "stream",
          "name": "stdout",
          "text": [
            "(integer) 1\n"
          ]
        }
      ]
    },
    {
      "cell_type": "code",
      "source": [
        "# 3.3. Adicione \"gatos\" com o valor de 37\n",
        "!redis-cli hset animais gatos 37"
      ],
      "metadata": {
        "colab": {
          "base_uri": "https://localhost:8080/"
        },
        "id": "a8A8QH3A9EvW",
        "outputId": "d3055d0b-05e9-4dbe-8284-7c60c4cb8237"
      },
      "execution_count": 29,
      "outputs": [
        {
          "output_type": "stream",
          "name": "stdout",
          "text": [
            "(integer) 1\n"
          ]
        }
      ]
    },
    {
      "cell_type": "code",
      "source": [
        "# 3.4. Adicione \"peixes\" com o valor de 28\n",
        "!redis-cli hset animais peixes 28"
      ],
      "metadata": {
        "colab": {
          "base_uri": "https://localhost:8080/"
        },
        "id": "-ile6_tI9FZF",
        "outputId": "15928f97-fb20-4f83-9ef0-a6d7dbbadbef"
      },
      "execution_count": 30,
      "outputs": [
        {
          "output_type": "stream",
          "name": "stdout",
          "text": [
            "(integer) 1\n"
          ]
        }
      ]
    },
    {
      "cell_type": "code",
      "source": [
        "# 3.5. Retorne todo o conteúdo (chaves e valores) da hash \"animais\"\n",
        "!redis-cli hgetall animais"
      ],
      "metadata": {
        "colab": {
          "base_uri": "https://localhost:8080/"
        },
        "id": "kcLs0NEa9Gb5",
        "outputId": "1a02d65f-047c-4ff6-9ce4-cd018db4b263"
      },
      "execution_count": 31,
      "outputs": [
        {
          "output_type": "stream",
          "name": "stdout",
          "text": [
            "1) \"cachorros\"\n",
            "2) \"25\"\n",
            "3) \"gatos\"\n",
            "4) \"37\"\n",
            "5) \"peixes\"\n",
            "6) \"28\"\n"
          ]
        }
      ]
    },
    {
      "cell_type": "code",
      "source": [
        "# 3.6. Retorne o valor somente das chaves \"cachorros\" e \"gatos\"\n",
        "!redis-cli hmget animais cachorros gatos"
      ],
      "metadata": {
        "colab": {
          "base_uri": "https://localhost:8080/"
        },
        "id": "xkNCdjse9HKn",
        "outputId": "3877c0ba-91e3-42fa-d913-4e619066d0b7"
      },
      "execution_count": 32,
      "outputs": [
        {
          "output_type": "stream",
          "name": "stdout",
          "text": [
            "1) \"25\"\n",
            "2) \"37\"\n"
          ]
        }
      ]
    },
    {
      "cell_type": "code",
      "source": [
        "# 3.7. Em um único comando, crie uma hash chamada \"arvores\" e adicione \"palmeira\" com o valor 81, \"pinheiro\" com o valor 23, e \"baobá\" com o valor 1\n",
        "!redis-cli hset arvores palmeira 81 pinheiro 23 baoba 1"
      ],
      "metadata": {
        "colab": {
          "base_uri": "https://localhost:8080/"
        },
        "id": "Ies7FuAm9H6P",
        "outputId": "fdaa0d70-5247-4c5e-baa3-65ab3a3706c2"
      },
      "execution_count": 35,
      "outputs": [
        {
          "output_type": "stream",
          "name": "stdout",
          "text": [
            "(integer) 2\n"
          ]
        }
      ]
    },
    {
      "cell_type": "code",
      "source": [
        "# 3.8. Mostre somente os valores da hash \"arvores\"\n",
        "!redis-cli hvals arvores"
      ],
      "metadata": {
        "colab": {
          "base_uri": "https://localhost:8080/"
        },
        "id": "8lcSdCrQ9Iza",
        "outputId": "2345c927-db59-4cc1-84c6-74d782570f8f"
      },
      "execution_count": 36,
      "outputs": [
        {
          "output_type": "stream",
          "name": "stdout",
          "text": [
            "1) \"81\"\n",
            "2) \"23\"\n",
            "3) \"1\"\n"
          ]
        }
      ]
    },
    {
      "cell_type": "code",
      "source": [
        "# 3.9. Mostre somente as chaves da hash \"arvores\"\n",
        "!redis-cli hkeys arvores"
      ],
      "metadata": {
        "colab": {
          "base_uri": "https://localhost:8080/"
        },
        "id": "-14QQORF_Wjs",
        "outputId": "3bfddf10-f3e6-4087-b276-1fc77e85d637"
      },
      "execution_count": 37,
      "outputs": [
        {
          "output_type": "stream",
          "name": "stdout",
          "text": [
            "1) \"palmeira\"\n",
            "2) \"pinheiro\"\n",
            "3) \"baoba\"\n"
          ]
        }
      ]
    },
    {
      "cell_type": "code",
      "source": [
        "# 3.10. Corrija o valor de \"pinheiro\" para 12 e verifique\n",
        "!redis-cli hset arvores pinheiro 12"
      ],
      "metadata": {
        "colab": {
          "base_uri": "https://localhost:8080/"
        },
        "id": "kbsgTnnl_Xho",
        "outputId": "81f7e74e-49d2-470e-a602-ab6d8baa20f3"
      },
      "execution_count": 38,
      "outputs": [
        {
          "output_type": "stream",
          "name": "stdout",
          "text": [
            "(integer) 0\n"
          ]
        }
      ]
    },
    {
      "cell_type": "code",
      "source": [
        "# Verificar se o valor foi atualizado corretamente\n",
        "!redis-cli hget arvores pinheiro"
      ],
      "metadata": {
        "colab": {
          "base_uri": "https://localhost:8080/"
        },
        "id": "L-Jo3B9g_YaP",
        "outputId": "930fe1ba-e0c8-4846-8ad6-cb98abaa66d3"
      },
      "execution_count": 39,
      "outputs": [
        {
          "output_type": "stream",
          "name": "stdout",
          "text": [
            "\"12\"\n"
          ]
        }
      ]
    },
    {
      "cell_type": "code",
      "source": [
        "# Verificar todo o conteúdo da hash \"arvores\" após a atualização\n",
        "!redis-cli hgetall arvores"
      ],
      "metadata": {
        "colab": {
          "base_uri": "https://localhost:8080/"
        },
        "id": "in0V5ZTk_Z0p",
        "outputId": "f496cd8a-a248-48d0-9c57-20563643ce3f"
      },
      "execution_count": 40,
      "outputs": [
        {
          "output_type": "stream",
          "name": "stdout",
          "text": [
            "1) \"palmeira\"\n",
            "2) \"81\"\n",
            "3) \"pinheiro\"\n",
            "4) \"12\"\n",
            "5) \"baoba\"\n",
            "6) \"1\"\n"
          ]
        }
      ]
    },
    {
      "cell_type": "markdown",
      "source": [
        "# **4. Listas**"
      ],
      "metadata": {
        "id": "WRMDVOnA9NyG"
      }
    },
    {
      "cell_type": "code",
      "source": [
        "# 4.1. Adicione o valor \"Verificar correio\" ao final da lista \"tarefas\", mas usando o comando que o adiciona somente se a lista já existir.\n",
        "!redis-cli rpushx tarefas \"Verificar correio\""
      ],
      "metadata": {
        "colab": {
          "base_uri": "https://localhost:8080/"
        },
        "id": "6vyuPJZJHgk5",
        "outputId": "5aad8207-4898-4282-b022-dbf37b573c54"
      },
      "execution_count": 41,
      "outputs": [
        {
          "output_type": "stream",
          "name": "stdout",
          "text": [
            "(integer) 0\n"
          ]
        }
      ]
    },
    {
      "cell_type": "code",
      "source": [
        "# 4.2. Repita o passo anterior, mas use a versão do comando que não verifica a existência.\n",
        "!redis-cli rpush tarefas \"Verificar correio\""
      ],
      "metadata": {
        "colab": {
          "base_uri": "https://localhost:8080/"
        },
        "id": "Ql92E6T1HhUK",
        "outputId": "f13ff477-ee16-498c-e9a9-77dd24931955"
      },
      "execution_count": 42,
      "outputs": [
        {
          "output_type": "stream",
          "name": "stdout",
          "text": [
            "(integer) 1\n"
          ]
        }
      ]
    },
    {
      "cell_type": "code",
      "source": [
        "# 4.3. Anexe o valor \"Abrir correio\" ao final da lista.\n",
        "!redis-cli rpush tarefas \"Abrir correio\""
      ],
      "metadata": {
        "colab": {
          "base_uri": "https://localhost:8080/"
        },
        "id": "opE10Zd9HiFD",
        "outputId": "700e590a-7986-4853-c4ea-594e4a0a7a14"
      },
      "execution_count": 43,
      "outputs": [
        {
          "output_type": "stream",
          "name": "stdout",
          "text": [
            "(integer) 2\n"
          ]
        }
      ]
    },
    {
      "cell_type": "code",
      "source": [
        "# 4.4. Adicione \"Iniciar sistema\" ao início da lista.\n",
        "!redis-cli lpush tarefas \"Iniciar sistema\""
      ],
      "metadata": {
        "colab": {
          "base_uri": "https://localhost:8080/"
        },
        "id": "ysivA-GeHi1h",
        "outputId": "30f667b7-5aa7-473f-c934-1f857ab3e2c5"
      },
      "execution_count": 44,
      "outputs": [
        {
          "output_type": "stream",
          "name": "stdout",
          "text": [
            "(integer) 3\n"
          ]
        }
      ]
    },
    {
      "cell_type": "code",
      "source": [
        "# 4.5. Obter o tamanho da lista.\n",
        "!redis-cli llen tarefas  # Retorna o tamanho atual da lista \"tarefas\""
      ],
      "metadata": {
        "colab": {
          "base_uri": "https://localhost:8080/"
        },
        "id": "niY5JuQ9Hj5p",
        "outputId": "538a4cbb-c9a3-4857-d202-cf4456af2f25"
      },
      "execution_count": 45,
      "outputs": [
        {
          "output_type": "stream",
          "name": "stdout",
          "text": [
            "(integer) 3\n"
          ]
        }
      ]
    },
    {
      "cell_type": "code",
      "source": [
        "# 4.6. Retorne o conteúdo de toda a lista.\n",
        "!redis-cli lrange tarefas 0 -1  # Retorna todos os elementos da lista"
      ],
      "metadata": {
        "colab": {
          "base_uri": "https://localhost:8080/"
        },
        "id": "9VdiNooeHk85",
        "outputId": "06a9111f-cb56-475b-a0a9-b1260ae2e95c"
      },
      "execution_count": 46,
      "outputs": [
        {
          "output_type": "stream",
          "name": "stdout",
          "text": [
            "1) \"Iniciar sistema\"\n",
            "2) \"Verificar correio\"\n",
            "3) \"Abrir correio\"\n"
          ]
        }
      ]
    },
    {
      "cell_type": "code",
      "source": [
        "# 4.7. Faça com que a primeira entrada na lista seja \"Abrir o correio\".\n",
        "# Usamos lset para alterar o valor no índice 0\n",
        "!redis-cli lset tarefas 0 \"Abrir o correio\""
      ],
      "metadata": {
        "colab": {
          "base_uri": "https://localhost:8080/"
        },
        "id": "lPtTX2oqHl-b",
        "outputId": "cae54a3c-c10d-4a29-9e5b-2e98787bcdbb"
      },
      "execution_count": 47,
      "outputs": [
        {
          "output_type": "stream",
          "name": "stdout",
          "text": [
            "OK\n"
          ]
        }
      ]
    },
    {
      "cell_type": "code",
      "source": [
        "# 4.8. Usando um único comando, examine as primeiras 2 entradas na lista.\n",
        "!redis-cli lrange tarefas 0 1  # Retorna os elementos do índice 0 ao 1"
      ],
      "metadata": {
        "colab": {
          "base_uri": "https://localhost:8080/"
        },
        "id": "ttxSe5M8Hm_S",
        "outputId": "7d69b737-d2df-4ce7-f6c3-37cd9f87969d"
      },
      "execution_count": 48,
      "outputs": [
        {
          "output_type": "stream",
          "name": "stdout",
          "text": [
            "1) \"Abrir o correio\"\n",
            "2) \"Verificar correio\"\n"
          ]
        }
      ]
    },
    {
      "cell_type": "code",
      "source": [
        "# 4.9. Remova a primeira entrada na lista.\n",
        "!redis-cli lpop tarefas  # Remove e retorna o primeiro elemento da lista"
      ],
      "metadata": {
        "colab": {
          "base_uri": "https://localhost:8080/"
        },
        "id": "Ysz374KsHoH2",
        "outputId": "5a64f0e0-e071-47f0-c8e4-870214c32ce8"
      },
      "execution_count": 49,
      "outputs": [
        {
          "output_type": "stream",
          "name": "stdout",
          "text": [
            "\"Abrir o correio\"\n"
          ]
        }
      ]
    },
    {
      "cell_type": "code",
      "source": [
        "# 4.10. Examine o valor da segunda entrada na lista.\n",
        "# Como removemos o primeiro elemento, o índice 1 agora é a segunda entrada\n",
        "!redis-cli lindex tarefas 1  # Retorna o elemento no índice 1"
      ],
      "metadata": {
        "colab": {
          "base_uri": "https://localhost:8080/"
        },
        "id": "5FWidA86HpMe",
        "outputId": "0d506e35-0004-4943-ad91-efde48967aa3"
      },
      "execution_count": 50,
      "outputs": [
        {
          "output_type": "stream",
          "name": "stdout",
          "text": [
            "\"Abrir correio\"\n"
          ]
        }
      ]
    },
    {
      "cell_type": "code",
      "source": [
        "# 4.11. Retorne toda a lista.\n",
        "!redis-cli lrange tarefas 0 -1  # Mostra todos os elementos restantes na lista"
      ],
      "metadata": {
        "colab": {
          "base_uri": "https://localhost:8080/"
        },
        "id": "tiJCeGDZHrGq",
        "outputId": "912f8fe3-9daf-4489-c449-425f6f3c34d3"
      },
      "execution_count": 51,
      "outputs": [
        {
          "output_type": "stream",
          "name": "stdout",
          "text": [
            "1) \"Verificar correio\"\n",
            "2) \"Abrir correio\"\n"
          ]
        }
      ]
    },
    {
      "cell_type": "markdown",
      "source": [
        "# **5. Sets**"
      ],
      "metadata": {
        "id": "wNDnroC4HrYY"
      }
    },
    {
      "cell_type": "code",
      "source": [
        "# 5.1. Adicione \"maçãs\", \"laranjas\" e \"bananas\" a um conjunto chamado \"cesta:1\".\n",
        "!redis-cli sadd cesta:1 \"maçãs\" \"laranjas\" \"bananas\""
      ],
      "metadata": {
        "colab": {
          "base_uri": "https://localhost:8080/"
        },
        "id": "FZsN8SHFHusT",
        "outputId": "acbd6978-6b6a-4745-bc02-3512db64c3ab"
      },
      "execution_count": 52,
      "outputs": [
        {
          "output_type": "stream",
          "name": "stdout",
          "text": [
            "(integer) 3\n"
          ]
        }
      ]
    },
    {
      "cell_type": "code",
      "source": [
        "# 5.2. Liste os membros da \"cesta:1\".\n",
        "!redis-cli smembers cesta:1  # Retorna todos os membros do conjunto"
      ],
      "metadata": {
        "colab": {
          "base_uri": "https://localhost:8080/"
        },
        "id": "aXRybzZ3Hvir",
        "outputId": "b7716539-396a-46f0-c49e-dede35931dab"
      },
      "execution_count": 53,
      "outputs": [
        {
          "output_type": "stream",
          "name": "stdout",
          "text": [
            "1) \"ma\\xc3\\xa7\\xc3\\xa3s\"\n",
            "2) \"laranjas\"\n",
            "3) \"bananas\"\n"
          ]
        }
      ]
    },
    {
      "cell_type": "code",
      "source": [
        "# 5.3. Adicione \"abacaxis\", \"bananas\" e \"laranjas\" a um conjunto \"cesta:2\".\n",
        "!redis-cli sadd cesta:2 \"abacaxis\" \"bananas\" \"laranjas\""
      ],
      "metadata": {
        "colab": {
          "base_uri": "https://localhost:8080/"
        },
        "id": "PNTqcAJ7HwM_",
        "outputId": "cced98e9-3a13-43b3-bee1-00323e4f4ed1"
      },
      "execution_count": 54,
      "outputs": [
        {
          "output_type": "stream",
          "name": "stdout",
          "text": [
            "(integer) 3\n"
          ]
        }
      ]
    },
    {
      "cell_type": "code",
      "source": [
        "# 5.4. Verifique os membros do \"cesta:2\".\n",
        "!redis-cli smembers cesta:2"
      ],
      "metadata": {
        "colab": {
          "base_uri": "https://localhost:8080/"
        },
        "id": "wnbU3u1bHxHT",
        "outputId": "dbb9c641-b8df-4b9b-abae-25c5641f052f"
      },
      "execution_count": 55,
      "outputs": [
        {
          "output_type": "stream",
          "name": "stdout",
          "text": [
            "1) \"abacaxis\"\n",
            "2) \"laranjas\"\n",
            "3) \"bananas\"\n"
          ]
        }
      ]
    },
    {
      "cell_type": "code",
      "source": [
        "# 5.5. Obtenha a interseção dos 2 conjuntos.\n",
        "!redis-cli sinter cesta:1 cesta:2  # Retorna elementos comuns aos dois conjuntos"
      ],
      "metadata": {
        "colab": {
          "base_uri": "https://localhost:8080/"
        },
        "id": "WJh9vCbzHyHB",
        "outputId": "5299c67c-85d0-46ff-bb1b-477c86843910"
      },
      "execution_count": 56,
      "outputs": [
        {
          "output_type": "stream",
          "name": "stdout",
          "text": [
            "1) \"laranjas\"\n",
            "2) \"bananas\"\n"
          ]
        }
      ]
    },
    {
      "cell_type": "code",
      "source": [
        "# 5.6. Mova \"abacaxis\" de \"cesta:2\" para \"cesta:1\", e verifique listando os membros.\n",
        "!redis-cli smove cesta:2 cesta:1 \"abacaxis\"\n",
        "!redis-cli smembers cesta:1  # Verifica se \"abacaxis\" foi movido para \"cesta:1\""
      ],
      "metadata": {
        "colab": {
          "base_uri": "https://localhost:8080/"
        },
        "id": "OksI1cO-HzKT",
        "outputId": "e1c8d656-4cb2-47c2-9641-afb617381f01"
      },
      "execution_count": 57,
      "outputs": [
        {
          "output_type": "stream",
          "name": "stdout",
          "text": [
            "(integer) 1\n",
            "1) \"ma\\xc3\\xa7\\xc3\\xa3s\"\n",
            "2) \"abacaxis\"\n",
            "3) \"laranjas\"\n",
            "4) \"bananas\"\n"
          ]
        }
      ]
    },
    {
      "cell_type": "code",
      "source": [
        "# 5.7. Armazene a união dos 2 conjuntos em um novo conjunto chamado \"allbaskets\".\n",
        "!redis-cli sunionstore allbaskets cesta:1 cesta:2  # Cria \"allbaskets\" com a união"
      ],
      "metadata": {
        "colab": {
          "base_uri": "https://localhost:8080/"
        },
        "id": "DUt-WD2CH0En",
        "outputId": "b164536d-ad06-4daa-cc70-06f5c8f0dca8"
      },
      "execution_count": 58,
      "outputs": [
        {
          "output_type": "stream",
          "name": "stdout",
          "text": [
            "(integer) 4\n"
          ]
        }
      ]
    },
    {
      "cell_type": "code",
      "source": [
        "# 5.8. Remova \"laranjas\" de \"cesta:1\".\n",
        "!redis-cli srem cesta:1 \"laranjas\""
      ],
      "metadata": {
        "colab": {
          "base_uri": "https://localhost:8080/"
        },
        "id": "T3FR3ev6H1gi",
        "outputId": "e1eebe18-eaac-4bc7-97d0-5225f3d9baa8"
      },
      "execution_count": 59,
      "outputs": [
        {
          "output_type": "stream",
          "name": "stdout",
          "text": [
            "(integer) 1\n"
          ]
        }
      ]
    },
    {
      "cell_type": "markdown",
      "source": [
        "# **6. Sorted Sets**"
      ],
      "metadata": {
        "id": "EN_FmjhjH2Kv"
      }
    },
    {
      "cell_type": "code",
      "source": [
        "# 6.1. Adicione os seguintes membros e scores ao conjunto ordenado \"equipe:1\":\n",
        "# Joao 69, Leonardo 67, Sergio 70, Sandra 68, Ana 70 e Maria 73.\n",
        "!redis-cli zadd equipe:1 69 Joao 67 Leonardo 70 Sergio 68 Sandra 70 Ana 73 Maria"
      ],
      "metadata": {
        "colab": {
          "base_uri": "https://localhost:8080/"
        },
        "id": "bFrZYCgVH4Gt",
        "outputId": "f871bb77-f1b1-4e11-9daf-961412e66afe"
      },
      "execution_count": 60,
      "outputs": [
        {
          "output_type": "stream",
          "name": "stdout",
          "text": [
            "(integer) 6\n"
          ]
        }
      ]
    },
    {
      "cell_type": "code",
      "source": [
        "# 6.2. Retorne o número de membros no conjunto.\n",
        "!redis-cli zcard equipe:1  # Conta o número de elementos no conjunto"
      ],
      "metadata": {
        "colab": {
          "base_uri": "https://localhost:8080/"
        },
        "id": "Jjx82TGmH5FI",
        "outputId": "f44429db-887b-4646-eaa7-c59e4d1a2b6c"
      },
      "execution_count": 61,
      "outputs": [
        {
          "output_type": "stream",
          "name": "stdout",
          "text": [
            "(integer) 6\n"
          ]
        }
      ]
    },
    {
      "cell_type": "code",
      "source": [
        "# 6.3. Obtenha uma contagem do número de membros com scores entre 70 e 75.\n",
        "!redis-cli zcount equipe:1 70 75  # Conta membros com scores entre 70 e 75"
      ],
      "metadata": {
        "colab": {
          "base_uri": "https://localhost:8080/"
        },
        "id": "kLDfOQviH6HJ",
        "outputId": "b2787668-3831-436a-f6f9-58ffcaa5f259"
      },
      "execution_count": 62,
      "outputs": [
        {
          "output_type": "stream",
          "name": "stdout",
          "text": [
            "(integer) 3\n"
          ]
        }
      ]
    },
    {
      "cell_type": "code",
      "source": [
        "# 6.4. Obtenha os membros com scores entre 65 e 70.\n",
        "!redis-cli zrangebyscore equipe:1 65 70  # Retorna membros com scores entre 65 e 70"
      ],
      "metadata": {
        "colab": {
          "base_uri": "https://localhost:8080/"
        },
        "id": "mkyi1iRmH6-I",
        "outputId": "548a2bc1-19d4-4d76-9503-b9e86de6de98"
      },
      "execution_count": 63,
      "outputs": [
        {
          "output_type": "stream",
          "name": "stdout",
          "text": [
            "1) \"Leonardo\"\n",
            "2) \"Sandra\"\n",
            "3) \"Joao\"\n",
            "4) \"Ana\"\n",
            "5) \"Sergio\"\n"
          ]
        }
      ]
    },
    {
      "cell_type": "code",
      "source": [
        "# 6.5. Retorne a classificação da Sandra no time.\n",
        "!redis-cli zrank equipe:1 Sandra  # Retorna a posição da Sandra (índice inicia em 0)"
      ],
      "metadata": {
        "colab": {
          "base_uri": "https://localhost:8080/"
        },
        "id": "aXFiJSmxH72r",
        "outputId": "2778bed2-fce5-4415-88ce-3e883e78165e"
      },
      "execution_count": 64,
      "outputs": [
        {
          "output_type": "stream",
          "name": "stdout",
          "text": [
            "(integer) 1\n"
          ]
        }
      ]
    },
    {
      "cell_type": "code",
      "source": [
        "# 6.6. Retorne, por ordem decrescente, os membros com scores entre 65 e 69.\n",
        "!redis-cli zrevrangebyscore equipe:1 69 65  # Retorna membros em ordem decrescente"
      ],
      "metadata": {
        "colab": {
          "base_uri": "https://localhost:8080/"
        },
        "id": "V_E-xIR5H8yJ",
        "outputId": "89247359-7a07-4f77-f5b2-867eb6294cbc"
      },
      "execution_count": 65,
      "outputs": [
        {
          "output_type": "stream",
          "name": "stdout",
          "text": [
            "1) \"Joao\"\n",
            "2) \"Sandra\"\n",
            "3) \"Leonardo\"\n"
          ]
        }
      ]
    },
    {
      "cell_type": "markdown",
      "source": [
        "# **7. TTL**"
      ],
      "metadata": {
        "id": "wR5KhccxH-r3"
      }
    },
    {
      "cell_type": "code",
      "source": [
        "# 7.1. Primeiro, usando a CLI adicione a chave \"quote:221\" com um valor de \"94.23\" para Redis.\n",
        "!redis-cli set \"quote:221\" \"94.23\""
      ],
      "metadata": {
        "colab": {
          "base_uri": "https://localhost:8080/"
        },
        "id": "FnxKHB8tIAFL",
        "outputId": "0bda73a5-8224-4821-d692-bf6c081ea294"
      },
      "execution_count": 66,
      "outputs": [
        {
          "output_type": "stream",
          "name": "stdout",
          "text": [
            "OK\n"
          ]
        }
      ]
    },
    {
      "cell_type": "code",
      "source": [
        "# 7.2. Recupere o TTL atual da chave usando o comando \"TTL\".\n",
        "# Como o TTL não está definido, o Redis retorna -1.\n",
        "!redis-cli ttl \"quote:221\""
      ],
      "metadata": {
        "colab": {
          "base_uri": "https://localhost:8080/"
        },
        "id": "pLSOiGl_IAxb",
        "outputId": "3348fe0a-23a8-46a6-a49d-b82218c547e8"
      },
      "execution_count": 67,
      "outputs": [
        {
          "output_type": "stream",
          "name": "stdout",
          "text": [
            "(integer) -1\n"
          ]
        }
      ]
    },
    {
      "cell_type": "code",
      "source": [
        "# 7.3. Agora, defina a chave para expirar após 30 segundos.\n",
        "!redis-cli expire \"quote:221\" 30"
      ],
      "metadata": {
        "colab": {
          "base_uri": "https://localhost:8080/"
        },
        "id": "Pp8MKdpiIBh6",
        "outputId": "e0c3d3c8-70fb-4f5e-adfb-760c8fabfda5"
      },
      "execution_count": 68,
      "outputs": [
        {
          "output_type": "stream",
          "name": "stdout",
          "text": [
            "(integer) 1\n"
          ]
        }
      ]
    },
    {
      "cell_type": "code",
      "source": [
        "!redis-cli ttl \"quote:221\"  # Retorna o tempo restante em segundos"
      ],
      "metadata": {
        "colab": {
          "base_uri": "https://localhost:8080/"
        },
        "id": "zeIFL1niIDHL",
        "outputId": "06e465de-76d2-423d-9c52-1d9abc1abe83"
      },
      "execution_count": 69,
      "outputs": [
        {
          "output_type": "stream",
          "name": "stdout",
          "text": [
            "(integer) 30\n"
          ]
        }
      ]
    },
    {
      "cell_type": "code",
      "source": [
        "# 7.4. Continue a pesquisar o tempo restante até que a chave expire.\n",
        "import time\n",
        "\n",
        "while True:\n",
        "    # Usando a opção --raw para obter apenas o valor numérico\n",
        "    ttl = !redis-cli --raw ttl \"quote:221\"\n",
        "    ttl_value = int(ttl[0])\n",
        "    if ttl_value == -2:\n",
        "        print(\"A chave 'quote:221' expirou.\")\n",
        "        break\n",
        "    else:\n",
        "        print(f\"Tempo restante: {ttl_value} segundos\")\n",
        "        time.sleep(5)  # Espera 5 segundos antes de verificar novamente"
      ],
      "metadata": {
        "colab": {
          "base_uri": "https://localhost:8080/"
        },
        "id": "XI2FGpn2_cQY",
        "outputId": "b2631c3a-f0f4-442e-d78a-9257877e285c"
      },
      "execution_count": 72,
      "outputs": [
        {
          "output_type": "stream",
          "name": "stdout",
          "text": [
            "A chave 'quote:221' expirou.\n"
          ]
        }
      ]
    },
    {
      "cell_type": "markdown",
      "source": [
        "# 8. Modelagem\n"
      ],
      "metadata": {
        "id": "fRtvvja-LRii"
      }
    },
    {
      "cell_type": "code",
      "source": [
        "# Conectar ao servidor Redis\n",
        "r = redis.Redis(host='localhost', port=6379, db=0)\n",
        "\n",
        "# **Funções auxiliares**\n",
        "\n",
        "def add_article(article_id, name, description, filename, date, tags):\n",
        "    \"\"\"\n",
        "    Adiciona um artigo ao Redis.\n",
        "\n",
        "    Parameters:\n",
        "    - article_id (int): Identificador único do artigo.\n",
        "    - name (str): Nome do artigo.\n",
        "    - description (str): Descrição do artigo.\n",
        "    - filename (str): Nome do arquivo associado ao artigo.\n",
        "    - date (str): Data de publicação do artigo.\n",
        "    - tags (list): Lista de tags associadas ao artigo.\n",
        "    \"\"\"\n",
        "    # Criar a HASH do artigo com seus campos\n",
        "    r.hset(f\"article:{article_id}\", mapping={\n",
        "        'name': name,\n",
        "        'description': description,\n",
        "        'filename': filename,\n",
        "        'date': date\n",
        "    })\n",
        "    # Adicionar o artigo ao conjunto de todos os artigos\n",
        "    r.sadd(\"articles\", article_id)\n",
        "    # Associar as tags ao artigo e atualizar os SETs de tags\n",
        "    if tags:\n",
        "        for tag in tags:\n",
        "            # Adicionar a tag ao SET de tags do artigo\n",
        "            r.sadd(f\"article:{article_id}:tags\", tag)\n",
        "            # Adicionar o artigo ao SET de artigos da tag\n",
        "            r.sadd(f\"tag:{tag}\", article_id)\n"
      ],
      "metadata": {
        "id": "aRBcr9A1IGym"
      },
      "execution_count": 75,
      "outputs": []
    },
    {
      "cell_type": "markdown",
      "source": [
        "# **9. Adicionar dados aos modelos**\n"
      ],
      "metadata": {
        "id": "ijCYkwMlLam_"
      }
    },
    {
      "cell_type": "code",
      "source": [
        "# Adicionar Artigo 1\n",
        "add_article(\n",
        "    article_id=1,\n",
        "    name=\"Artigo sobre Redis\",\n",
        "    description=\"Introdução ao Redis\",\n",
        "    filename=\"redis_intro.pdf\",\n",
        "    date=\"2023-10-01\",\n",
        "    tags=[\"database\", \"nosql\", \"redis\"]\n",
        ")\n",
        "\n",
        "# Adicionar Artigo 2\n",
        "add_article(\n",
        "    article_id=2,\n",
        "    name=\"Artigo sobre Python\",\n",
        "    description=\"Programação em Python\",\n",
        "    filename=\"python_programming.pdf\",\n",
        "    date=\"2023-10-05\",\n",
        "    tags=[\"programming\", \"python\"]\n",
        ")\n",
        "\n",
        "# Adicionar Artigo 3\n",
        "add_article(\n",
        "    article_id=3,\n",
        "    name=\"Banco de Dados Relacional\",\n",
        "    description=\"Introdução aos bancos de dados relacionais\",\n",
        "    filename=\"db_relacional.pdf\",\n",
        "    date=\"2023-09-20\",\n",
        "    tags=[\"database\", \"sql\"]\n",
        ")\n"
      ],
      "metadata": {
        "id": "td15ydyuLZDf"
      },
      "execution_count": 76,
      "outputs": []
    },
    {
      "cell_type": "markdown",
      "source": [
        "# **10. Listar todos os artigos**"
      ],
      "metadata": {
        "id": "yizueC4RLhAM"
      }
    },
    {
      "cell_type": "code",
      "source": [
        "print(\"Lista de todos os artigos:\\n\")\n",
        "\n",
        "# Obter todos os IDs de artigos\n",
        "article_ids = r.smembers(\"articles\")\n",
        "for article_id in article_ids:\n",
        "    # Converter o ID para string\n",
        "    article_id = article_id.decode('utf-8')\n",
        "    # Obter os dados do artigo\n",
        "    article = r.hgetall(f\"article:{article_id}\")\n",
        "    # Converter bytes para strings\n",
        "    article = {k.decode('utf-8'): v.decode('utf-8') for k, v in article.items()}\n",
        "    # Exibir os dados do artigo\n",
        "    print(f\"Article ID: {article_id}\")\n",
        "    print(f\"Name: {article['name']}\")\n",
        "    print(f\"Description: {article['description']}\")\n",
        "    print(f\"Filename: {article['filename']}\")\n",
        "    print(f\"Date: {article['date']}\")\n",
        "    print()\n"
      ],
      "metadata": {
        "colab": {
          "base_uri": "https://localhost:8080/"
        },
        "id": "TWPlqXoQLhZb",
        "outputId": "b1e5d154-7bc8-4c2b-f005-689b3e1c0d48"
      },
      "execution_count": 77,
      "outputs": [
        {
          "output_type": "stream",
          "name": "stdout",
          "text": [
            "Lista de todos os artigos:\n",
            "\n",
            "Article ID: 1\n",
            "Name: Artigo sobre Redis\n",
            "Description: Introdução ao Redis\n",
            "Filename: redis_intro.pdf\n",
            "Date: 2023-10-01\n",
            "\n",
            "Article ID: 2\n",
            "Name: Artigo sobre Python\n",
            "Description: Programação em Python\n",
            "Filename: python_programming.pdf\n",
            "Date: 2023-10-05\n",
            "\n",
            "Article ID: 3\n",
            "Name: Banco de Dados Relacional\n",
            "Description: Introdução aos bancos de dados relacionais\n",
            "Filename: db_relacional.pdf\n",
            "Date: 2023-09-20\n",
            "\n"
          ]
        }
      ]
    },
    {
      "cell_type": "markdown",
      "source": [
        "# **11. Listar um único artigo, além de listar suas tags**"
      ],
      "metadata": {
        "id": "aqjgpp4JLk1W"
      }
    },
    {
      "cell_type": "code",
      "source": [
        "# Especifique o ID do artigo que deseja visualizar\n",
        "article_id = '1'\n",
        "print(f\"Detalhes do Artigo ID {article_id}:\\n\")\n",
        "\n",
        "# Obter os dados do artigo\n",
        "article = r.hgetall(f\"article:{article_id}\")\n",
        "article = {k.decode('utf-8'): v.decode('utf-8') for k, v in article.items()}\n",
        "\n",
        "# Obter as tags associadas ao artigo\n",
        "tags = r.smembers(f\"article:{article_id}:tags\")\n",
        "tags = [tag.decode('utf-8') for tag in tags]\n",
        "\n",
        "# Exibir os dados do artigo e suas tags\n",
        "print(f\"Name: {article['name']}\")\n",
        "print(f\"Description: {article['description']}\")\n",
        "print(f\"Filename: {article['filename']}\")\n",
        "print(f\"Date: {article['date']}\")\n",
        "print(f\"Tags: {', '.join(tags)}\")\n"
      ],
      "metadata": {
        "colab": {
          "base_uri": "https://localhost:8080/"
        },
        "id": "jOkkwpbNLlFi",
        "outputId": "a65beb48-045e-4620-f85b-c00e712d7b1f"
      },
      "execution_count": 78,
      "outputs": [
        {
          "output_type": "stream",
          "name": "stdout",
          "text": [
            "Detalhes do Artigo ID 1:\n",
            "\n",
            "Name: Artigo sobre Redis\n",
            "Description: Introdução ao Redis\n",
            "Filename: redis_intro.pdf\n",
            "Date: 2023-10-01\n",
            "Tags: database, redis, nosql\n"
          ]
        }
      ]
    },
    {
      "cell_type": "markdown",
      "source": [
        "# **12. Para determinada(s) tag(s), liste todos os artigos nela**"
      ],
      "metadata": {
        "id": "YtCTFzCwLoXy"
      }
    },
    {
      "cell_type": "code",
      "source": [
        "# Especifique a tag que deseja pesquisar\n",
        "tag = 'database'\n",
        "print(f\"\\nArtigos com a tag '{tag}':\\n\")\n",
        "\n",
        "# Obter os IDs de artigos associados à tag\n",
        "article_ids = r.smembers(f\"tag:{tag}\")\n",
        "for article_id in article_ids:\n",
        "    article_id = article_id.decode('utf-8')\n",
        "    article = r.hgetall(f\"article:{article_id}\")\n",
        "    article = {k.decode('utf-8'): v.decode('utf-8') for k, v in article.items()}\n",
        "    print(f\"Article ID: {article_id}\")\n",
        "    print(f\"Name: {article['name']}\")\n",
        "    print(f\"Description: {article['description']}\")\n",
        "    print(f\"Filename: {article['filename']}\")\n",
        "    print(f\"Date: {article['date']}\")\n",
        "    print()\n",
        "\n",
        "# Para múltiplas tags, obter a interseção dos conjuntos de artigos\n",
        "tags = ['database', 'nosql']\n",
        "print(f\"Artigos com as tags {tags}:\\n\")\n",
        "\n",
        "# Obter os conjuntos de artigos para cada tag\n",
        "sets = [f\"tag:{tag}\" for tag in tags]\n",
        "article_ids = r.sinter(*sets)\n",
        "\n",
        "for article_id in article_ids:\n",
        "    article_id = article_id.decode('utf-8')\n",
        "    article = r.hgetall(f\"article:{article_id}\")\n",
        "    article = {k.decode('utf-8'): v.decode('utf-8') for k, v in article.items()}\n",
        "    print(f\"Article ID: {article_id}\")\n",
        "    print(f\"Name: {article['name']}\")\n",
        "    print(f\"Description: {article['description']}\")\n",
        "    print(f\"Filename: {article['filename']}\")\n",
        "    print(f\"Date: {article['date']}\")\n",
        "    print()"
      ],
      "metadata": {
        "colab": {
          "base_uri": "https://localhost:8080/"
        },
        "id": "Nerwc_KoLon_",
        "outputId": "6e967689-b409-4e4a-878d-a7cb1d265e35"
      },
      "execution_count": 79,
      "outputs": [
        {
          "output_type": "stream",
          "name": "stdout",
          "text": [
            "\n",
            "Artigos com a tag 'database':\n",
            "\n",
            "Article ID: 1\n",
            "Name: Artigo sobre Redis\n",
            "Description: Introdução ao Redis\n",
            "Filename: redis_intro.pdf\n",
            "Date: 2023-10-01\n",
            "\n",
            "Article ID: 3\n",
            "Name: Banco de Dados Relacional\n",
            "Description: Introdução aos bancos de dados relacionais\n",
            "Filename: db_relacional.pdf\n",
            "Date: 2023-09-20\n",
            "\n",
            "Artigos com as tags ['database', 'nosql']:\n",
            "\n",
            "Article ID: 1\n",
            "Name: Artigo sobre Redis\n",
            "Description: Introdução ao Redis\n",
            "Filename: redis_intro.pdf\n",
            "Date: 2023-10-01\n",
            "\n"
          ]
        }
      ]
    }
  ]
}